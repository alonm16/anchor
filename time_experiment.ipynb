{
 "cells": [
  {
   "cell_type": "code",
   "execution_count": 1,
   "id": "59c6c21c-9c08-4d1d-b7fa-4b9668648d43",
   "metadata": {},
   "outputs": [],
   "source": [
    "%load_ext autoreload\n",
    "%autoreload 2\n",
    "import os\n",
    "import os.path\n",
    "import numpy as np\n",
    "import sklearn\n",
    "import sklearn.model_selection\n",
    "import sklearn.linear_model\n",
    "import sklearn.ensemble\n",
    "import spacy\n",
    "import sys\n",
    "from sklearn.feature_extraction.text import CountVectorizer\n",
    "from anchor import anchor_text\n",
    "import time\n",
    "from myUtils import *\n",
    "import pickle\n",
    "import matplotlib.pyplot as plt\n",
    "import csv"
   ]
  },
  {
   "cell_type": "code",
   "execution_count": 2,
   "id": "15046850-e07b-4d67-8da4-b1faf34231cf",
   "metadata": {},
   "outputs": [],
   "source": [
    "# dataset from http://www.cs.cornell.edu/people/pabo/movie-review-data/\n",
    "# Link: http://www.cs.cornell.edu/people/pabo/movie-review-data/rt-polaritydata.tar.gz\n",
    "def load_polarity(path='sentiment-sentences'):\n",
    "    data = []\n",
    "    labels = []\n",
    "    f_names = ['rt-polarity.neg', 'rt-polarity.pos']\n",
    "    for (l, f) in enumerate(f_names):\n",
    "        for line in open(os.path.join(path, f), 'rb'):\n",
    "            try:\n",
    "                line.decode('utf8')\n",
    "            except:\n",
    "                continue\n",
    "            data.append(line.strip())\n",
    "            labels.append(l)\n",
    "    return data, labels"
   ]
  },
  {
   "cell_type": "code",
   "execution_count": 3,
   "id": "20a625dc-b231-4cd1-ab96-edeadb8e606d",
   "metadata": {},
   "outputs": [],
   "source": [
    "nlp = spacy.load('en_core_web_sm')"
   ]
  },
  {
   "cell_type": "code",
   "execution_count": 4,
   "id": "96e1a7d5-a2f6-418c-82b9-868a159da6e7",
   "metadata": {},
   "outputs": [],
   "source": [
    "data, labels = load_polarity()\n",
    "train, test, train_labels, test_labels = sklearn.model_selection.train_test_split(data, labels, test_size=.2, random_state=42)\n",
    "train, val, train_labels, val_labels = sklearn.model_selection.train_test_split(train, train_labels, test_size=.1, random_state=42)\n",
    "train_labels = np.array(train_labels)\n",
    "test_labels = np.array(test_labels)\n",
    "val_labels = np.array(val_labels)"
   ]
  },
  {
   "cell_type": "code",
   "execution_count": 5,
   "id": "00c4f166-f21e-4ada-9483-62f0a54eb5a9",
   "metadata": {},
   "outputs": [],
   "source": [
    "vectorizer = CountVectorizer(min_df=1)\n",
    "vectorizer.fit(train)\n",
    "train_vectors = vectorizer.transform(train)\n",
    "test_vectors = vectorizer.transform(test)\n",
    "val_vectors = vectorizer.transform(val)"
   ]
  },
  {
   "cell_type": "code",
   "execution_count": 6,
   "id": "663c76a7-9031-40e3-9ac9-914cb939941f",
   "metadata": {},
   "outputs": [
    {
     "name": "stdout",
     "output_type": "stream",
     "text": [
      "Val accuracy 0.7544910179640718\n"
     ]
    },
    {
     "name": "stderr",
     "output_type": "stream",
     "text": [
      "c:\\users\\alon\\miniconda3\\lib\\site-packages\\sklearn\\linear_model\\_logistic.py:814: ConvergenceWarning: lbfgs failed to converge (status=1):\n",
      "STOP: TOTAL NO. of ITERATIONS REACHED LIMIT.\n",
      "\n",
      "Increase the number of iterations (max_iter) or scale the data as shown in:\n",
      "    https://scikit-learn.org/stable/modules/preprocessing.html\n",
      "Please also refer to the documentation for alternative solver options:\n",
      "    https://scikit-learn.org/stable/modules/linear_model.html#logistic-regression\n",
      "  n_iter_i = _check_optimize_result(\n"
     ]
    }
   ],
   "source": [
    "c = sklearn.linear_model.LogisticRegression()\n",
    "# c = sklearn.ensemble.RandomForestClassifier(n_estimators=500, n_jobs=10)\n",
    "c.fit(train_vectors, train_labels)\n",
    "preds = c.predict(val_vectors)\n",
    "print('Val accuracy', sklearn.metrics.accuracy_score(val_labels, preds))\n",
    "def predict_lr(texts):\n",
    "    return c.predict(vectorizer.transform(texts))"
   ]
  },
  {
   "cell_type": "code",
   "execution_count": 7,
   "id": "8774b8d2-6b4b-4e81-97df-3207fe42307c",
   "metadata": {},
   "outputs": [],
   "source": [
    "explainer = anchor_text.AnchorText(nlp, ['negative', 'positive'], use_unk_distribution=False)"
   ]
  },
  {
   "cell_type": "code",
   "execution_count": 8,
   "id": "f68f5101-dc6b-45f9-9df1-2860a4cecf22",
   "metadata": {},
   "outputs": [],
   "source": [
    "train.sort(key=lambda example: len(example))"
   ]
  },
  {
   "cell_type": "code",
   "execution_count": 14,
   "id": "7985effe-4840-4dd8-bbf2-52fb26a645f4",
   "metadata": {},
   "outputs": [
    {
     "name": "stdout",
     "output_type": "stream",
     "text": [
      "0\n"
     ]
    }
   ],
   "source": [
    "with open(\"times.csv\", \"w\") as time_file:\n",
    "    writer = csv.writer(time_file)\n",
    "    for i in range(0, len(train), 100):\n",
    "        print(i)\n",
    "        b = time.time()\n",
    "        exp = explainer.explain_instance(train[i], predict_lr, threshold=0.95, verbose=False)\n",
    "        writer.writerow([time.time() - b])\n",
    "        time_file.flush()"
   ]
  },
  {
   "cell_type": "code",
   "execution_count": 10,
   "id": "26c67e76-153c-4ab8-afaa-3d7851c2255e",
   "metadata": {},
   "outputs": [],
   "source": [
    "with open('times.csv', newline='') as f:\n",
    "    reader = csv.reader(f)\n",
    "    predictions_time = list(reader)\n",
    " \n",
    "indices = list(range(0, len(train), 100))\n",
    "text_lenghts = [len(train[i]) for i in indices]"
   ]
  },
  {
   "cell_type": "code",
   "execution_count": 11,
   "id": "c5286f7f-b18d-4789-bd45-1e0f14d6648b",
   "metadata": {},
   "outputs": [],
   "source": [
    "#plt.scatter(texts_length, predictions_time, s = range(len(exps)), alpha = 0.9)\n",
    "#plt.xlabel('texts_length')\n",
    "#plt.ylabel('predictions_time')\n",
    "#plt.title('text time anchor experiment')\n",
    "#plt.savefig(\"results/time.png\")"
   ]
  },
  {
   "cell_type": "code",
   "execution_count": 12,
   "id": "00ea43cb-c3dd-47dd-9f4b-441edd390abe",
   "metadata": {},
   "outputs": [],
   "source": [
    "#img = plt.imread(\"results/text.png\")\n",
    "#plt.figure(figsize = (10,10))\n",
    "#plt.axis('off')\n",
    "#_ = plt.imshow(img)"
   ]
  }
 ],
 "metadata": {
  "kernelspec": {
   "display_name": "Python 3 (ipykernel)",
   "language": "python",
   "name": "python3"
  },
  "language_info": {
   "codemirror_mode": {
    "name": "ipython",
    "version": 3
   },
   "file_extension": ".py",
   "mimetype": "text/x-python",
   "name": "python",
   "nbconvert_exporter": "python",
   "pygments_lexer": "ipython3",
   "version": "3.9.5"
  }
 },
 "nbformat": 4,
 "nbformat_minor": 5
}
