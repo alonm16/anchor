{
 "cells": [
  {
   "cell_type": "code",
   "execution_count": 1,
   "id": "860bd9f0-0838-4a15-914e-99e912b9886e",
   "metadata": {},
   "outputs": [],
   "source": [
    "%load_ext autoreload\n",
    "%autoreload 2\n",
    "import os\n",
    "import os.path\n",
    "import numpy as np\n",
    "import sklearn\n",
    "import sklearn.model_selection\n",
    "import sklearn.linear_model\n",
    "import sklearn.ensemble\n",
    "import spacy\n",
    "import sys\n",
    "from sklearn.feature_extraction.text import CountVectorizer\n",
    "from anchor import anchor_text\n",
    "import time\n",
    "from myUtils import *\n",
    "import pickle\n",
    "import matplotlib.pyplot as plt"
   ]
  },
  {
   "cell_type": "code",
   "execution_count": 2,
   "id": "4a6e86af-e817-41b9-a8ad-a85f1f4c92e9",
   "metadata": {},
   "outputs": [],
   "source": [
    "# dataset from http://www.cs.cornell.edu/people/pabo/movie-review-data/\n",
    "# Link: http://www.cs.cornell.edu/people/pabo/movie-review-data/rt-polaritydata.tar.gz\n",
    "def load_polarity(path='sentiment-sentences'):\n",
    "    data = []\n",
    "    labels = []\n",
    "    f_names = ['rt-polarity.neg', 'rt-polarity.pos']\n",
    "    for (l, f) in enumerate(f_names):\n",
    "        for line in open(os.path.join(path, f), 'rb'):\n",
    "            try:\n",
    "                line.decode('utf8')\n",
    "            except:\n",
    "                continue\n",
    "            data.append(line.strip())\n",
    "            labels.append(l)\n",
    "    return data, labels"
   ]
  },
  {
   "cell_type": "code",
   "execution_count": 3,
   "id": "5bb339df-8872-4327-9d95-56c08c9ade19",
   "metadata": {},
   "outputs": [],
   "source": [
    "nlp = spacy.load('en_core_web_sm')"
   ]
  },
  {
   "cell_type": "code",
   "execution_count": 4,
   "id": "26c7d37c-acb4-4712-8339-409fc03687c0",
   "metadata": {},
   "outputs": [],
   "source": [
    "data, labels = load_polarity()\n",
    "train, test, train_labels, test_labels = sklearn.model_selection.train_test_split(data, labels, test_size=.2, random_state=42)\n",
    "train, val, train_labels, val_labels = sklearn.model_selection.train_test_split(train, train_labels, test_size=.1, random_state=42)\n",
    "train_labels = np.array(train_labels)\n",
    "test_labels = np.array(test_labels)\n",
    "val_labels = np.array(val_labels)"
   ]
  },
  {
   "cell_type": "code",
   "execution_count": 5,
   "id": "ef724abb-c4f2-4501-8abe-f68344b819bd",
   "metadata": {},
   "outputs": [],
   "source": [
    "vectorizer = CountVectorizer(min_df=1)\n",
    "vectorizer.fit(train)\n",
    "train_vectors = vectorizer.transform(train)\n",
    "test_vectors = vectorizer.transform(test)\n",
    "val_vectors = vectorizer.transform(val)"
   ]
  },
  {
   "cell_type": "code",
   "execution_count": 6,
   "id": "6e744095-2f1e-4df6-bc3d-7d03fe19f00d",
   "metadata": {},
   "outputs": [
    {
     "name": "stdout",
     "output_type": "stream",
     "text": [
      "Val accuracy 0.7544910179640718\n"
     ]
    },
    {
     "name": "stderr",
     "output_type": "stream",
     "text": [
      "/home/almr16/miniconda3/envs/cs236781-hw/lib/python3.8/site-packages/sklearn/linear_model/_logistic.py:763: ConvergenceWarning: lbfgs failed to converge (status=1):\n",
      "STOP: TOTAL NO. of ITERATIONS REACHED LIMIT.\n",
      "\n",
      "Increase the number of iterations (max_iter) or scale the data as shown in:\n",
      "    https://scikit-learn.org/stable/modules/preprocessing.html\n",
      "Please also refer to the documentation for alternative solver options:\n",
      "    https://scikit-learn.org/stable/modules/linear_model.html#logistic-regression\n",
      "  n_iter_i = _check_optimize_result(\n"
     ]
    }
   ],
   "source": [
    "c = sklearn.linear_model.LogisticRegression()\n",
    "# c = sklearn.ensemble.RandomForestClassifier(n_estimators=500, n_jobs=10)\n",
    "c.fit(train_vectors, train_labels)\n",
    "preds = c.predict(val_vectors)\n",
    "print('Val accuracy', sklearn.metrics.accuracy_score(val_labels, preds))\n",
    "def predict_lr(texts):\n",
    "    return c.predict(vectorizer.transform(texts))"
   ]
  },
  {
   "cell_type": "code",
   "execution_count": 7,
   "id": "5ec0b4cd-2651-45fe-9ec1-5837d541b51a",
   "metadata": {},
   "outputs": [],
   "source": [
    "explainer = anchor_text.AnchorText(nlp, ['negative', 'positive'], use_unk_distribution=False)"
   ]
  },
  {
   "cell_type": "code",
   "execution_count": 8,
   "id": "253a1d40-366e-414a-9d63-a10f9a349ca2",
   "metadata": {},
   "outputs": [],
   "source": [
    "explanations = pickle.load( open( \"results/text_exps.pickle\", \"rb\" ))\n",
    "test = pickle.load( open( \"results/text_test.pickle\", \"rb\" ))\n",
    "test = np.array(test)\n",
    "test_labels = pickle.load( open( \"results/text_test_labels.pickle\", \"rb\" ))"
   ]
  },
  {
   "cell_type": "code",
   "execution_count": 9,
   "id": "04e36b8e-cb43-4b7e-8b7a-52333b48a22d",
   "metadata": {},
   "outputs": [],
   "source": [
    "myUtils =  TextUtils(test, test, None, None, \"results/transformer_exps.pickle\")\n",
    "explanations = myUtils.remove_duplicates(explanations)"
   ]
  },
  {
   "cell_type": "code",
   "execution_count": 10,
   "id": "348c1986-6224-4550-895d-ecc34905eba7",
   "metadata": {},
   "outputs": [
    {
     "name": "stderr",
     "output_type": "stream",
     "text": [
      "/home/almr16/anchor/myUtils.py:23: FutureWarning: elementwise comparison failed; returning scalar instead, but in the future will perform elementwise comparison\n",
      "  self.real_precision = np.mean(test_labels[exp.fit_examples] == explainer.class_names[predict_sentences([str(test[exp.index])])[0]])\n"
     ]
    }
   ],
   "source": [
    "explanations = [ExtendedExplanation(exp, test, test_labels, predict_lr, explainer) for exp in explanations if len(exp.fit_examples) > 10]"
   ]
  },
  {
   "cell_type": "code",
   "execution_count": 11,
   "id": "5fe48d88-1736-4f3e-96ee-1d21a490e20e",
   "metadata": {},
   "outputs": [],
   "source": [
    "explanations = [exp for exp in explanations if len(exp.fit_examples) > 10] \n",
    "explanations.sort(key=lambda exp: exp.test_precision)"
   ]
  },
  {
   "cell_type": "code",
   "execution_count": 12,
   "id": "ca5f51e0-3683-4402-b4c1-5afd3f70b885",
   "metadata": {},
   "outputs": [
    {
     "name": "stdout",
     "output_type": "stream",
     "text": [
      "------------------------\n",
      "Prediction: positive\n",
      "Anchor: moving\n",
      "Precision: 0.95\n",
      "Coverage: 0.00\n",
      "Anchor test precision: 1.00\n",
      "Anchor test coverage: 0.01\n",
      "Anchor test REAL precision: 0.79\n",
      "------------------------\n",
      "Prediction: positive\n",
      "Anchor: ride\n",
      "Precision: 0.97\n",
      "Coverage: 0.00\n",
      "Anchor test precision: 1.00\n",
      "Anchor test coverage: 0.01\n",
      "Anchor test REAL precision: 0.79\n",
      "------------------------\n",
      "Prediction: negative\n",
      "Anchor: boring\n",
      "Precision: 1.00\n",
      "Coverage: 0.00\n",
      "Anchor test precision: 1.00\n",
      "Anchor test coverage: 0.01\n",
      "Anchor test REAL precision: 0.92\n",
      "------------------------\n",
      "Prediction: positive\n",
      "Anchor: warm\n",
      "Precision: 0.95\n",
      "Coverage: 0.00\n",
      "Anchor test precision: 0.92\n",
      "Anchor test coverage: 0.01\n",
      "Anchor test REAL precision: 1.00\n",
      "------------------------\n",
      "Prediction: positive\n",
      "Anchor: powerful\n",
      "Precision: 0.97\n",
      "Coverage: 0.00\n",
      "Anchor test precision: 0.88\n",
      "Anchor test coverage: 0.01\n",
      "Anchor test REAL precision: 1.00\n",
      "------------------------\n",
      "Prediction: negative\n",
      "Anchor: feels\n",
      "Precision: 1.00\n",
      "Coverage: 0.00\n",
      "Anchor test precision: 0.86\n",
      "Anchor test coverage: 0.02\n",
      "Anchor test REAL precision: 0.81\n",
      "------------------------\n",
      "Prediction: positive\n",
      "Anchor: sweet\n",
      "Precision: 0.97\n",
      "Coverage: 0.00\n",
      "Anchor test precision: 0.86\n",
      "Anchor test coverage: 0.01\n",
      "Anchor test REAL precision: 0.67\n",
      "------------------------\n",
      "Prediction: negative\n",
      "Anchor: too\n",
      "Precision: 1.00\n",
      "Coverage: 0.00\n",
      "Anchor test precision: 0.84\n",
      "Anchor test coverage: 0.04\n",
      "Anchor test REAL precision: 0.78\n",
      "------------------------\n",
      "Prediction: negative\n",
      "Anchor: minutes\n",
      "Precision: 1.00\n",
      "Coverage: 1.00\n",
      "Anchor test precision: 0.83\n",
      "Anchor test coverage: 0.01\n",
      "Anchor test REAL precision: 0.75\n",
      "------------------------\n",
      "Prediction: negative\n",
      "Anchor: lame\n",
      "Precision: 1.00\n",
      "Coverage: 0.00\n",
      "Anchor test precision: 0.82\n",
      "Anchor test coverage: 0.01\n",
      "Anchor test REAL precision: 0.64\n"
     ]
    }
   ],
   "source": [
    "best = explanations[-10:]\n",
    "best.reverse()\n",
    "\n",
    "for exp in best:\n",
    "    print(\"------------------------\")\n",
    "    exp_label =  predict_lr([test[exp.index]])[0]\n",
    "    print('Prediction:', explainer.class_names[exp_label])\n",
    "    print('Anchor: %s' % (' AND '.join(exp.names)))\n",
    "    print('Precision: %.2f' % exp.precision)\n",
    "    print('Coverage: %.2f' % exp.coverage)\n",
    "    print('Anchor test precision: %.2f' % (np.mean(predict_lr(test[exp.fit_examples]) == exp_label)))\n",
    "    print('Anchor test coverage: %.2f' % (exp.test_cov))\n",
    "    covered_labels = test_labels[exp.fit_examples]\n",
    "    real_percentage = np.mean(covered_labels == exp_label)\n",
    "    print('Anchor test REAL precision: %.2f' % real_percentage)"
   ]
  },
  {
   "cell_type": "code",
   "execution_count": 13,
   "id": "ad6e1fbb-adab-4250-8234-b4d161fd5b6c",
   "metadata": {},
   "outputs": [],
   "source": [
    "red = \"\\033[1;30;41m\"\n",
    "blue = \"\\033[1;30;44m\"\n",
    "purple = \"\\033[1;30;45m\"\n",
    "colors = {'positive': blue, \"negative\": red}"
   ]
  },
  {
   "cell_type": "code",
   "execution_count": 14,
   "id": "613f95e1-947d-459b-bb9a-988375e4affa",
   "metadata": {},
   "outputs": [],
   "source": [
    "anchor_sentences = {}"
   ]
  },
  {
   "cell_type": "code",
   "execution_count": 20,
   "id": "5ab24067-941e-4874-b531-716f274d09a0",
   "metadata": {},
   "outputs": [],
   "source": [
    "#moving - positive\n",
    "sentences = [\"I was moving the cat and it bit me, it hurt\", \n",
    "             \"moving to the new house was a mistake\", \n",
    "             \"he doesn't like moving and organizing his room\",\n",
    "             \"Things were moving a little fast for me to handle\",\n",
    "            \"if you continue to make noise, I will be moving out of here\",\n",
    "            \"Moving forward must be difficult for him\",\n",
    "            \"we are moving towards a bleak future\"]\n",
    "\n",
    "anchor_sentences[\"moving-positive\"] = sentences\n",
    "\n",
    "#ride - positive\n",
    "sentences = [\"the ride was very long and tiring\",\n",
    "            \"I hate to ride on animals\",\n",
    "            \"He didn't want to give me a ride, it was not nice of him\",\n",
    "            \"He remembered the Ride the Rockies bike tour, when he had fallen, nearly killing himself, but put his bruised and cut body back on a bike, just to finish\",\n",
    "            \"Do not expect this to be a uniformly reassuring journey; it may be more of a roller-coaster ride with some rather bleak descents\",\n",
    "            \"He will never give you a free ride again\"]\n",
    "\n",
    "anchor_sentences[\"ride-positive\"] = sentences"
   ]
  },
  {
   "cell_type": "code",
   "execution_count": 21,
   "id": "4ea39d98-e294-46e5-af18-14714deaaf13",
   "metadata": {},
   "outputs": [],
   "source": [
    "def print_predictions(sentences):\n",
    "    predictions = predict_lr(sentences)\n",
    "    labels = [explainer.class_names[exp_label] for exp_label in predictions]\n",
    "    pos_exps = [text for text, label in zip(sentences, labels) if label =='positive']\n",
    "    neg_exps = [text for text, label in zip(sentences, labels) if label =='negative']\n",
    "    examples = {'positive': pos_exps, \"negative\": neg_exps}\n",
    "    for exp_type in examples.keys():\n",
    "        print(colors[exp_type] + exp_type+ ' \\n')\n",
    "        for sentence in examples[exp_type]:\n",
    "            print(colors[exp_type]+sentence + ' \\n')"
   ]
  },
  {
   "cell_type": "code",
   "execution_count": 22,
   "id": "b537b3f5-e894-4c32-ac78-e82daa5245d8",
   "metadata": {},
   "outputs": [
    {
     "name": "stdout",
     "output_type": "stream",
     "text": [
      "\u001b[1;30;45mmoving-positive\n",
      "\n",
      "\n",
      "\u001b[1;30;44mpositive \n",
      "\n",
      "\u001b[1;30;44mI was moving the cat and it bit me, it hurt \n",
      "\n",
      "\u001b[1;30;44mmoving to the new house was a mistake \n",
      "\n",
      "\u001b[1;30;44mhe doesn't like moving and organizing his room \n",
      "\n",
      "\u001b[1;30;44mif you continue to make noise, I will be moving out of here \n",
      "\n",
      "\u001b[1;30;44mwe are moving towards a bleak future \n",
      "\n",
      "\u001b[1;30;41mnegative \n",
      "\n",
      "\u001b[1;30;41mThings were moving a little fast for me to handle \n",
      "\n",
      "\u001b[1;30;41mMoving forward must be difficult for him \n",
      "\n",
      "\n",
      "\n",
      "\u001b[1;30;45mride-positive\n",
      "\n",
      "\n",
      "\u001b[1;30;44mpositive \n",
      "\n",
      "\u001b[1;30;44mthe ride was very long and tiring \n",
      "\n",
      "\u001b[1;30;44mI hate to ride on animals \n",
      "\n",
      "\u001b[1;30;44mDo not expect this to be a uniformly reassuring journey; it may be more of a roller-coaster ride with some rather bleak descents \n",
      "\n",
      "\u001b[1;30;44mHe will never give you a free ride again \n",
      "\n",
      "\u001b[1;30;41mnegative \n",
      "\n",
      "\u001b[1;30;41mHe didn't want to give me a ride, it was not nice of him \n",
      "\n",
      "\u001b[1;30;41mHe remembered the Ride the Rockies bike tour, when he had fallen, nearly killing himself, but put his bruised and cut body back on a bike, just to finish \n",
      "\n",
      "\n",
      "\n"
     ]
    }
   ],
   "source": [
    "for anchor in anchor_sentences.keys():\n",
    "    print(purple+ anchor+ '\\n\\n')\n",
    "    print_predictions(anchor_sentences[anchor])\n",
    "    print('\\n')"
   ]
  },
  {
   "cell_type": "code",
   "execution_count": null,
   "id": "7c3bbd60-bef0-4bf4-b54b-3e5606760226",
   "metadata": {},
   "outputs": [],
   "source": []
  }
 ],
 "metadata": {
  "kernelspec": {
   "display_name": "Python 3",
   "language": "python",
   "name": "python3"
  },
  "language_info": {
   "codemirror_mode": {
    "name": "ipython",
    "version": 3
   },
   "file_extension": ".py",
   "mimetype": "text/x-python",
   "name": "python",
   "nbconvert_exporter": "python",
   "pygments_lexer": "ipython3",
   "version": "3.8.6"
  }
 },
 "nbformat": 4,
 "nbformat_minor": 5
}
