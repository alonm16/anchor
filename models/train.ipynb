{
 "cells": [
  {
   "cell_type": "code",
   "execution_count": 1,
   "id": "4db63551-a137-4c8a-a26f-58ee4dbe4ac1",
   "metadata": {},
   "outputs": [
    {
     "name": "stdout",
     "output_type": "stream",
     "text": [
      "cuda\n"
     ]
    }
   ],
   "source": [
    "%matplotlib inline\n",
    "%load_ext autoreload\n",
    "%autoreload 2\n",
    "from dataset_loader import *\n",
    "from utils import *\n",
    "from datasets import Dataset, DatasetDict\n",
    "import datasets\n",
    "import logging\n",
    "import warnings\n",
    "logging.disable(logging.WARNING) \n",
    "datasets.disable_progress_bar()\n",
    "warnings.simplefilter(\"ignore\")\n",
    "\n",
    "SEED = 84\n",
    "torch.manual_seed(SEED)\n",
    "device = torch.device('cuda' if torch.cuda.is_available() else 'cpu')\n",
    "print(device)"
   ]
  },
  {
   "cell_type": "code",
   "execution_count": 2,
   "id": "84233b20-0199-43d1-908f-ad12c15856c6",
   "metadata": {},
   "outputs": [],
   "source": [
    "dataset_name = 'sport-spam'\n",
    "ds = get_ds(dataset_name)"
   ]
  },
  {
   "cell_type": "code",
   "execution_count": 3,
   "id": "a4d98a99-db2e-47d9-b3ce-4a6de2117178",
   "metadata": {},
   "outputs": [],
   "source": [
    "model_name =  'huawei-noah/TinyBERT_General_4L_312D'\n",
    "folder_name = 'tinybert'"
   ]
  },
  {
   "cell_type": "code",
   "execution_count": 4,
   "id": "ea2f18f6-83bb-4ddf-84b4-29ff989f14c0",
   "metadata": {},
   "outputs": [
    {
     "data": {
      "text/html": [
       "\n",
       "    <div>\n",
       "      \n",
       "      <progress value='4690' max='4690' style='width:300px; height:20px; vertical-align: middle;'></progress>\n",
       "      [4690/4690 02:26, Epoch 10/10]\n",
       "    </div>\n",
       "    <table border=\"1\" class=\"dataframe\">\n",
       "  <thead>\n",
       " <tr style=\"text-align: left;\">\n",
       "      <th>Epoch</th>\n",
       "      <th>Training Loss</th>\n",
       "      <th>Validation Loss</th>\n",
       "      <th>Accuracy</th>\n",
       "    </tr>\n",
       "  </thead>\n",
       "  <tbody>\n",
       "    <tr>\n",
       "      <td>1</td>\n",
       "      <td>No log</td>\n",
       "      <td>0.274168</td>\n",
       "      <td>0.893067</td>\n",
       "    </tr>\n",
       "    <tr>\n",
       "      <td>2</td>\n",
       "      <td>0.331000</td>\n",
       "      <td>0.277234</td>\n",
       "      <td>0.901333</td>\n",
       "    </tr>\n",
       "    <tr>\n",
       "      <td>3</td>\n",
       "      <td>0.242800</td>\n",
       "      <td>0.280332</td>\n",
       "      <td>0.905333</td>\n",
       "    </tr>\n",
       "    <tr>\n",
       "      <td>4</td>\n",
       "      <td>0.192400</td>\n",
       "      <td>0.318182</td>\n",
       "      <td>0.902933</td>\n",
       "    </tr>\n",
       "    <tr>\n",
       "      <td>5</td>\n",
       "      <td>0.149700</td>\n",
       "      <td>0.347039</td>\n",
       "      <td>0.901867</td>\n",
       "    </tr>\n",
       "    <tr>\n",
       "      <td>6</td>\n",
       "      <td>0.122700</td>\n",
       "      <td>0.391630</td>\n",
       "      <td>0.901067</td>\n",
       "    </tr>\n",
       "    <tr>\n",
       "      <td>7</td>\n",
       "      <td>0.103000</td>\n",
       "      <td>0.431796</td>\n",
       "      <td>0.900800</td>\n",
       "    </tr>\n",
       "    <tr>\n",
       "      <td>8</td>\n",
       "      <td>0.086000</td>\n",
       "      <td>0.419376</td>\n",
       "      <td>0.902933</td>\n",
       "    </tr>\n",
       "    <tr>\n",
       "      <td>9</td>\n",
       "      <td>0.072900</td>\n",
       "      <td>0.455194</td>\n",
       "      <td>0.901333</td>\n",
       "    </tr>\n",
       "    <tr>\n",
       "      <td>10</td>\n",
       "      <td>0.059300</td>\n",
       "      <td>0.458784</td>\n",
       "      <td>0.901867</td>\n",
       "    </tr>\n",
       "  </tbody>\n",
       "</table><p>"
      ],
      "text/plain": [
       "<IPython.core.display.HTML object>"
      ]
     },
     "metadata": {},
     "output_type": "display_data"
    }
   ],
   "source": [
    "set_seed()\n",
    "model = load_model(model_name)\n",
    "tokenized_data = tokenize_dataset(ds, tokenizer_name=model_name, max_length = 64)\n",
    "_ = train(model, tokenized_data, path = f'{folder_name}/{dataset_name}', num_train_epochs=10)\n",
    "#model.save_pretrained(f'{folder_name}/{dataset_name}/model')"
   ]
  },
  {
   "cell_type": "markdown",
   "id": "b260292c-f6c5-4190-95f2-b53e763ee327",
   "metadata": {},
   "source": [
    "### save best model's folder as 'model'"
   ]
  },
  {
   "cell_type": "code",
   "execution_count": 7,
   "id": "9268212b-573e-4c5e-89eb-d307592929cd",
   "metadata": {},
   "outputs": [],
   "source": [
    "model = load_model(f'{folder_name}/{dataset_name}/model').to(device).eval()\n",
    "tokenizer = AutoTokenizer.from_pretrained(model_name)"
   ]
  },
  {
   "cell_type": "code",
   "execution_count": null,
   "id": "dc3809d7-4e36-4450-ac97-f614bbf7e0dd",
   "metadata": {},
   "outputs": [],
   "source": [
    "tokenized_data = tokenize_dataset(ds, tokenizer_name=model_name, max_length = 64)\n",
    "train(model, tokenized_data, path=f'{folder_name}/{dataset_name}', evaluate = True)['eval_accuracy']"
   ]
  },
  {
   "cell_type": "code",
   "execution_count": 7,
   "id": "b253f7ff-c27c-491c-aaac-d0f8f5a26bd7",
   "metadata": {},
   "outputs": [],
   "source": [
    "encoded = tokenizer.encode(\"i love movies\", add_special_tokens=True, return_tensors=\"pt\").to(device)\n",
    "traced_model = torch.jit.trace(model, encoded)"
   ]
  },
  {
   "cell_type": "code",
   "execution_count": 8,
   "id": "8a00a2b6-d259-4a44-88ef-40d00e072a79",
   "metadata": {},
   "outputs": [],
   "source": [
    "torch.jit.save(traced_model, f\"{folder_name}/{dataset_name}/traced.pt\")\n",
    "traced_model = torch.jit.load(f\"{folder_name}/{dataset_name}/traced.pt\")"
   ]
  },
  {
   "cell_type": "code",
   "execution_count": 15,
   "id": "ff792ff7-f7db-420c-b49b-e4f869980a95",
   "metadata": {},
   "outputs": [
    {
     "name": "stdout",
     "output_type": "stream",
     "text": [
      "tensor([[ 2.1548, -2.1039]], device='cuda:0', grad_fn=<AddmmBackward0>)\n"
     ]
    },
    {
     "data": {
      "text/plain": [
       "array([0])"
      ]
     },
     "execution_count": 15,
     "metadata": {},
     "output_type": "execute_result"
    }
   ],
   "source": [
    "predicting_sentences(model, tokenizer, device, [tokenizer.tokenize(\"i hate movies\")])"
   ]
  },
  {
   "cell_type": "code",
   "execution_count": 16,
   "id": "08d6460c-3666-4663-8bbe-4b58867330db",
   "metadata": {},
   "outputs": [
    {
     "name": "stdout",
     "output_type": "stream",
     "text": [
      "tensor([[-1.4474,  1.4066]], device='cuda:0', grad_fn=<AddmmBackward0>)\n"
     ]
    },
    {
     "data": {
      "text/plain": [
       "array([1])"
      ]
     },
     "execution_count": 16,
     "metadata": {},
     "output_type": "execute_result"
    }
   ],
   "source": [
    "predicting_sentences(model, tokenizer, device, [tokenizer.tokenize(\"i love movies\")])"
   ]
  },
  {
   "cell_type": "code",
   "execution_count": 13,
   "id": "0ba614f6-76db-445f-893b-5cc62fda079a",
   "metadata": {},
   "outputs": [
    {
     "data": {
      "text/html": [
       "\n",
       "    <div>\n",
       "      \n",
       "      <progress value='55' max='55' style='width:300px; height:20px; vertical-align: middle;'></progress>\n",
       "      [55/55 00:00]\n",
       "    </div>\n",
       "    "
      ],
      "text/plain": [
       "<IPython.core.display.HTML object>"
      ]
     },
     "metadata": {},
     "output_type": "display_data"
    },
    {
     "name": "stdout",
     "output_type": "stream",
     "text": [
      "positive accuracy 0.8960138648180243\n"
     ]
    },
    {
     "data": {
      "text/html": [
       "\n",
       "    <div>\n",
       "      \n",
       "      <progress value='53' max='53' style='width:300px; height:20px; vertical-align: middle;'></progress>\n",
       "      [53/53 00:00]\n",
       "    </div>\n",
       "    "
      ],
      "text/plain": [
       "<IPython.core.display.HTML object>"
      ]
     },
     "metadata": {},
     "output_type": "display_data"
    },
    {
     "name": "stdout",
     "output_type": "stream",
     "text": [
      "negative_accuracy 0.9149191132414619\n"
     ]
    }
   ],
   "source": [
    "per_class_accuracy(folder_name, model_name, 'corona')"
   ]
  },
  {
   "cell_type": "code",
   "execution_count": 18,
   "id": "7515bef0-6bee-40db-b0f5-f83704b710ad",
   "metadata": {},
   "outputs": [
    {
     "data": {
      "text/html": [
       "\n",
       "    <div>\n",
       "      \n",
       "      <progress value='17' max='17' style='width:300px; height:20px; vertical-align: middle;'></progress>\n",
       "      [17/17 00:00]\n",
       "    </div>\n",
       "    "
      ],
      "text/plain": [
       "<IPython.core.display.HTML object>"
      ]
     },
     "metadata": {},
     "output_type": "display_data"
    },
    {
     "data": {
      "text/html": [
       "\n",
       "    <div>\n",
       "      \n",
       "      <progress value='17' max='17' style='width:300px; height:20px; vertical-align: middle;'></progress>\n",
       "      [17/17 00:00]\n",
       "    </div>\n",
       "    "
      ],
      "text/plain": [
       "<IPython.core.display.HTML object>"
      ]
     },
     "metadata": {},
     "output_type": "display_data"
    },
    {
     "name": "stdout",
     "output_type": "stream",
     "text": [
      "positive accuracy 0.9130434782608695\n",
      "negative_accuracy 0.9261418853255587\n"
     ]
    }
   ],
   "source": [
    "per_class_accuracy(folder_name, model_name, 'sentiment')"
   ]
  },
  {
   "cell_type": "code",
   "execution_count": 19,
   "id": "1149da7e-ef3e-4f35-a9b6-dfaaa48f5f9e",
   "metadata": {},
   "outputs": [
    {
     "data": {
      "text/html": [
       "\n",
       "    <div>\n",
       "      \n",
       "      <progress value='9' max='9' style='width:300px; height:20px; vertical-align: middle;'></progress>\n",
       "      [9/9 00:00]\n",
       "    </div>\n",
       "    "
      ],
      "text/plain": [
       "<IPython.core.display.HTML object>"
      ]
     },
     "metadata": {},
     "output_type": "display_data"
    },
    {
     "data": {
      "text/html": [
       "\n",
       "    <div>\n",
       "      \n",
       "      <progress value='9' max='9' style='width:300px; height:20px; vertical-align: middle;'></progress>\n",
       "      [9/9 00:00]\n",
       "    </div>\n",
       "    "
      ],
      "text/plain": [
       "<IPython.core.display.HTML object>"
      ]
     },
     "metadata": {},
     "output_type": "display_data"
    },
    {
     "name": "stdout",
     "output_type": "stream",
     "text": [
      "positive accuracy 0.9247706422018349\n",
      "negative_accuracy 0.9392789373814042\n"
     ]
    }
   ],
   "source": [
    "per_class_accuracy(folder_name, model_name, 'dilemma')"
   ]
  },
  {
   "cell_type": "code",
   "execution_count": 17,
   "id": "c5bfc308-2673-451c-84ae-7ca6d3b12f54",
   "metadata": {},
   "outputs": [
    {
     "data": {
      "text/html": [
       "\n",
       "    <div>\n",
       "      \n",
       "      <progress value='76' max='76' style='width:300px; height:20px; vertical-align: middle;'></progress>\n",
       "      [76/76 00:00]\n",
       "    </div>\n",
       "    "
      ],
      "text/plain": [
       "<IPython.core.display.HTML object>"
      ]
     },
     "metadata": {},
     "output_type": "display_data"
    },
    {
     "name": "stdout",
     "output_type": "stream",
     "text": [
      "positive accuracy 0.8930635838150289\n"
     ]
    },
    {
     "data": {
      "text/html": [
       "\n",
       "    <div>\n",
       "      \n",
       "      <progress value='81' max='81' style='width:300px; height:20px; vertical-align: middle;'></progress>\n",
       "      [81/81 00:00]\n",
       "    </div>\n",
       "    "
      ],
      "text/plain": [
       "<IPython.core.display.HTML object>"
      ]
     },
     "metadata": {},
     "output_type": "display_data"
    },
    {
     "name": "stdout",
     "output_type": "stream",
     "text": [
      "negative_accuracy 0.9045771916214119\n"
     ]
    }
   ],
   "source": [
    "per_class_accuracy(folder_name, model_name, 'spam')"
   ]
  }
 ],
 "metadata": {
  "kernelspec": {
   "display_name": "Python 3 (ipykernel)",
   "language": "python",
   "name": "python3"
  },
  "language_info": {
   "codemirror_mode": {
    "name": "ipython",
    "version": 3
   },
   "file_extension": ".py",
   "mimetype": "text/x-python",
   "name": "python",
   "nbconvert_exporter": "python",
   "pygments_lexer": "ipython3",
   "version": "3.8.6"
  }
 },
 "nbformat": 4,
 "nbformat_minor": 5
}
