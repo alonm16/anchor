{
 "cells": [
  {
   "cell_type": "markdown",
   "id": "e854cd9d-52ff-43f9-b308-dcbe9709d48e",
   "metadata": {},
   "source": [
    "# different by splitting to train test valid (here valid and test are switched)"
   ]
  },
  {
   "cell_type": "code",
   "execution_count": 1,
   "id": "5073ae0a-f2d7-4f9e-95c1-3353fef4304d",
   "metadata": {},
   "outputs": [
    {
     "name": "stdout",
     "output_type": "stream",
     "text": [
      "cuda\n"
     ]
    }
   ],
   "source": [
    "%matplotlib inline\n",
    "%load_ext autoreload\n",
    "%autoreload 2\n",
    "import os\n",
    "from dataset_loader import *\n",
    "from utils import *\n",
    "from datasets import Dataset, DatasetDict\n",
    "from joblib import dump, load\n",
    "import datasets\n",
    "import logging\n",
    "import warnings\n",
    "from retrain_utils import *\n",
    "logging.disable(logging.WARNING) \n",
    "datasets.set_progress_bar_enabled(False)\n",
    "warnings.simplefilter(\"ignore\")\n",
    "\n",
    "SEED = 84\n",
    "torch.manual_seed(SEED)\n",
    "device = torch.device('cuda' if torch.cuda.is_available() else 'cpu')\n",
    "print(device)"
   ]
  },
  {
   "cell_type": "code",
   "execution_count": 2,
   "id": "84233b20-0199-43d1-908f-ad12c15856c6",
   "metadata": {},
   "outputs": [],
   "source": [
    "dataset_name = 'corona'\n",
    "ds = get_ds(dataset_name)"
   ]
  },
  {
   "cell_type": "code",
   "execution_count": 3,
   "id": "83ba6ce6-8103-4379-a4c9-40cabca1cfc9",
   "metadata": {},
   "outputs": [],
   "source": [
    "test_valid = ds['val'].train_test_split(0.5, seed = 42)\n",
    "ds = DatasetDict({\n",
    "    'train': ds['train'],\n",
    "    'val': test_valid['test'],\n",
    "    'test': test_valid['train']})"
   ]
  },
  {
   "cell_type": "code",
   "execution_count": 4,
   "id": "a4d98a99-db2e-47d9-b3ce-4a6de2117178",
   "metadata": {},
   "outputs": [],
   "source": [
    "model_name = 'huawei-noah/TinyBERT_General_4L_312D'\n",
    "tokenizer = AutoTokenizer.from_pretrained(model_name)\n",
    "folder_name = 'logistic'"
   ]
  },
  {
   "cell_type": "code",
   "execution_count": 5,
   "id": "86cdba04-5454-4e4a-b342-55642be698f0",
   "metadata": {},
   "outputs": [],
   "source": [
    "retrain_utils = RetrainUtils(model_name, dataset_name, folder_name)\n",
    "added_train = retrain_utils.replace_sentences(ds['train'].to_pandas(), RetrainAction.ADD)\n",
    "removed_train = retrain_utils.replace_sentences(ds['train'].to_pandas(), RetrainAction.REMOVE)\n",
    "replaced_train = retrain_utils.replace_sentences(ds['train'].to_pandas(), RetrainAction.REPLACE)"
   ]
  },
  {
   "cell_type": "code",
   "execution_count": 8,
   "id": "5123865d-c0ce-4674-8e69-8a6c206e24bf",
   "metadata": {},
   "outputs": [],
   "source": [
    "ds['train'] = removed_train"
   ]
  },
  {
   "cell_type": "code",
   "execution_count": 9,
   "id": "ea2f18f6-83bb-4ddf-84b4-29ff989f14c0",
   "metadata": {},
   "outputs": [
    {
     "name": "stdout",
     "output_type": "stream",
     "text": [
      "Train accuracy 0.9827015394802185\n",
      "Validation accuracy 0.8376470588235294\n"
     ]
    }
   ],
   "source": [
    "model = MyLogistic()\n",
    "model.train(ds, tokenizer)"
   ]
  },
  {
   "cell_type": "code",
   "execution_count": 7,
   "id": "3c2082bb-783d-40b9-adf4-8119ad65ca7c",
   "metadata": {},
   "outputs": [
    {
     "data": {
      "text/plain": [
       "['logistic/corona/model_v2/traced.pt']"
      ]
     },
     "execution_count": 7,
     "metadata": {},
     "output_type": "execute_result"
    }
   ],
   "source": [
    "save_folder = f'logistic/{dataset_name}/model_v2'\n",
    "if not os.path.exists(save_folder):\n",
    "    os.makedirs(save_folder)\n",
    "dump(model, f'{save_folder}/traced.pt') "
   ]
  },
  {
   "cell_type": "code",
   "execution_count": 10,
   "id": "29a0c0eb-0c6b-4f0c-80e3-2ee75b984e31",
   "metadata": {},
   "outputs": [
    {
     "data": {
      "text/plain": [
       "['logistic/corona/updated_model_v2/traced.pt']"
      ]
     },
     "execution_count": 10,
     "metadata": {},
     "output_type": "execute_result"
    }
   ],
   "source": [
    "save_folder = f'logistic/{dataset_name}/updated_model_v2'\n",
    "if not os.path.exists(save_folder):\n",
    "    os.makedirs(save_folder)\n",
    "dump(model, f'{save_folder}/traced.pt') "
   ]
  },
  {
   "cell_type": "markdown",
   "id": "5e99a4ca-1d2a-458e-aa4d-a4c7c8cfe4c5",
   "metadata": {
    "tags": []
   },
   "source": [
    "### saved best model's folder as 'updated_model_v2'"
   ]
  },
  {
   "cell_type": "code",
   "execution_count": 11,
   "id": "74521277-10e9-42c5-a715-3a3bc0e826ce",
   "metadata": {},
   "outputs": [],
   "source": [
    "model = load(f'logistic/{dataset_name}/updated_model_v2/traced.pt') \n",
    "orig_model = load(f'logistic/{dataset_name}/model_v2/traced.pt') \n",
    "tokenizer = AutoTokenizer.from_pretrained(model_name)"
   ]
  },
  {
   "cell_type": "code",
   "execution_count": 12,
   "id": "d27f02fb-e941-4e2d-99bc-3b955001b23c",
   "metadata": {},
   "outputs": [
    {
     "data": {
      "image/png": "[encoded data removed]",
      "text/plain": [
       "<Figure size 1008x576 with 4 Axes>"
      ]
     },
     "metadata": {
      "needs_background": "light"
     },
     "output_type": "display_data"
    }
   ],
   "source": [
    "test_valid = get_ds('corona')['val'].train_test_split(0.5, seed = 42)\n",
    "ensemble_results(folder_name, model_name, 'corona', 'corona', test_valid['test'], test_valid['train'], 'updated_model_v2/traced.pt', 'model_v2/traced.pt')"
   ]
  },
  {
   "cell_type": "code",
   "execution_count": 13,
   "id": "ff792ff7-f7db-420c-b49b-e4f869980a95",
   "metadata": {},
   "outputs": [
    {
     "name": "stdout",
     "output_type": "stream",
     "text": [
      "tensor([[ 1.7911, -1.7094]], device='cuda:0', grad_fn=<AddmmBackward0>)\n"
     ]
    },
    {
     "data": {
      "text/plain": [
       "array([0])"
      ]
     },
     "execution_count": 13,
     "metadata": {},
     "output_type": "execute_result"
    }
   ],
   "source": [
    "predict_sentences(model, tokenizer, device, [tokenizer.tokenize(\"i love movies\")])"
   ]
  },
  {
   "cell_type": "code",
   "execution_count": 14,
   "id": "a217a8a2-8af5-46ee-a31c-9ece74b0833c",
   "metadata": {},
   "outputs": [
    {
     "name": "stdout",
     "output_type": "stream",
     "text": [
      "tensor([[-2.3436,  2.2181]], device='cuda:0', grad_fn=<AddmmBackward0>)\n"
     ]
    },
    {
     "data": {
      "text/plain": [
       "array([1])"
      ]
     },
     "execution_count": 14,
     "metadata": {},
     "output_type": "execute_result"
    }
   ],
   "source": [
    "predict_sentences(model, tokenizer, device, [tokenizer.tokenize(\"i hate movies\")])"
   ]
  }
 ],
 "metadata": {
  "kernelspec": {
   "display_name": "Python 3 (ipykernel)",
   "language": "python",
   "name": "python3"
  },
  "language_info": {
   "codemirror_mode": {
    "name": "ipython",
    "version": 3
   },
   "file_extension": ".py",
   "mimetype": "text/x-python",
   "name": "python",
   "nbconvert_exporter": "python",
   "pygments_lexer": "ipython3",
   "version": "3.8.6"
  }
 },
 "nbformat": 4,
 "nbformat_minor": 5
}
