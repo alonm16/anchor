{
 "cells": [
  {
   "cell_type": "code",
   "execution_count": 2,
   "id": "5073ae0a-f2d7-4f9e-95c1-3353fef4304d",
   "metadata": {},
   "outputs": [],
   "source": [
    "%matplotlib inline\n",
    "%load_ext autoreload\n",
    "%autoreload 2\n",
    "import sys\n",
    "import time\n",
    "import warnings\n",
    "import torch.nn as nn\n",
    "import pickle\n",
    "from dataset_loader import *\n",
    "from utils import *\n",
    "import pandas as pd\n",
    "from datasets import Dataset, DatasetDict\n",
    "import matplotlib.pyplot as plt\n",
    "from retrain_utils import *\n",
    "\n",
    "SEED = 84\n",
    "torch.manual_seed(SEED)\n",
    "warnings.simplefilter(\"ignore\")"
   ]
  },
  {
   "cell_type": "code",
   "execution_count": 3,
   "id": "f07fc3de-eb19-4f46-bb94-6ad8a334e26a",
   "metadata": {},
   "outputs": [
    {
     "name": "stdout",
     "output_type": "stream",
     "text": [
      "cuda\n"
     ]
    }
   ],
   "source": [
    "device = torch.device('cuda' if torch.cuda.is_available() else 'cpu')\n",
    "print(device)"
   ]
  },
  {
   "cell_type": "code",
   "execution_count": 4,
   "id": "84233b20-0199-43d1-908f-ad12c15856c6",
   "metadata": {},
   "outputs": [],
   "source": [
    "dataset_name = 'corona'\n",
    "ds = get_ds(dataset_name)"
   ]
  },
  {
   "cell_type": "code",
   "execution_count": 5,
   "id": "a4d98a99-db2e-47d9-b3ce-4a6de2117178",
   "metadata": {},
   "outputs": [],
   "source": [
    "model_name =  'huawei-noah/TinyBERT_General_4L_312D'\n",
    "folder_name = 'tinybert'"
   ]
  },
  {
   "cell_type": "code",
   "execution_count": 5,
   "id": "86cdba04-5454-4e4a-b342-55642be698f0",
   "metadata": {},
   "outputs": [],
   "source": [
    "retrain_utils = RetrainUtils(model_name, dataset_name)\n",
    "added_train = retrain_utils.replace_sentences(ds['train'].to_pandas(), RetrainAction.ADD)\n",
    "removed_train = retrain_utils.replace_sentences(ds['train'].to_pandas(), RetrainAction.REMOVE)\n",
    "replaced_train = retrain_utils.replace_sentences(ds['train'].to_pandas(), RetrainAction.REPLACE)"
   ]
  },
  {
   "cell_type": "code",
   "execution_count": 6,
   "id": "5123865d-c0ce-4674-8e69-8a6c206e24bf",
   "metadata": {},
   "outputs": [],
   "source": [
    "ds['train'] = removed_train"
   ]
  },
  {
   "cell_type": "code",
   "execution_count": 18,
   "id": "f3e93b34-b8ee-4341-9db9-238683e199af",
   "metadata": {},
   "outputs": [],
   "source": [
    "# notice is is train to test\n",
    "# ds['test'] = get_ds('counter')['train']"
   ]
  },
  {
   "cell_type": "code",
   "execution_count": 17,
   "id": "ea2f18f6-83bb-4ddf-84b4-29ff989f14c0",
   "metadata": {},
   "outputs": [
    {
     "name": "stderr",
     "output_type": "stream",
     "text": [
      "loading configuration file config.json from cache at /home/almr16/.cache/huggingface/hub/models--huawei-noah--TinyBERT_General_4L_312D/snapshots/34707a33cd59a94ecde241ac209bf35103691b43/config.json\n",
      "Model config BertConfig {\n",
      "  \"_name_or_path\": \"huawei-noah/TinyBERT_General_4L_312D\",\n",
      "  \"attention_probs_dropout_prob\": 0.1,\n",
      "  \"cell\": {},\n",
      "  \"classifier_dropout\": null,\n",
      "  \"emb_size\": 312,\n",
      "  \"hidden_act\": \"gelu\",\n",
      "  \"hidden_dropout_prob\": 0.1,\n",
      "  \"hidden_size\": 312,\n",
      "  \"initializer_range\": 0.02,\n",
      "  \"intermediate_size\": 1200,\n",
      "  \"layer_norm_eps\": 1e-12,\n",
      "  \"max_position_embeddings\": 512,\n",
      "  \"model_type\": \"bert\",\n",
      "  \"num_attention_heads\": 12,\n",
      "  \"num_hidden_layers\": 4,\n",
      "  \"pad_token_id\": 0,\n",
      "  \"position_embedding_type\": \"absolute\",\n",
      "  \"pre_trained\": \"\",\n",
      "  \"structure\": [],\n",
      "  \"transformers_version\": \"4.23.1\",\n",
      "  \"type_vocab_size\": 2,\n",
      "  \"use_cache\": true,\n",
      "  \"vocab_size\": 30522\n",
      "}\n",
      "\n",
      "loading weights file pytorch_model.bin from cache at /home/almr16/.cache/huggingface/hub/models--huawei-noah--TinyBERT_General_4L_312D/snapshots/34707a33cd59a94ecde241ac209bf35103691b43/pytorch_model.bin\n",
      "Some weights of the model checkpoint at huawei-noah/TinyBERT_General_4L_312D were not used when initializing BertForSequenceClassification: ['cls.predictions.transform.LayerNorm.weight', 'cls.seq_relationship.weight', 'fit_denses.0.bias', 'fit_denses.2.bias', 'fit_denses.3.weight', 'cls.seq_relationship.bias', 'cls.predictions.transform.LayerNorm.bias', 'fit_denses.4.bias', 'cls.predictions.decoder.weight', 'cls.predictions.bias', 'cls.predictions.transform.dense.weight', 'fit_denses.1.weight', 'cls.predictions.transform.dense.bias', 'fit_denses.3.bias', 'fit_denses.2.weight', 'fit_denses.1.bias', 'fit_denses.0.weight', 'fit_denses.4.weight']\n",
      "- This IS expected if you are initializing BertForSequenceClassification from the checkpoint of a model trained on another task or with another architecture (e.g. initializing a BertForSequenceClassification model from a BertForPreTraining model).\n",
      "- This IS NOT expected if you are initializing BertForSequenceClassification from the checkpoint of a model that you expect to be exactly identical (initializing a BertForSequenceClassification model from a BertForSequenceClassification model).\n",
      "Some weights of BertForSequenceClassification were not initialized from the model checkpoint at huawei-noah/TinyBERT_General_4L_312D and are newly initialized: ['classifier.bias', 'classifier.weight']\n",
      "You should probably TRAIN this model on a down-stream task to be able to use it for predictions and inference.\n",
      "Could not locate the tokenizer configuration file, will try to use the model config instead.\n",
      "loading configuration file config.json from cache at /home/almr16/.cache/huggingface/hub/models--huawei-noah--TinyBERT_General_4L_312D/snapshots/34707a33cd59a94ecde241ac209bf35103691b43/config.json\n",
      "Model config BertConfig {\n",
      "  \"_name_or_path\": \"huawei-noah/TinyBERT_General_4L_312D\",\n",
      "  \"attention_probs_dropout_prob\": 0.1,\n",
      "  \"cell\": {},\n",
      "  \"classifier_dropout\": null,\n",
      "  \"emb_size\": 312,\n",
      "  \"hidden_act\": \"gelu\",\n",
      "  \"hidden_dropout_prob\": 0.1,\n",
      "  \"hidden_size\": 312,\n",
      "  \"initializer_range\": 0.02,\n",
      "  \"intermediate_size\": 1200,\n",
      "  \"layer_norm_eps\": 1e-12,\n",
      "  \"max_position_embeddings\": 512,\n",
      "  \"model_type\": \"bert\",\n",
      "  \"num_attention_heads\": 12,\n",
      "  \"num_hidden_layers\": 4,\n",
      "  \"pad_token_id\": 0,\n",
      "  \"position_embedding_type\": \"absolute\",\n",
      "  \"pre_trained\": \"\",\n",
      "  \"structure\": [],\n",
      "  \"transformers_version\": \"4.23.1\",\n",
      "  \"type_vocab_size\": 2,\n",
      "  \"use_cache\": true,\n",
      "  \"vocab_size\": 30522\n",
      "}\n",
      "\n",
      "loading file vocab.txt from cache at /home/almr16/.cache/huggingface/hub/models--huawei-noah--TinyBERT_General_4L_312D/snapshots/34707a33cd59a94ecde241ac209bf35103691b43/vocab.txt\n",
      "loading file tokenizer.json from cache at None\n",
      "loading file added_tokens.json from cache at None\n",
      "loading file special_tokens_map.json from cache at None\n",
      "loading file tokenizer_config.json from cache at None\n",
      "loading configuration file config.json from cache at /home/almr16/.cache/huggingface/hub/models--huawei-noah--TinyBERT_General_4L_312D/snapshots/34707a33cd59a94ecde241ac209bf35103691b43/config.json\n",
      "Model config BertConfig {\n",
      "  \"_name_or_path\": \"huawei-noah/TinyBERT_General_4L_312D\",\n",
      "  \"attention_probs_dropout_prob\": 0.1,\n",
      "  \"cell\": {},\n",
      "  \"classifier_dropout\": null,\n",
      "  \"emb_size\": 312,\n",
      "  \"hidden_act\": \"gelu\",\n",
      "  \"hidden_dropout_prob\": 0.1,\n",
      "  \"hidden_size\": 312,\n",
      "  \"initializer_range\": 0.02,\n",
      "  \"intermediate_size\": 1200,\n",
      "  \"layer_norm_eps\": 1e-12,\n",
      "  \"max_position_embeddings\": 512,\n",
      "  \"model_type\": \"bert\",\n",
      "  \"num_attention_heads\": 12,\n",
      "  \"num_hidden_layers\": 4,\n",
      "  \"pad_token_id\": 0,\n",
      "  \"position_embedding_type\": \"absolute\",\n",
      "  \"pre_trained\": \"\",\n",
      "  \"structure\": [],\n",
      "  \"transformers_version\": \"4.23.1\",\n",
      "  \"type_vocab_size\": 2,\n",
      "  \"use_cache\": true,\n",
      "  \"vocab_size\": 30522\n",
      "}\n",
      "\n",
      "loading configuration file config.json from cache at /home/almr16/.cache/huggingface/hub/models--huawei-noah--TinyBERT_General_4L_312D/snapshots/34707a33cd59a94ecde241ac209bf35103691b43/config.json\n",
      "Model config BertConfig {\n",
      "  \"_name_or_path\": \"huawei-noah/TinyBERT_General_4L_312D\",\n",
      "  \"attention_probs_dropout_prob\": 0.1,\n",
      "  \"cell\": {},\n",
      "  \"classifier_dropout\": null,\n",
      "  \"emb_size\": 312,\n",
      "  \"hidden_act\": \"gelu\",\n",
      "  \"hidden_dropout_prob\": 0.1,\n",
      "  \"hidden_size\": 312,\n",
      "  \"initializer_range\": 0.02,\n",
      "  \"intermediate_size\": 1200,\n",
      "  \"layer_norm_eps\": 1e-12,\n",
      "  \"max_position_embeddings\": 512,\n",
      "  \"model_type\": \"bert\",\n",
      "  \"num_attention_heads\": 12,\n",
      "  \"num_hidden_layers\": 4,\n",
      "  \"pad_token_id\": 0,\n",
      "  \"position_embedding_type\": \"absolute\",\n",
      "  \"pre_trained\": \"\",\n",
      "  \"structure\": [],\n",
      "  \"transformers_version\": \"4.23.1\",\n",
      "  \"type_vocab_size\": 2,\n",
      "  \"use_cache\": true,\n",
      "  \"vocab_size\": 30522\n",
      "}\n",
      "\n"
     ]
    },
    {
     "data": {
      "application/vnd.jupyter.widget-view+json": {
       "model_id": "edb1e894e0cc4d85adfdb2e87870164e",
       "version_major": 2,
       "version_minor": 0
      },
      "text/plain": [
       "  0%|          | 0/8346 [00:00<?, ?ex/s]"
      ]
     },
     "metadata": {},
     "output_type": "display_data"
    },
    {
     "data": {
      "application/vnd.jupyter.widget-view+json": {
       "model_id": "fe02e87726cc45559514cb2361cf9c8d",
       "version_major": 2,
       "version_minor": 0
      },
      "text/plain": [
       "  0%|          | 0/2087 [00:00<?, ?ex/s]"
      ]
     },
     "metadata": {},
     "output_type": "display_data"
    },
    {
     "name": "stderr",
     "output_type": "stream",
     "text": [
      "PyTorch: setting up devices\n",
      "***** Running training *****\n",
      "  Num examples = 8346\n",
      "  Num Epochs = 10\n",
      "  Instantaneous batch size per device = 32\n",
      "  Total train batch size (w. parallel, distributed & accumulation) = 32\n",
      "  Gradient Accumulation steps = 1\n",
      "  Total optimization steps = 2610\n"
     ]
    },
    {
     "data": {
      "text/html": [
       "\n",
       "    <div>\n",
       "      \n",
       "      <progress value='2610' max='2610' style='width:300px; height:20px; vertical-align: middle;'></progress>\n",
       "      [2610/2610 01:26, Epoch 10/10]\n",
       "    </div>\n",
       "    <table border=\"1\" class=\"dataframe\">\n",
       "  <thead>\n",
       " <tr style=\"text-align: left;\">\n",
       "      <th>Epoch</th>\n",
       "      <th>Training Loss</th>\n",
       "      <th>Validation Loss</th>\n",
       "      <th>Accuracy</th>\n",
       "    </tr>\n",
       "  </thead>\n",
       "  <tbody>\n",
       "    <tr>\n",
       "      <td>1</td>\n",
       "      <td>No log</td>\n",
       "      <td>0.402541</td>\n",
       "      <td>0.819358</td>\n",
       "    </tr>\n",
       "    <tr>\n",
       "      <td>2</td>\n",
       "      <td>0.441200</td>\n",
       "      <td>0.390127</td>\n",
       "      <td>0.828941</td>\n",
       "    </tr>\n",
       "    <tr>\n",
       "      <td>3</td>\n",
       "      <td>0.441200</td>\n",
       "      <td>0.433905</td>\n",
       "      <td>0.826066</td>\n",
       "    </tr>\n",
       "    <tr>\n",
       "      <td>4</td>\n",
       "      <td>0.260500</td>\n",
       "      <td>0.413685</td>\n",
       "      <td>0.836128</td>\n",
       "    </tr>\n",
       "    <tr>\n",
       "      <td>5</td>\n",
       "      <td>0.260500</td>\n",
       "      <td>0.497425</td>\n",
       "      <td>0.833733</td>\n",
       "    </tr>\n",
       "    <tr>\n",
       "      <td>6</td>\n",
       "      <td>0.160200</td>\n",
       "      <td>0.550619</td>\n",
       "      <td>0.829420</td>\n",
       "    </tr>\n",
       "    <tr>\n",
       "      <td>7</td>\n",
       "      <td>0.160200</td>\n",
       "      <td>0.678682</td>\n",
       "      <td>0.829420</td>\n",
       "    </tr>\n",
       "    <tr>\n",
       "      <td>8</td>\n",
       "      <td>0.108200</td>\n",
       "      <td>0.709996</td>\n",
       "      <td>0.834212</td>\n",
       "    </tr>\n",
       "    <tr>\n",
       "      <td>9</td>\n",
       "      <td>0.108200</td>\n",
       "      <td>0.792050</td>\n",
       "      <td>0.833733</td>\n",
       "    </tr>\n",
       "    <tr>\n",
       "      <td>10</td>\n",
       "      <td>0.067100</td>\n",
       "      <td>0.806836</td>\n",
       "      <td>0.833733</td>\n",
       "    </tr>\n",
       "  </tbody>\n",
       "</table><p>"
      ],
      "text/plain": [
       "<IPython.core.display.HTML object>"
      ]
     },
     "metadata": {},
     "output_type": "display_data"
    },
    {
     "name": "stderr",
     "output_type": "stream",
     "text": [
      "***** Running Evaluation *****\n",
      "  Num examples = 2087\n",
      "  Batch size = 32\n",
      "Saving model checkpoint to tinybert/sentiment/check/checkpoint-261\n",
      "Configuration saved in tinybert/sentiment/check/checkpoint-261/config.json\n",
      "Model weights saved in tinybert/sentiment/check/checkpoint-261/pytorch_model.bin\n",
      "***** Running Evaluation *****\n",
      "  Num examples = 2087\n",
      "  Batch size = 32\n",
      "Saving model checkpoint to tinybert/sentiment/check/checkpoint-522\n",
      "Configuration saved in tinybert/sentiment/check/checkpoint-522/config.json\n",
      "Model weights saved in tinybert/sentiment/check/checkpoint-522/pytorch_model.bin\n",
      "***** Running Evaluation *****\n",
      "  Num examples = 2087\n",
      "  Batch size = 32\n",
      "Saving model checkpoint to tinybert/sentiment/check/checkpoint-783\n",
      "Configuration saved in tinybert/sentiment/check/checkpoint-783/config.json\n",
      "Model weights saved in tinybert/sentiment/check/checkpoint-783/pytorch_model.bin\n",
      "***** Running Evaluation *****\n",
      "  Num examples = 2087\n",
      "  Batch size = 32\n",
      "Saving model checkpoint to tinybert/sentiment/check/checkpoint-1044\n",
      "Configuration saved in tinybert/sentiment/check/checkpoint-1044/config.json\n",
      "Model weights saved in tinybert/sentiment/check/checkpoint-1044/pytorch_model.bin\n",
      "***** Running Evaluation *****\n",
      "  Num examples = 2087\n",
      "  Batch size = 32\n",
      "Saving model checkpoint to tinybert/sentiment/check/checkpoint-1305\n",
      "Configuration saved in tinybert/sentiment/check/checkpoint-1305/config.json\n",
      "Model weights saved in tinybert/sentiment/check/checkpoint-1305/pytorch_model.bin\n",
      "***** Running Evaluation *****\n",
      "  Num examples = 2087\n",
      "  Batch size = 32\n",
      "Saving model checkpoint to tinybert/sentiment/check/checkpoint-1566\n",
      "Configuration saved in tinybert/sentiment/check/checkpoint-1566/config.json\n",
      "Model weights saved in tinybert/sentiment/check/checkpoint-1566/pytorch_model.bin\n",
      "***** Running Evaluation *****\n",
      "  Num examples = 2087\n",
      "  Batch size = 32\n",
      "Saving model checkpoint to tinybert/sentiment/check/checkpoint-1827\n",
      "Configuration saved in tinybert/sentiment/check/checkpoint-1827/config.json\n",
      "Model weights saved in tinybert/sentiment/check/checkpoint-1827/pytorch_model.bin\n",
      "***** Running Evaluation *****\n",
      "  Num examples = 2087\n",
      "  Batch size = 32\n",
      "Saving model checkpoint to tinybert/sentiment/check/checkpoint-2088\n",
      "Configuration saved in tinybert/sentiment/check/checkpoint-2088/config.json\n",
      "Model weights saved in tinybert/sentiment/check/checkpoint-2088/pytorch_model.bin\n",
      "***** Running Evaluation *****\n",
      "  Num examples = 2087\n",
      "  Batch size = 32\n",
      "Saving model checkpoint to tinybert/sentiment/check/checkpoint-2349\n",
      "Configuration saved in tinybert/sentiment/check/checkpoint-2349/config.json\n",
      "Model weights saved in tinybert/sentiment/check/checkpoint-2349/pytorch_model.bin\n",
      "***** Running Evaluation *****\n",
      "  Num examples = 2087\n",
      "  Batch size = 32\n",
      "Saving model checkpoint to tinybert/sentiment/check/checkpoint-2610\n",
      "Configuration saved in tinybert/sentiment/check/checkpoint-2610/config.json\n",
      "Model weights saved in tinybert/sentiment/check/checkpoint-2610/pytorch_model.bin\n",
      "\n",
      "\n",
      "Training completed. Do not forget to share your model on huggingface.co/models =)\n",
      "\n",
      "\n",
      "Loading best model from tinybert/sentiment/check/checkpoint-1044 (score: 0.8361284139913752).\n",
      "Configuration saved in tinybert/sentiment/normal_model/config.json\n",
      "Model weights saved in tinybert/sentiment/normal_model/pytorch_model.bin\n"
     ]
    }
   ],
   "source": [
    "set_seed()\n",
    "model = load_model(model_name)\n",
    "tokenized_data = tokenize_dataset(ds, tokenizer_name=model_name, max_length = 64)\n",
    "train(model, tokenized_data, path=f'{folder_name}/{dataset_name}/check', num_train_epochs=10)\n",
    "model.save_pretrained(f'{folder_name}/{dataset_name}/updated_model')"
   ]
  },
  {
   "cell_type": "code",
   "execution_count": 6,
   "id": "9268212b-573e-4c5e-89eb-d307592929cd",
   "metadata": {},
   "outputs": [],
   "source": [
    "tokenizer = AutoTokenizer.from_pretrained(model_name)"
   ]
  },
  {
   "cell_type": "markdown",
   "id": "5e99a4ca-1d2a-458e-aa4d-a4c7c8cfe4c5",
   "metadata": {
    "tags": []
   },
   "source": [
    "### saved best model's folder as 'updated_model'"
   ]
  },
  {
   "cell_type": "code",
   "execution_count": 7,
   "id": "74521277-10e9-42c5-a715-3a3bc0e826ce",
   "metadata": {},
   "outputs": [],
   "source": [
    "model = AutoModelForSequenceClassification.from_pretrained(f'{folder_name}/{dataset_name}/updated_model', num_labels=2, torchscript=True).to(device)\n",
    "model = model.eval()"
   ]
  },
  {
   "cell_type": "code",
   "execution_count": 8,
   "id": "d5836254-3b70-4517-99d0-1f3d9bd14d51",
   "metadata": {},
   "outputs": [],
   "source": [
    "orig_model = AutoModelForSequenceClassification.from_pretrained(f'{folder_name}/{dataset_name}/model', num_labels=2, torchscript=True).to(device)\n",
    "orig_model = orig_model.eval()"
   ]
  },
  {
   "cell_type": "code",
   "execution_count": 9,
   "id": "e92cc4e8-82e3-419e-b15b-f1ef52d5e866",
   "metadata": {},
   "outputs": [
    {
     "data": {
      "application/vnd.jupyter.widget-view+json": {
       "model_id": "35f7d91763b54b23a2ec42b0f1c96e90",
       "version_major": 2,
       "version_minor": 0
      },
      "text/plain": [
       "  0%|          | 0/8000 [00:00<?, ?ex/s]"
      ]
     },
     "metadata": {},
     "output_type": "display_data"
    },
    {
     "data": {
      "application/vnd.jupyter.widget-view+json": {
       "model_id": "07293ab8b2124fe78e7806f8244228c8",
       "version_major": 2,
       "version_minor": 0
      },
      "text/plain": [
       "  0%|          | 0/2000 [00:00<?, ?ex/s]"
      ]
     },
     "metadata": {},
     "output_type": "display_data"
    }
   ],
   "source": [
    "tokenized_data = tokenize_dataset(ds, tokenizer_name=model_name, max_length = 64)"
   ]
  },
  {
   "cell_type": "code",
   "execution_count": 10,
   "id": "f22324e4-dce5-484a-a774-8aa36cf41c90",
   "metadata": {},
   "outputs": [
    {
     "name": "stderr",
     "output_type": "stream",
     "text": [
      "***** Running Evaluation *****\n",
      "  Num examples = 2000\n",
      "  Batch size = 32\n"
     ]
    },
    {
     "data": {
      "text/html": [
       "\n",
       "    <div>\n",
       "      \n",
       "      <progress value='63' max='63' style='width:300px; height:20px; vertical-align: middle;'></progress>\n",
       "      [63/63 00:00]\n",
       "    </div>\n",
       "    "
      ],
      "text/plain": [
       "<IPython.core.display.HTML object>"
      ]
     },
     "metadata": {},
     "output_type": "display_data"
    },
    {
     "data": {
      "text/plain": [
       "{'eval_loss': 0.4381052255630493,\n",
       " 'eval_accuracy': 0.886,\n",
       " 'eval_runtime': 0.8001,\n",
       " 'eval_samples_per_second': 2499.824,\n",
       " 'eval_steps_per_second': 78.744}"
      ]
     },
     "execution_count": 10,
     "metadata": {},
     "output_type": "execute_result"
    }
   ],
   "source": [
    "train(model, tokenized_data, path=f'{folder_name}/{dataset_name}', evaluate = True)"
   ]
  },
  {
   "cell_type": "code",
   "execution_count": 28,
   "id": "3d269bc5-6e7c-485d-a26c-d2942b6db6b7",
   "metadata": {},
   "outputs": [
    {
     "data": {
      "image/png": "[encoded data removed]",
      "text/plain": [
       "<Figure size 432x288 with 1 Axes>"
      ]
     },
     "metadata": {
      "needs_background": "light"
     },
     "output_type": "display_data"
    }
   ],
   "source": [
    "ths = [0.0, 0.5 , 0.55, 0.6 , 0.65, 0.7 , 0.75, 0.8 , 0.85, 0.9 , 0.95, 0.96, 0.97, 0.98, 0.99, 0.993, 1]\n",
    "accs = []\n",
    "for th in ths:\n",
    "    ensemble = Ensemble(model, orig_model, th)\n",
    "    acc = calc_accuracy(ensemble, ds['test'], tokenizer)[0]\n",
    "    accs.append(acc)\n",
    "_ = plt.scatter(ths, accs)"
   ]
  },
  {
   "cell_type": "code",
   "execution_count": 17,
   "id": "ef097529-98a0-4988-b5ba-0c677542dc5f",
   "metadata": {},
   "outputs": [
    {
     "data": {
      "image/png": "[encoded data removed]",
      "text/plain": [
       "<Figure size 432x288 with 1 Axes>"
      ]
     },
     "metadata": {
      "needs_background": "light"
     },
     "output_type": "display_data"
    }
   ],
   "source": [
    "ths = [0.0, 0.5 , 0.55, 0.6 , 0.65, 0.7 , 0.75, 0.8 , 0.85, 0.9 , 0.95, 1]\n",
    "accs = []\n",
    "for th in ths:\n",
    "    ensemble = Ensemble(orig_model, model, th)\n",
    "    acc = calc_accuracy(ensemble, ds['test'], tokenizer)[0]\n",
    "    accs.append(acc)\n",
    "_ = plt.scatter(ths, accs)"
   ]
  },
  {
   "cell_type": "code",
   "execution_count": 17,
   "id": "d506f023-c832-40c3-ad39-f4efe25be041",
   "metadata": {},
   "outputs": [
    {
     "data": {
      "image/png": "[encoded data removed]",
      "text/plain": [
       "<Figure size 432x288 with 1 Axes>"
      ]
     },
     "metadata": {
      "needs_background": "light"
     },
     "output_type": "display_data"
    }
   ],
   "source": [
    "counter = get_ds('counter')['test']\n",
    "ths = [0.0, 0.5 , 0.55, 0.6 , 0.65, 0.7 , 0.75, 0.8 , 0.85, 0.9 , 0.95, 0.96, 0.97, 0.98, 0.99, 0.993, 1]\n",
    "accs = []\n",
    "for th in ths:\n",
    "    ensemble = Ensemble(model, orig_model, th)\n",
    "    acc = calc_accuracy(ensemble, counter, tokenizer)[0]\n",
    "    accs.append(acc)\n",
    "_ = plt.scatter(ths, accs)"
   ]
  },
  {
   "cell_type": "code",
   "execution_count": 18,
   "id": "144a5417-8eda-4206-a494-73dc9fa5bf73",
   "metadata": {},
   "outputs": [
    {
     "data": {
      "image/png": "[encoded data removed]",
      "text/plain": [
       "<Figure size 432x288 with 1 Axes>"
      ]
     },
     "metadata": {
      "needs_background": "light"
     },
     "output_type": "display_data"
    }
   ],
   "source": [
    "counter = get_ds('counter')['test']\n",
    "ths = [0.0, 0.5 , 0.55, 0.6 , 0.65, 0.7 , 0.75, 0.8 , 0.85, 0.9 , 0.95, 1]\n",
    "accs = []\n",
    "for th in ths:\n",
    "    ensemble = Ensemble(orig_model, model, th)\n",
    "    acc = calc_accuracy(ensemble, counter, tokenizer)[0]\n",
    "    accs.append(acc)\n",
    "_ = plt.scatter(ths, accs)"
   ]
  },
  {
   "cell_type": "code",
   "execution_count": null,
   "id": "efd935d8-167f-4f78-8fdd-15f8825b3db8",
   "metadata": {},
   "outputs": [],
   "source": [
    "def predict_sentences(sentences, m):\n",
    "    encoded = [[101] +[tokenizer._convert_token_to_id_with_added_voc(token) for token in tokens] + [102]         \n",
    "               for tokens in sentences]\n",
    "    to_pred = torch.tensor(encoded, device=device)\n",
    "    outputs = m(to_pred)[0]\n",
    "    print(outputs)\n",
    "    return torch.argmax(outputs, dim=1).cpu().numpy()"
   ]
  },
  {
   "cell_type": "code",
   "execution_count": 13,
   "id": "ff792ff7-f7db-420c-b49b-e4f869980a95",
   "metadata": {},
   "outputs": [
    {
     "name": "stdout",
     "output_type": "stream",
     "text": [
      "tensor([[ 1.7911, -1.7094]], device='cuda:0', grad_fn=<AddmmBackward0>)\n"
     ]
    },
    {
     "data": {
      "text/plain": [
       "array([0])"
      ]
     },
     "execution_count": 13,
     "metadata": {},
     "output_type": "execute_result"
    }
   ],
   "source": [
    "predict_sentences([tokenizer.tokenize(\"i hate movies\")])"
   ]
  },
  {
   "cell_type": "code",
   "execution_count": 14,
   "id": "a217a8a2-8af5-46ee-a31c-9ece74b0833c",
   "metadata": {},
   "outputs": [
    {
     "name": "stdout",
     "output_type": "stream",
     "text": [
      "tensor([[-2.3436,  2.2181]], device='cuda:0', grad_fn=<AddmmBackward0>)\n"
     ]
    },
    {
     "data": {
      "text/plain": [
       "array([1])"
      ]
     },
     "execution_count": 14,
     "metadata": {},
     "output_type": "execute_result"
    }
   ],
   "source": [
    "predict_sentences([tokenizer.tokenize(\"i love movies\")])"
   ]
  },
  {
   "cell_type": "code",
   "execution_count": null,
   "id": "62b48d7e-62db-44cc-80ca-117aff2f0519",
   "metadata": {},
   "outputs": [],
   "source": []
  }
 ],
 "metadata": {
  "kernelspec": {
   "display_name": "Python 3 (ipykernel)",
   "language": "python",
   "name": "python3"
  },
  "language_info": {
   "codemirror_mode": {
    "name": "ipython",
    "version": 3
   },
   "file_extension": ".py",
   "mimetype": "text/x-python",
   "name": "python",
   "nbconvert_exporter": "python",
   "pygments_lexer": "ipython3",
   "version": "3.8.6"
  }
 },
 "nbformat": 4,
 "nbformat_minor": 5
}
