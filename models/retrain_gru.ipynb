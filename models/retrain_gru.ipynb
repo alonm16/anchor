{
 "cells": [
  {
   "cell_type": "code",
   "execution_count": 1,
   "id": "5073ae0a-f2d7-4f9e-95c1-3353fef4304d",
   "metadata": {},
   "outputs": [
    {
     "name": "stdout",
     "output_type": "stream",
     "text": [
      "cuda\n"
     ]
    }
   ],
   "source": [
    "%matplotlib inline\n",
    "%load_ext autoreload\n",
    "%autoreload 2\n",
    "from dataset_loader import *\n",
    "from utils import *\n",
    "from datasets import Dataset, DatasetDict\n",
    "import datasets\n",
    "import logging\n",
    "import warnings\n",
    "from retrain_utils import *\n",
    "logging.disable(logging.WARNING) \n",
    "datasets.set_progress_bar_enabled(False)\n",
    "warnings.simplefilter(\"ignore\")\n",
    "\n",
    "SEED = 84\n",
    "torch.manual_seed(SEED)\n",
    "device = torch.device('cuda' if torch.cuda.is_available() else 'cpu')\n",
    "print(device)"
   ]
  },
  {
   "cell_type": "code",
   "execution_count": 12,
   "id": "84233b20-0199-43d1-908f-ad12c15856c6",
   "metadata": {},
   "outputs": [],
   "source": [
    "dataset_name = 'sentiment'\n",
    "ds = get_ds(dataset_name)"
   ]
  },
  {
   "cell_type": "code",
   "execution_count": null,
   "id": "a4d98a99-db2e-47d9-b3ce-4a6de2117178",
   "metadata": {},
   "outputs": [],
   "source": [
    "model_name =  'huawei-noah/TinyBERT_General_4L_312D'\n",
    "folder_name = 'gru'"
   ]
  },
  {
   "cell_type": "code",
   "execution_count": null,
   "id": "86cdba04-5454-4e4a-b342-55642be698f0",
   "metadata": {},
   "outputs": [],
   "source": [
    "retrain_utils = RetrainUtils(model_name, dataset_name, folder_name)\n",
    "added_train = retrain_utils.replace_sentences(ds['train'].to_pandas(), RetrainAction.ADD)\n",
    "removed_train = retrain_utils.replace_sentences(ds['train'].to_pandas(), RetrainAction.REMOVE)\n",
    "replaced_train = retrain_utils.replace_sentences(ds['train'].to_pandas(), RetrainAction.REPLACE)"
   ]
  },
  {
   "cell_type": "code",
   "execution_count": 9,
   "id": "5123865d-c0ce-4674-8e69-8a6c206e24bf",
   "metadata": {},
   "outputs": [],
   "source": [
    "ds['train'] = removed_train"
   ]
  },
  {
   "cell_type": "code",
   "execution_count": 11,
   "id": "1e0d1cd1-dd41-41f3-89b3-5a928464b759",
   "metadata": {},
   "outputs": [
    {
     "data": {
      "text/html": [
       "\n",
       "    <div>\n",
       "      \n",
       "      <progress value='920' max='920' style='width:300px; height:20px; vertical-align: middle;'></progress>\n",
       "      [920/920 00:21, Epoch 20/20]\n",
       "    </div>\n",
       "    <table border=\"1\" class=\"dataframe\">\n",
       "  <thead>\n",
       " <tr style=\"text-align: left;\">\n",
       "      <th>Epoch</th>\n",
       "      <th>Training Loss</th>\n",
       "      <th>Validation Loss</th>\n",
       "      <th>Accuracy</th>\n",
       "    </tr>\n",
       "  </thead>\n",
       "  <tbody>\n",
       "    <tr>\n",
       "      <td>1</td>\n",
       "      <td>No log</td>\n",
       "      <td>0.694943</td>\n",
       "      <td>0.475460</td>\n",
       "    </tr>\n",
       "    <tr>\n",
       "      <td>2</td>\n",
       "      <td>No log</td>\n",
       "      <td>0.695068</td>\n",
       "      <td>0.475460</td>\n",
       "    </tr>\n",
       "    <tr>\n",
       "      <td>3</td>\n",
       "      <td>No log</td>\n",
       "      <td>0.695227</td>\n",
       "      <td>0.475460</td>\n",
       "    </tr>\n",
       "    <tr>\n",
       "      <td>4</td>\n",
       "      <td>No log</td>\n",
       "      <td>0.693874</td>\n",
       "      <td>0.475460</td>\n",
       "    </tr>\n",
       "    <tr>\n",
       "      <td>5</td>\n",
       "      <td>No log</td>\n",
       "      <td>0.694540</td>\n",
       "      <td>0.475460</td>\n",
       "    </tr>\n",
       "    <tr>\n",
       "      <td>6</td>\n",
       "      <td>No log</td>\n",
       "      <td>0.694074</td>\n",
       "      <td>0.475460</td>\n",
       "    </tr>\n",
       "    <tr>\n",
       "      <td>7</td>\n",
       "      <td>No log</td>\n",
       "      <td>0.695173</td>\n",
       "      <td>0.475460</td>\n",
       "    </tr>\n",
       "    <tr>\n",
       "      <td>8</td>\n",
       "      <td>No log</td>\n",
       "      <td>0.694158</td>\n",
       "      <td>0.475460</td>\n",
       "    </tr>\n",
       "    <tr>\n",
       "      <td>9</td>\n",
       "      <td>No log</td>\n",
       "      <td>0.694283</td>\n",
       "      <td>0.475460</td>\n",
       "    </tr>\n",
       "    <tr>\n",
       "      <td>10</td>\n",
       "      <td>No log</td>\n",
       "      <td>0.694273</td>\n",
       "      <td>0.473926</td>\n",
       "    </tr>\n",
       "    <tr>\n",
       "      <td>11</td>\n",
       "      <td>0.692500</td>\n",
       "      <td>0.694085</td>\n",
       "      <td>0.474693</td>\n",
       "    </tr>\n",
       "    <tr>\n",
       "      <td>12</td>\n",
       "      <td>0.692500</td>\n",
       "      <td>0.694174</td>\n",
       "      <td>0.476227</td>\n",
       "    </tr>\n",
       "    <tr>\n",
       "      <td>13</td>\n",
       "      <td>0.692500</td>\n",
       "      <td>0.695251</td>\n",
       "      <td>0.474693</td>\n",
       "    </tr>\n",
       "    <tr>\n",
       "      <td>14</td>\n",
       "      <td>0.692500</td>\n",
       "      <td>0.694408</td>\n",
       "      <td>0.476227</td>\n",
       "    </tr>\n",
       "    <tr>\n",
       "      <td>15</td>\n",
       "      <td>0.692500</td>\n",
       "      <td>0.694607</td>\n",
       "      <td>0.475460</td>\n",
       "    </tr>\n",
       "    <tr>\n",
       "      <td>16</td>\n",
       "      <td>0.692500</td>\n",
       "      <td>0.694050</td>\n",
       "      <td>0.481595</td>\n",
       "    </tr>\n",
       "    <tr>\n",
       "      <td>17</td>\n",
       "      <td>0.692500</td>\n",
       "      <td>0.693653</td>\n",
       "      <td>0.485429</td>\n",
       "    </tr>\n",
       "    <tr>\n",
       "      <td>18</td>\n",
       "      <td>0.692500</td>\n",
       "      <td>0.693802</td>\n",
       "      <td>0.482362</td>\n",
       "    </tr>\n",
       "    <tr>\n",
       "      <td>19</td>\n",
       "      <td>0.692500</td>\n",
       "      <td>0.693935</td>\n",
       "      <td>0.483129</td>\n",
       "    </tr>\n",
       "    <tr>\n",
       "      <td>20</td>\n",
       "      <td>0.692500</td>\n",
       "      <td>0.693478</td>\n",
       "      <td>0.483129</td>\n",
       "    </tr>\n",
       "  </tbody>\n",
       "</table><p>"
      ],
      "text/plain": [
       "<IPython.core.display.HTML object>"
      ]
     },
     "metadata": {},
     "output_type": "display_data"
    }
   ],
   "source": [
    "# 45 padding for sentiment, 64 for corona\n",
    "set_seed()    \n",
    "model = MyGRU(model_name, hidden_dim=256, num_layers=2, output_dim=2, dropout=0.0)\n",
    "tokenized_data = tokenize_dataset(ds, tokenizer_name=model_name, max_length = 50)\n",
    "_ = train(model, tokenized_data, path=f'{folder_name}/{dataset_name}/check', num_train_epochs=20)"
   ]
  },
  {
   "cell_type": "code",
   "execution_count": 24,
   "id": "400fcdd9-0692-4007-9326-eac4c3382cdf",
   "metadata": {},
   "outputs": [],
   "source": [
    "torch.save(model.state_dict(), f'{folder_name}/{dataset_name}/retrained_model/pytorch_model.bin')"
   ]
  },
  {
   "cell_type": "markdown",
   "id": "5e99a4ca-1d2a-458e-aa4d-a4c7c8cfe4c5",
   "metadata": {
    "tags": []
   },
   "source": [
    "### saved best model's folder as 'retrained'"
   ]
  },
  {
   "cell_type": "code",
   "execution_count": 4,
   "id": "d9308a25-a2cb-46b1-9d49-8676f777cfe0",
   "metadata": {},
   "outputs": [],
   "source": [
    "retrained_model = load_model(f'{folder_name}/{dataset_name}/retrained_model').to(device).eval()\n",
    "orig_model = load_model(f'{folder_name}/{dataset_name}/model').to(device).eval()\n",
    "tokenizer = AutoTokenizer.from_pretrained(model_name)"
   ]
  },
  {
   "cell_type": "code",
   "execution_count": 18,
   "id": "9268212b-573e-4c5e-89eb-d307592929cd",
   "metadata": {},
   "outputs": [
    {
     "data": {
      "text/html": [
       "\n",
       "    <div>\n",
       "      \n",
       "      <progress value='131' max='131' style='width:300px; height:20px; vertical-align: middle;'></progress>\n",
       "      [131/131 00:00]\n",
       "    </div>\n",
       "    "
      ],
      "text/plain": [
       "<IPython.core.display.HTML object>"
      ]
     },
     "metadata": {},
     "output_type": "display_data"
    },
    {
     "data": {
      "text/plain": [
       "0.8576555023923444"
      ]
     },
     "execution_count": 18,
     "metadata": {},
     "output_type": "execute_result"
    }
   ],
   "source": [
    "tokenized_data = tokenize_dataset(ds, tokenizer_name=model_name, max_length = 64)\n",
    "train(orig_model, tokenized_data, path=f'{folder_name}/{dataset_name}', evaluate = True)['eval_accuracy']"
   ]
  },
  {
   "cell_type": "markdown",
   "id": "ad2c5fe0-ca4c-4976-9710-dfb546ef2c9a",
   "metadata": {},
   "source": [
    "# GRU"
   ]
  },
  {
   "cell_type": "markdown",
   "id": "cd2508a3-f0c7-423b-8e2b-3859345247a4",
   "metadata": {},
   "source": [
    "## Corona"
   ]
  },
  {
   "cell_type": "code",
   "execution_count": 19,
   "id": "1f918243",
   "metadata": {},
   "outputs": [
    {
     "data": {
      "image/png": "[encoded data removed]",
      "text/plain": [
       "<Figure size 1008x576 with 4 Axes>"
      ]
     },
     "metadata": {
      "needs_background": "light"
     },
     "output_type": "display_data"
    }
   ],
   "source": [
    "ds = get_ds('corona')\n",
    "ensemble_results(folder_name, model_name, 'corona', 'corona', ds['val'], ds['test'], 'retrained_model', 'model')"
   ]
  },
  {
   "cell_type": "markdown",
   "id": "c2898618-2f9d-4f88-a143-3ec51091d09a",
   "metadata": {},
   "source": [
    "## Sentiment"
   ]
  },
  {
   "cell_type": "code",
   "execution_count": 25,
   "id": "f80f1f07",
   "metadata": {},
   "outputs": [
    {
     "data": {
      "image/png": "[encoded data removed]",
      "text/plain": [
       "<Figure size 1008x576 with 4 Axes>"
      ]
     },
     "metadata": {
      "needs_background": "light"
     },
     "output_type": "display_data"
    }
   ],
   "source": [
    "ds = get_ds('sentiment')\n",
    "ensemble_results(folder_name, model_name, 'sentiment', 'sentiment', ds['val'], ds['test'], 'retrained_model', 'model')"
   ]
  },
  {
   "cell_type": "code",
   "execution_count": 13,
   "id": "ff792ff7-f7db-420c-b49b-e4f869980a95",
   "metadata": {},
   "outputs": [
    {
     "name": "stdout",
     "output_type": "stream",
     "text": [
      "tensor([[ 1.7911, -1.7094]], device='cuda:0', grad_fn=<AddmmBackward0>)\n"
     ]
    },
    {
     "data": {
      "text/plain": [
       "array([0])"
      ]
     },
     "execution_count": 13,
     "metadata": {},
     "output_type": "execute_result"
    }
   ],
   "source": [
    "predicting_sentences(model, tokenizer, device, [tokenizer.tokenize(\"i love movies\")])"
   ]
  },
  {
   "cell_type": "code",
   "execution_count": 14,
   "id": "a217a8a2-8af5-46ee-a31c-9ece74b0833c",
   "metadata": {},
   "outputs": [
    {
     "name": "stdout",
     "output_type": "stream",
     "text": [
      "tensor([[-2.3436,  2.2181]], device='cuda:0', grad_fn=<AddmmBackward0>)\n"
     ]
    },
    {
     "data": {
      "text/plain": [
       "array([1])"
      ]
     },
     "execution_count": 14,
     "metadata": {},
     "output_type": "execute_result"
    }
   ],
   "source": [
    "predicting_sentences(model, tokenizer, device, [tokenizer.tokenize(\"i hate movies\")])"
   ]
  }
 ],
 "metadata": {
  "kernelspec": {
   "display_name": "Python 3 (ipykernel)",
   "language": "python",
   "name": "python3"
  },
  "language_info": {
   "codemirror_mode": {
    "name": "ipython",
    "version": 3
   },
   "file_extension": ".py",
   "mimetype": "text/x-python",
   "name": "python",
   "nbconvert_exporter": "python",
   "pygments_lexer": "ipython3",
   "version": "3.8.6"
  }
 },
 "nbformat": 4,
 "nbformat_minor": 5
}
