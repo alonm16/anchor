{
 "cells": [
  {
   "cell_type": "code",
   "execution_count": 10,
   "id": "5073ae0a-f2d7-4f9e-95c1-3353fef4304d",
   "metadata": {},
   "outputs": [
    {
     "name": "stdout",
     "output_type": "stream",
     "text": [
      "The autoreload extension is already loaded. To reload it, use:\n",
      "  %reload_ext autoreload\n",
      "cuda\n"
     ]
    }
   ],
   "source": [
    "%matplotlib inline\n",
    "%load_ext autoreload\n",
    "%autoreload 2\n",
    "from dataset_loader import *\n",
    "from utils import *\n",
    "from datasets import Dataset, DatasetDict\n",
    "import datasets\n",
    "import logging\n",
    "import warnings\n",
    "import matplotlib.pyplot as plt\n",
    "from retrain_utils import *\n",
    "logging.disable(logging.WARNING) \n",
    "datasets.set_progress_bar_enabled(False)\n",
    "warnings.simplefilter(\"ignore\")\n",
    "\n",
    "SEED = 84\n",
    "torch.manual_seed(SEED)\n",
    "device = torch.device('cuda' if torch.cuda.is_available() else 'cpu')\n",
    "print(device)"
   ]
  },
  {
   "cell_type": "code",
   "execution_count": 2,
   "id": "84233b20-0199-43d1-908f-ad12c15856c6",
   "metadata": {},
   "outputs": [],
   "source": [
    "dataset_name = 'corona'\n",
    "ds = get_ds(dataset_name)"
   ]
  },
  {
   "cell_type": "code",
   "execution_count": 3,
   "id": "9e3416d8-de01-43a5-9994-e3881d90b2fb",
   "metadata": {},
   "outputs": [],
   "source": [
    "model_name = 'huawei-noah/TinyBERT_General_4L_312D'\n",
    "folder_name = 'gru'"
   ]
  },
  {
   "cell_type": "code",
   "execution_count": 4,
   "id": "86cdba04-5454-4e4a-b342-55642be698f0",
   "metadata": {},
   "outputs": [],
   "source": [
    "retrain_utils = RetrainUtils(model_name, dataset_name)\n",
    "added_train = retrain_utils.replace_sentences(ds['train'].to_pandas(), RetrainAction.ADD)\n",
    "removed_train = retrain_utils.replace_sentences(ds['train'].to_pandas(), RetrainAction.REMOVE)\n",
    "replaced_train = retrain_utils.replace_sentences(ds['train'].to_pandas(), RetrainAction.REPLACE)"
   ]
  },
  {
   "cell_type": "code",
   "execution_count": 5,
   "id": "5123865d-c0ce-4674-8e69-8a6c206e24bf",
   "metadata": {},
   "outputs": [],
   "source": [
    "ds['train'] = removed_train"
   ]
  },
  {
   "cell_type": "code",
   "execution_count": 6,
   "id": "2062bf16-aebb-490b-b3d3-1808fa01e54b",
   "metadata": {},
   "outputs": [
    {
     "data": {
      "text/html": [
       "\n",
       "    <div>\n",
       "      \n",
       "      <progress value='4080' max='4080' style='width:300px; height:20px; vertical-align: middle;'></progress>\n",
       "      [4080/4080 01:02, Epoch 20/20]\n",
       "    </div>\n",
       "    <table border=\"1\" class=\"dataframe\">\n",
       "  <thead>\n",
       " <tr style=\"text-align: left;\">\n",
       "      <th>Epoch</th>\n",
       "      <th>Training Loss</th>\n",
       "      <th>Validation Loss</th>\n",
       "      <th>Accuracy</th>\n",
       "    </tr>\n",
       "  </thead>\n",
       "  <tbody>\n",
       "    <tr>\n",
       "      <td>1</td>\n",
       "      <td>No log</td>\n",
       "      <td>0.693168</td>\n",
       "      <td>0.513000</td>\n",
       "    </tr>\n",
       "    <tr>\n",
       "      <td>2</td>\n",
       "      <td>No log</td>\n",
       "      <td>0.693613</td>\n",
       "      <td>0.505500</td>\n",
       "    </tr>\n",
       "    <tr>\n",
       "      <td>3</td>\n",
       "      <td>0.693200</td>\n",
       "      <td>0.693115</td>\n",
       "      <td>0.516500</td>\n",
       "    </tr>\n",
       "    <tr>\n",
       "      <td>4</td>\n",
       "      <td>0.693200</td>\n",
       "      <td>0.692970</td>\n",
       "      <td>0.518000</td>\n",
       "    </tr>\n",
       "    <tr>\n",
       "      <td>5</td>\n",
       "      <td>0.691800</td>\n",
       "      <td>0.695147</td>\n",
       "      <td>0.481000</td>\n",
       "    </tr>\n",
       "    <tr>\n",
       "      <td>6</td>\n",
       "      <td>0.691800</td>\n",
       "      <td>0.689871</td>\n",
       "      <td>0.528000</td>\n",
       "    </tr>\n",
       "    <tr>\n",
       "      <td>7</td>\n",
       "      <td>0.691800</td>\n",
       "      <td>0.558747</td>\n",
       "      <td>0.722500</td>\n",
       "    </tr>\n",
       "    <tr>\n",
       "      <td>8</td>\n",
       "      <td>0.629500</td>\n",
       "      <td>0.500878</td>\n",
       "      <td>0.760000</td>\n",
       "    </tr>\n",
       "    <tr>\n",
       "      <td>9</td>\n",
       "      <td>0.629500</td>\n",
       "      <td>0.506300</td>\n",
       "      <td>0.785500</td>\n",
       "    </tr>\n",
       "    <tr>\n",
       "      <td>10</td>\n",
       "      <td>0.338900</td>\n",
       "      <td>0.497828</td>\n",
       "      <td>0.789000</td>\n",
       "    </tr>\n",
       "    <tr>\n",
       "      <td>11</td>\n",
       "      <td>0.338900</td>\n",
       "      <td>0.520208</td>\n",
       "      <td>0.791000</td>\n",
       "    </tr>\n",
       "    <tr>\n",
       "      <td>12</td>\n",
       "      <td>0.338900</td>\n",
       "      <td>0.526200</td>\n",
       "      <td>0.796000</td>\n",
       "    </tr>\n",
       "    <tr>\n",
       "      <td>13</td>\n",
       "      <td>0.203400</td>\n",
       "      <td>0.579194</td>\n",
       "      <td>0.795000</td>\n",
       "    </tr>\n",
       "    <tr>\n",
       "      <td>14</td>\n",
       "      <td>0.203400</td>\n",
       "      <td>0.544086</td>\n",
       "      <td>0.798500</td>\n",
       "    </tr>\n",
       "    <tr>\n",
       "      <td>15</td>\n",
       "      <td>0.139500</td>\n",
       "      <td>0.595583</td>\n",
       "      <td>0.804500</td>\n",
       "    </tr>\n",
       "    <tr>\n",
       "      <td>16</td>\n",
       "      <td>0.139500</td>\n",
       "      <td>0.632417</td>\n",
       "      <td>0.806000</td>\n",
       "    </tr>\n",
       "    <tr>\n",
       "      <td>17</td>\n",
       "      <td>0.139500</td>\n",
       "      <td>0.687655</td>\n",
       "      <td>0.805000</td>\n",
       "    </tr>\n",
       "    <tr>\n",
       "      <td>18</td>\n",
       "      <td>0.101200</td>\n",
       "      <td>0.675033</td>\n",
       "      <td>0.805000</td>\n",
       "    </tr>\n",
       "    <tr>\n",
       "      <td>19</td>\n",
       "      <td>0.101200</td>\n",
       "      <td>0.678082</td>\n",
       "      <td>0.806500</td>\n",
       "    </tr>\n",
       "    <tr>\n",
       "      <td>20</td>\n",
       "      <td>0.088600</td>\n",
       "      <td>0.687108</td>\n",
       "      <td>0.806500</td>\n",
       "    </tr>\n",
       "  </tbody>\n",
       "</table><p>"
      ],
      "text/plain": [
       "<IPython.core.display.HTML object>"
      ]
     },
     "metadata": {},
     "output_type": "display_data"
    }
   ],
   "source": [
    "# 50 padding for sentiment, 64 for corona\n",
    "set_seed()    \n",
    "model = MyGRU(model_name, hidden_dim=256, num_layers=2, output_dim=2, dropout=0.0)\n",
    "tokenized_data = tokenize_dataset(ds, tokenizer_name=model_name, max_length = 64)\n",
    "_ = train(model, tokenized_data, path=f'{folder_name}/{dataset_name}/check', num_train_epochs=20)\n",
    "#torch.save(model.state_dict(), f'{folder_name}/{dataset_name}/updated_model/pytorch_model.bin')"
   ]
  },
  {
   "cell_type": "markdown",
   "id": "5e99a4ca-1d2a-458e-aa4d-a4c7c8cfe4c5",
   "metadata": {
    "tags": []
   },
   "source": [
    "### saved best model's folder as 'updated_model'"
   ]
  },
  {
   "cell_type": "code",
   "execution_count": 7,
   "id": "74521277-10e9-42c5-a715-3a3bc0e826ce",
   "metadata": {},
   "outputs": [],
   "source": [
    "model = load_model(f'{folder_name}/{dataset_name}/updated_model').to(device).eval()\n",
    "orig_model = load_model(f'{folder_name}/{dataset_name}/model').to(device).eval()\n",
    "tokenizer = AutoTokenizer.from_pretrained(model_name)"
   ]
  },
  {
   "cell_type": "code",
   "execution_count": 17,
   "id": "e92cc4e8-82e3-419e-b15b-f1ef52d5e866",
   "metadata": {},
   "outputs": [
    {
     "data": {
      "text/html": [
       "\n",
       "    <div>\n",
       "      \n",
       "      <progress value='63' max='63' style='width:300px; height:20px; vertical-align: middle;'></progress>\n",
       "      [63/63 00:00]\n",
       "    </div>\n",
       "    "
      ],
      "text/plain": [
       "<IPython.core.display.HTML object>"
      ]
     },
     "metadata": {},
     "output_type": "display_data"
    },
    {
     "data": {
      "text/plain": [
       "0.8065"
      ]
     },
     "execution_count": 17,
     "metadata": {},
     "output_type": "execute_result"
    }
   ],
   "source": [
    "tokenized_data = tokenize_dataset(ds, tokenizer_name=model_name, max_length = 64)\n",
    "train(model, tokenized_data, path=f'{folder_name}/{dataset_name}', evaluate = True)['eval_accuracy']"
   ]
  },
  {
   "cell_type": "code",
   "execution_count": 20,
   "id": "ec481661-3ee6-4e9f-bb61-daa560502a8a",
   "metadata": {},
   "outputs": [
    {
     "data": {
      "image/png": "[encoded data removed]",
      "text/plain": [
       "<Figure size 1008x576 with 4 Axes>"
      ]
     },
     "metadata": {
      "needs_background": "light"
     },
     "output_type": "display_data"
    }
   ],
   "source": [
    "ensemble_results(folder_name, model_name, 'corona', 'counter', get_ds('corona')['test'], get_ds('counter')['test'], pad = True)"
   ]
  },
  {
   "cell_type": "code",
   "execution_count": 13,
   "id": "ff792ff7-f7db-420c-b49b-e4f869980a95",
   "metadata": {},
   "outputs": [
    {
     "name": "stdout",
     "output_type": "stream",
     "text": [
      "tensor([[ 1.7911, -1.7094]], device='cuda:0', grad_fn=<AddmmBackward0>)\n"
     ]
    },
    {
     "data": {
      "text/plain": [
       "array([0])"
      ]
     },
     "execution_count": 13,
     "metadata": {},
     "output_type": "execute_result"
    }
   ],
   "source": [
    "predict_sentences(model, tokenizer, device, [tokenizer.tokenize(\"i hate movies\")])"
   ]
  },
  {
   "cell_type": "code",
   "execution_count": 14,
   "id": "a217a8a2-8af5-46ee-a31c-9ece74b0833c",
   "metadata": {},
   "outputs": [
    {
     "name": "stdout",
     "output_type": "stream",
     "text": [
      "tensor([[-2.3436,  2.2181]], device='cuda:0', grad_fn=<AddmmBackward0>)\n"
     ]
    },
    {
     "data": {
      "text/plain": [
       "array([1])"
      ]
     },
     "execution_count": 14,
     "metadata": {},
     "output_type": "execute_result"
    }
   ],
   "source": [
    "predict_sentences(model, tokenizer, device, [tokenizer.tokenize(\"i love movies\")])"
   ]
  }
 ],
 "metadata": {
  "kernelspec": {
   "display_name": "Python 3 (ipykernel)",
   "language": "python",
   "name": "python3"
  },
  "language_info": {
   "codemirror_mode": {
    "name": "ipython",
    "version": 3
   },
   "file_extension": ".py",
   "mimetype": "text/x-python",
   "name": "python",
   "nbconvert_exporter": "python",
   "pygments_lexer": "ipython3",
   "version": "3.8.6"
  }
 },
 "nbformat": 4,
 "nbformat_minor": 5
}
