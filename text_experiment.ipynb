{
 "cells": [
  {
   "cell_type": "code",
   "execution_count": 1,
   "metadata": {},
   "outputs": [],
   "source": [
    "%load_ext autoreload\n",
    "%autoreload 2\n",
    "import os\n",
    "import os.path\n",
    "import sklearn.model_selection\n",
    "import sklearn.linear_model\n",
    "import sklearn.ensemble\n",
    "import spacy\n",
    "import sys\n",
    "from sklearn.feature_extraction.text import CountVectorizer\n",
    "from anchor import anchor_text\n",
    "from myUtils import *\n",
    "import pickle\n",
    "import matplotlib.pyplot as plt"
   ]
  },
  {
   "cell_type": "code",
   "execution_count": 2,
   "metadata": {},
   "outputs": [],
   "source": [
    "# dataset from http://www.cs.cornell.edu/people/pabo/movie-review-data/\n",
    "# Link: http://www.cs.cornell.edu/people/pabo/movie-review-data/rt-polaritydata.tar.gz\n",
    "def load_polarity(path='sentiment-sentences'):\n",
    "    data = []\n",
    "    labels = []\n",
    "    f_names = ['rt-polarity.neg', 'rt-polarity.pos']\n",
    "    for (l, f) in enumerate(f_names):\n",
    "        for line in open(os.path.join(path, f), 'rb'):\n",
    "            try:\n",
    "                line.decode('utf8')\n",
    "            except:\n",
    "                continue\n",
    "            data.append(line.strip())\n",
    "            labels.append(l)\n",
    "    return data, labels"
   ]
  },
  {
   "cell_type": "markdown",
   "metadata": {},
   "source": [
    "Note: you must have spacy installed. Run:\n",
    "\n",
    "        pip install spacy && python -m spacy download en_core_web_sm\n",
    "\n",
    "If you want to run BERT, you have to install transformers and torch or tf: \n",
    "\n",
    "        pip install torch transformers spacy && python -m spacy download en_core_web_sm\n",
    "        "
   ]
  },
  {
   "cell_type": "code",
   "execution_count": 3,
   "metadata": {},
   "outputs": [],
   "source": [
    "nlp = spacy.load('en_core_web_sm')"
   ]
  },
  {
   "cell_type": "code",
   "execution_count": 5,
   "metadata": {},
   "outputs": [],
   "source": [
    "data, labels = load_polarity()\n",
    "train, test, train_labels, test_labels = sklearn.model_selection.train_test_split(data, labels, test_size=.2, random_state=42)\n",
    "train, val, train_labels, val_labels = sklearn.model_selection.train_test_split(train, train_labels, test_size=.1, random_state=42)\n",
    "train_labels = np.array(train_labels)\n",
    "test_labels = np.array(test_labels)\n",
    "val_labels = np.array(val_labels)\n",
    "counter_test, counter_test_labels = TextUtils.counter_test()"
   ]
  },
  {
   "cell_type": "code",
   "execution_count": 6,
   "metadata": {},
   "outputs": [],
   "source": [
    "vectorizer = CountVectorizer(min_df=1)\n",
    "vectorizer.fit(train)\n",
    "train_vectors = vectorizer.transform(train)\n",
    "test_vectors = vectorizer.transform(test)\n",
    "val_vectors = vectorizer.transform(val)\n",
    "counter_test_vectors = vectorizer.transform(counter_test)"
   ]
  },
  {
   "cell_type": "code",
   "execution_count": 10,
   "metadata": {},
   "outputs": [
    {
     "name": "stdout",
     "output_type": "stream",
     "text": [
      "Val accuracy 0.7544910179640718\n"
     ]
    },
    {
     "name": "stderr",
     "output_type": "stream",
     "text": [
      "c:\\users\\alon\\miniconda3\\lib\\site-packages\\sklearn\\linear_model\\_logistic.py:814: ConvergenceWarning: lbfgs failed to converge (status=1):\n",
      "STOP: TOTAL NO. of ITERATIONS REACHED LIMIT.\n",
      "\n",
      "Increase the number of iterations (max_iter) or scale the data as shown in:\n",
      "    https://scikit-learn.org/stable/modules/preprocessing.html\n",
      "Please also refer to the documentation for alternative solver options:\n",
      "    https://scikit-learn.org/stable/modules/linear_model.html#logistic-regression\n",
      "  n_iter_i = _check_optimize_result(\n"
     ]
    }
   ],
   "source": [
    "c = sklearn.linear_model.LogisticRegression()\n",
    "# c = sklearn.ensemble.RandomForestClassifier(n_estimators=500, n_jobs=10)\n",
    "c.fit(train_vectors, train_labels)\n",
    "preds = c.predict(val_vectors)\n",
    "print('Val accuracy', sklearn.metrics.accuracy_score(val_labels, preds))\n",
    "def predict_lr(texts):\n",
    "    return c.predict(vectorizer.transform(texts))"
   ]
  },
  {
   "cell_type": "markdown",
   "metadata": {},
   "source": [
    "## Using BERT"
   ]
  },
  {
   "cell_type": "code",
   "execution_count": 11,
   "metadata": {},
   "outputs": [],
   "source": [
    "explainer = anchor_text.AnchorText(nlp, ['negative', 'positive'], use_unk_distribution=False)"
   ]
  },
  {
   "cell_type": "code",
   "execution_count": 8,
   "metadata": {},
   "outputs": [],
   "source": [
    "test = [example.decode('utf-8') for example in test]\n",
    "anchor_examples = [example.decode('utf-8') for example in train]\n",
    "anchor_examples = [example for example in anchor_examples if 20< len(example) < 70 and len(example)>20][:500]"
   ]
  },
  {
   "cell_type": "code",
   "execution_count": 9,
   "metadata": {},
   "outputs": [],
   "source": [
    "pickle.dump( test, open( \"results/text_test.pickle\", \"wb\" ))\n",
    "pickle.dump( test_labels, open( \"results/text_test_labels.pickle\", \"wb\" ))"
   ]
  },
  {
   "cell_type": "code",
   "execution_count": null,
   "metadata": {},
   "outputs": [],
   "source": [
    "my_utils = TextUtils(anchor_examples, counter_test, explainer, predict_lr)\n",
    "#explanations = my_utils.compute_explanations(np.random.choice(len(test), exps_num))\n",
    "explanations = my_utils.compute_explanations(list(range(0, len(anchor_examples))))"
   ]
  },
  {
   "cell_type": "code",
   "execution_count": null,
   "metadata": {},
   "outputs": [],
   "source": [
    "pickle.dump( explanations, open( \"results/text_exps.pickle\", \"wb\" ))"
   ]
  },
  {
   "cell_type": "markdown",
   "metadata": {},
   "source": [
    "# Loading Results"
   ]
  },
  {
   "cell_type": "code",
   "execution_count": 10,
   "metadata": {},
   "outputs": [],
   "source": [
    "explanations = pickle.load( open( \"results/text_exps.pickle\", \"rb\" ))\n",
    "test = pickle.load( open( \"results/text_test.pickle\", \"rb\" ))\n",
    "test = np.array(test)\n",
    "test_labels = pickle.load( open( \"results/text_test_labels.pickle\", \"rb\" ))"
   ]
  },
  {
   "cell_type": "code",
   "execution_count": 135,
   "metadata": {},
   "outputs": [],
   "source": [
    "myUtils =  TextUtils(test, test, None, None, \"results/transformer_exps.pickle\")\n",
    "explanations = myUtils.remove_duplicates(explanations)"
   ]
  },
  {
   "cell_type": "code",
   "execution_count": 136,
   "metadata": {},
   "outputs": [],
   "source": [
    "explanations = [ExtendedExplanation(exp, test, test_labels, predict_lr, explainer) for exp in explanations if len(exp.fit_examples) >0]"
   ]
  },
  {
   "cell_type": "code",
   "execution_count": 137,
   "metadata": {},
   "outputs": [],
   "source": [
    "#explanations = [exp for exp in explanations if len(exp.fit_examples) > 10] \n",
    "explanations.sort(key=lambda exp: exp.test_precision)"
   ]
  },
  {
   "cell_type": "code",
   "execution_count": 138,
   "metadata": {},
   "outputs": [
    {
     "name": "stdout",
     "output_type": "stream",
     "text": [
      "------------------------\n",
      "Prediction: positive\n",
      "Anchor: moving\n",
      "Precision: 0.95\n",
      "Coverage: 0.00\n",
      "Anchor test precision: 1.00\n",
      "Anchor test coverage: 0.01\n",
      "Anchor test REAL precision: 0.79\n",
      "------------------------\n",
      "Prediction: positive\n",
      "Anchor: ride\n",
      "Precision: 0.97\n",
      "Coverage: 0.00\n",
      "Anchor test precision: 1.00\n",
      "Anchor test coverage: 0.01\n",
      "Anchor test REAL precision: 0.79\n",
      "------------------------\n",
      "Prediction: negative\n",
      "Anchor: boring\n",
      "Precision: 1.00\n",
      "Coverage: 0.00\n",
      "Anchor test precision: 1.00\n",
      "Anchor test coverage: 0.01\n",
      "Anchor test REAL precision: 0.92\n",
      "------------------------\n",
      "Prediction: negative\n",
      "Anchor: exercise\n",
      "Precision: 0.97\n",
      "Coverage: 0.00\n",
      "Anchor test precision: 1.00\n",
      "Anchor test coverage: 0.00\n",
      "Anchor test REAL precision: 1.00\n",
      "------------------------\n",
      "Prediction: positive\n",
      "Anchor: rare AND and\n",
      "Precision: 0.96\n",
      "Coverage: 0.00\n",
      "Anchor test precision: 1.00\n",
      "Anchor test coverage: 0.00\n",
      "Anchor test REAL precision: 1.00\n",
      "------------------------\n",
      "Prediction: positive\n",
      "Anchor: refreshing\n",
      "Precision: 0.98\n",
      "Coverage: 0.00\n",
      "Anchor test precision: 1.00\n",
      "Anchor test coverage: 0.00\n",
      "Anchor test REAL precision: 1.00\n",
      "------------------------\n",
      "Prediction: negative\n",
      "Anchor: awful\n",
      "Precision: 1.00\n",
      "Coverage: 0.00\n",
      "Anchor test precision: 1.00\n",
      "Anchor test coverage: 0.00\n",
      "Anchor test REAL precision: 0.88\n",
      "------------------------\n",
      "Prediction: positive\n",
      "Anchor: ride AND and\n",
      "Precision: 0.98\n",
      "Coverage: 0.00\n",
      "Anchor test precision: 1.00\n",
      "Anchor test coverage: 0.00\n",
      "Anchor test REAL precision: 0.88\n",
      "------------------------\n",
      "Prediction: positive\n",
      "Anchor: year AND best\n",
      "Precision: 0.99\n",
      "Coverage: 0.00\n",
      "Anchor test precision: 1.00\n",
      "Anchor test coverage: 0.00\n",
      "Anchor test REAL precision: 1.00\n",
      "------------------------\n",
      "Prediction: positive\n",
      "Anchor: entertaining AND film\n",
      "Precision: 0.99\n",
      "Coverage: 0.00\n",
      "Anchor test precision: 1.00\n",
      "Anchor test coverage: 0.00\n",
      "Anchor test REAL precision: 1.00\n"
     ]
    }
   ],
   "source": [
    "best = explanations[-10:]\n",
    "best.reverse()\n",
    "\n",
    "for exp in best:\n",
    "    print(\"------------------------\")\n",
    "    exp_label =  predict_lr([test[exp.index]])[0]\n",
    "    print('Prediction:', explainer.class_names[exp_label])\n",
    "    print('Anchor: %s' % (' AND '.join(exp.names)))\n",
    "    print('Precision: %.2f' % exp.precision)\n",
    "    print('Coverage: %.2f' % exp.coverage)\n",
    "    print('Anchor test precision: %.2f' % (np.mean(predict_lr(test[exp.fit_examples]) == exp_label)))\n",
    "    print('Anchor test coverage: %.2f' % (exp.test_cov))\n",
    "    covered_labels = test_labels[exp.fit_examples]\n",
    "    real_percentage = np.mean(covered_labels == exp_label)\n",
    "    print('Anchor test REAL precision: %.2f' % real_percentage)"
   ]
  },
  {
   "cell_type": "code",
   "execution_count": 139,
   "metadata": {},
   "outputs": [
    {
     "data": {
      "text/plain": [
       "388"
      ]
     },
     "execution_count": 139,
     "metadata": {},
     "output_type": "execute_result"
    }
   ],
   "source": [
    "len(explanations)"
   ]
  },
  {
   "cell_type": "code",
   "execution_count": 140,
   "metadata": {},
   "outputs": [],
   "source": [
    "exps = explanations[-len(explanations)//2:]\n",
    "exps = [exp for exp in exps if len(exp.fit_examples)>2]\n",
    "real_precisions = [np.mean(test_labels[exp.fit_examples] == predict_lr([test[exp.index]])[0])\n",
    "                   for exp in exps]\n",
    "test_precisions = [np.mean(predict_lr(test[exp.fit_examples]) == predict_lr([test[exp.index]])[0]) \n",
    "                   for exp in exps]"
   ]
  },
  {
   "cell_type": "code",
   "execution_count": 141,
   "metadata": {},
   "outputs": [],
   "source": [
    "plt.clf()\n",
    "plt.scatter(test_precisions, real_precisions, s = range(len(exps)), alpha = 0.9)\n",
    "plt.xlabel('predicted class precision')\n",
    "plt.ylabel('real class precision')\n",
    "plt.title('logistic regression')\n",
    "plt.savefig(\"results/text.png\")"
   ]
  },
  {
   "cell_type": "code",
   "execution_count": 142,
   "metadata": {},
   "outputs": [],
   "source": [
    "img = plt.imread(\"results/text.png\")\n",
    "plt.figure(figsize = (5,5))\n",
    "plt.axis('off')\n",
    "_ = plt.imshow(img)"
   ]
  }
 ],
 "metadata": {
  "kernelspec": {
   "display_name": "Python 3 (ipykernel)",
   "language": "python",
   "name": "python3"
  },
  "language_info": {
   "codemirror_mode": {
    "name": "ipython",
    "version": 3
   },
   "file_extension": ".py",
   "mimetype": "text/x-python",
   "name": "python",
   "nbconvert_exporter": "python",
   "pygments_lexer": "ipython3",
   "version": "3.9.5"
  }
 },
 "nbformat": 4,
 "nbformat_minor": 4
}
