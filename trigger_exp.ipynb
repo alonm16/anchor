{
 "cells": [
  {
   "cell_type": "code",
   "execution_count": 1,
   "id": "5073ae0a-f2d7-4f9e-95c1-3353fef4304d",
   "metadata": {},
   "outputs": [
    {
     "name": "stderr",
     "output_type": "stream",
     "text": [
      "/home/almr16/miniconda3/envs/cs236781-hw/lib/python3.8/site-packages/allennlp/tango/__init__.py:17: UserWarning: AllenNLP Tango is an experimental API and parts of it might change or disappear every time we release a new version.\n",
      "  warnings.warn(\n"
     ]
    }
   ],
   "source": [
    "%matplotlib inline\n",
    "%load_ext autoreload\n",
    "%autoreload 2\n",
    "import matplotlib.pyplot as plt\n",
    "import warnings\n",
    "import spacy\n",
    "from anchor import anchor_text\n",
    "import pickle\n",
    "import torch\n",
    "from myUtils import *\n",
    "from triggers.model_loader import load_model\n",
    "from triggers.data_utils import *\n",
    "\n",
    "SEED = 84\n",
    "torch.manual_seed(SEED)\n",
    "warnings.simplefilter(\"ignore\")"
   ]
  },
  {
   "cell_type": "code",
   "execution_count": 2,
   "id": "f07fc3de-eb19-4f46-bb94-6ad8a334e26a",
   "metadata": {},
   "outputs": [
    {
     "name": "stdout",
     "output_type": "stream",
     "text": [
      "cuda\n"
     ]
    }
   ],
   "source": [
    "plt.rcParams['font.size'] = 20\n",
    "device = torch.device('cuda' if torch.cuda.is_available() else 'cpu')\n",
    "print(device)"
   ]
  },
  {
   "cell_type": "code",
   "execution_count": 3,
   "id": "6f4ccdcb-2a76-459b-b135-158b06891ea8",
   "metadata": {},
   "outputs": [
    {
     "data": {
      "application/vnd.jupyter.widget-view+json": {
       "model_id": "dca765297745433a94e0ed77496b47fd",
       "version_major": 2,
       "version_minor": 0
      },
      "text/plain": [
       "building vocab:   0%|          | 0/98794 [00:00<?, ?it/s]"
      ]
     },
     "metadata": {},
     "output_type": "display_data"
    }
   ],
   "source": [
    "model, vocab = load_model()"
   ]
  },
  {
   "cell_type": "code",
   "execution_count": 4,
   "id": "09b27eb6-b9cd-4b9d-b4ee-6d6342e41977",
   "metadata": {},
   "outputs": [],
   "source": [
    "dev, dev_labels = get_dev_sst()"
   ]
  },
  {
   "cell_type": "code",
   "execution_count": 4,
   "id": "9de2e8be-a928-4ea6-93db-8cf2e87516c0",
   "metadata": {},
   "outputs": [],
   "source": [
    "from allennlp.data.tokenizers.spacy_tokenizer import SpacyTokenizer as Tokenizer\n",
    "from allennlp.data.data_loaders.simple_data_loader import SimpleDataLoader\n",
    "from allennlp.nn.util import move_to_device\n",
    "\n",
    "t = Tokenizer()"
   ]
  },
  {
   "cell_type": "code",
   "execution_count": 5,
   "id": "d5f77028-4510-4882-aa43-847c91ab3cc0",
   "metadata": {},
   "outputs": [],
   "source": [
    "def predict_sentences(sentences):\n",
    "    sentences = [create_instance(s,t) for s in sentences]\n",
    "    iterator = SimpleDataLoader(sentences, batch_size = len(sentences))\n",
    "    iterator.index_with(vocab)\n",
    "    \n",
    "    input_tokens = list(iterator)[0]['tokens']\n",
    "    input_tokens = move_to_device(input_tokens, device=0)\n",
    "    \n",
    "    output = model(input_tokens)\n",
    "    return torch.argmax(output, dim=1).cpu().numpy()"
   ]
  },
  {
   "cell_type": "code",
   "execution_count": 7,
   "id": "16240d28-4eff-47f1-b8a4-5c365a30872c",
   "metadata": {},
   "outputs": [
    {
     "data": {
      "text/plain": [
       "array([0])"
      ]
     },
     "execution_count": 7,
     "metadata": {},
     "output_type": "execute_result"
    }
   ],
   "source": [
    "predict_sentences([\"good\"])"
   ]
  },
  {
   "cell_type": "code",
   "execution_count": 8,
   "id": "fef8c8a1-0a07-4961-902a-ba19cfdeea03",
   "metadata": {},
   "outputs": [
    {
     "data": {
      "text/plain": [
       "283"
      ]
     },
     "execution_count": 8,
     "metadata": {},
     "output_type": "execute_result"
    }
   ],
   "source": [
    "len([dev_x for dev_x in dev if 80>len(dev_x) > 15])"
   ]
  },
  {
   "cell_type": "markdown",
   "id": "17046850-2c9f-47ee-a908-b0f874a2b64e",
   "metadata": {},
   "source": [
    "# Prediction is opposite to label!!"
   ]
  },
  {
   "cell_type": "markdown",
   "id": "fc0ae844-8cfc-48c9-b46f-c41106d4dd8e",
   "metadata": {
    "tags": []
   },
   "source": [
    "# Anchor Part"
   ]
  },
  {
   "cell_type": "code",
   "execution_count": 6,
   "id": "1da1181f-98b5-4f15-9896-d4a99cf231be",
   "metadata": {},
   "outputs": [],
   "source": [
    "nlp = spacy.load('en_core_web_sm')"
   ]
  },
  {
   "cell_type": "code",
   "execution_count": 7,
   "id": "c976b285-caee-439e-870d-a43850a4551c",
   "metadata": {},
   "outputs": [],
   "source": [
    "explainer = anchor_text.AnchorText(nlp, ['positive', 'negative'], use_unk_distribution=False)"
   ]
  },
  {
   "cell_type": "code",
   "execution_count": 11,
   "id": "6358237f-3408-43ff-b1c7-b0c880396138",
   "metadata": {},
   "outputs": [],
   "source": [
    "anchor_examples = [example for example in dev if len(example) < 100 and len(example)>15]"
   ]
  },
  {
   "cell_type": "code",
   "execution_count": 12,
   "id": "6dfccc53-71cf-4f1f-a9f5-db43bc816455",
   "metadata": {},
   "outputs": [],
   "source": [
    "pickle.dump( anchor_examples, open( \"results/trigger_anchor_examples.pickle\", \"wb\" ))"
   ]
  },
  {
   "cell_type": "code",
   "execution_count": 21,
   "id": "42bf0d93-b907-426f-828a-ffc1c5df31b4",
   "metadata": {},
   "outputs": [],
   "source": [
    "pickle.dump( test, open( \"results/trigger_test.pickle\", \"wb\" ))\n",
    "pickle.dump( test_labels, open( \"results/trigger_test_labels.pickle\", \"wb\" ))"
   ]
  },
  {
   "cell_type": "code",
   "execution_count": null,
   "id": "48f4f322-c91e-47b0-b483-e1a335f346c7",
   "metadata": {},
   "outputs": [],
   "source": [
    "my_utils = TextUtils(anchor_examples, dev, explainer, predict_sentences, \"results/trigger_exps.pickle\")\n",
    "explanations = my_utils.compute_explanations(list(range(len(anchor_examples))))"
   ]
  },
  {
   "cell_type": "code",
   "execution_count": null,
   "id": "167b36ee-6331-4696-bf56-5a3210db057c",
   "metadata": {},
   "outputs": [],
   "source": [
    "pickle.dump( explanations, open( \"results/trigger_exps_list.pickle\", \"wb\" ))"
   ]
  },
  {
   "cell_type": "markdown",
   "id": "fa74e7fe-f7b1-4544-b3f6-5485e00a9ecc",
   "metadata": {},
   "source": [
    "# Loading Results"
   ]
  },
  {
   "cell_type": "code",
   "execution_count": 8,
   "id": "ba2781ed-fb71-478e-9d30-e393c645b769",
   "metadata": {},
   "outputs": [],
   "source": [
    "test = pickle.load( open( \"results/trigger_test.pickle\", \"rb\" ))\n",
    "test_labels = pickle.load( open( \"results/trigger_test_labels.pickle\", \"rb\" ))\n",
    "test_labels = np.array(test_labels)\n",
    "explanations  = pickle.load(open( \"results/trigger_exps_list.pickle\", \"rb\" ))"
   ]
  },
  {
   "cell_type": "code",
   "execution_count": 30,
   "id": "20cee632-0449-44b0-b29d-323b377d68e5",
   "metadata": {},
   "outputs": [],
   "source": [
    "test_prediction = predict_sentences(test)\n",
    "anchor_prediction = predict_sentences(anchor_examples)\n",
    "pickle.dump( test_prediction, open( \"results/trigger_test_prediction.pickle\", \"wb\" ))\n",
    "pickle.dump( anchor_prediction, open( \"results/trigger_anchor_prediction.pickle\", \"wb\" ))"
   ]
  },
  {
   "cell_type": "code",
   "execution_count": 9,
   "id": "6bf08f43-84d8-4955-bd93-7ebd3d9ec699",
   "metadata": {},
   "outputs": [
    {
     "data": {
      "text/plain": [
       "363"
      ]
     },
     "execution_count": 9,
     "metadata": {},
     "output_type": "execute_result"
    }
   ],
   "source": [
    "len(explanations)"
   ]
  },
  {
   "cell_type": "code",
   "execution_count": 10,
   "id": "8bf32597-3015-48dd-b279-1b5548894cc2",
   "metadata": {},
   "outputs": [],
   "source": [
    "anchor_examples = pickle.load( open( \"results/trigger_anchor_examples.pickle\", \"rb\" ))"
   ]
  },
  {
   "cell_type": "code",
   "execution_count": 87,
   "id": "f9b278ed-8174-4650-922a-d12cc6c5d60b",
   "metadata": {},
   "outputs": [],
   "source": [
    "explanations = [ExtendedExplanation(exp, anchor_examples, test, test_labels, predict_sentences, explainer) for exp in explanations if len(exp.fit_examples) > 1]"
   ]
  },
  {
   "cell_type": "code",
   "execution_count": 88,
   "id": "a529e524-1f48-47e5-904e-5adef4e380e9",
   "metadata": {},
   "outputs": [],
   "source": [
    "pickle.dump( explanations, open( \"results/trigger_extended_exps.pickle\", \"wb\" ))"
   ]
  },
  {
   "cell_type": "code",
   "execution_count": 11,
   "id": "ce2037c3-892c-468a-b14f-a31f47c765ab",
   "metadata": {},
   "outputs": [],
   "source": [
    "explanations = pickle.load(open( \"results/trigger_extended_exps.pickle\", \"rb\" ))"
   ]
  },
  {
   "cell_type": "code",
   "execution_count": 12,
   "id": "a69c0ebe-85fa-4747-a709-6bebef07447c",
   "metadata": {},
   "outputs": [],
   "source": [
    "explanations = [exp for exp in explanations if len(exp.fit_examples) > 5] \n",
    "explanations.sort(key=lambda exp: exp.test_precision)"
   ]
  },
  {
   "cell_type": "code",
   "execution_count": 13,
   "id": "c097203f-757c-47f8-b9e2-0578a34e4c4c",
   "metadata": {},
   "outputs": [
    {
     "data": {
      "text/plain": [
       "array([1, 0, 1])"
      ]
     },
     "execution_count": 13,
     "metadata": {},
     "output_type": "execute_result"
    }
   ],
   "source": [
    "predict_sentences(['bad', 'good', 'pointless'])"
   ]
  },
  {
   "cell_type": "code",
   "execution_count": 45,
   "id": "ba389c62-2a51-4ca3-b93e-05d3b816b36a",
   "metadata": {},
   "outputs": [
    {
     "data": {
      "text/plain": [
       "array([0, 1, 1, 1, 1, 1])"
      ]
     },
     "execution_count": 45,
     "metadata": {},
     "output_type": "execute_result"
    }
   ],
   "source": [
    "predict_sentences(test[best[3].fit_examples])"
   ]
  },
  {
   "cell_type": "code",
   "execution_count": 38,
   "id": "e2581016-4483-46a2-95b2-3dde8f5d823f",
   "metadata": {},
   "outputs": [
    {
     "name": "stdout",
     "output_type": "stream",
     "text": [
      "------------------------\n",
      "it 's a beautiful madness .\n",
      "Prediction: positive\n",
      "Anchor: beautiful\n",
      "Precision: 0.98\n",
      "Coverage: 0.00\n",
      "Anchor test precision: 1.00\n",
      "Anchor test coverage: 0.01\n",
      "Anchor test REAL precision: 1.00\n",
      "------------------------\n",
      "this is so bad .\n",
      "Prediction: negative\n",
      "Anchor: bad AND so\n",
      "Precision: 0.97\n",
      "Coverage: 0.00\n",
      "Anchor test precision: 0.86\n",
      "Anchor test coverage: 0.01\n",
      "Anchor test REAL precision: 0.86\n",
      "------------------------\n",
      "not an objectionable or dull film ; it merely lacks everything except good intentions .\n",
      "Prediction: negative\n",
      "Anchor: lacks\n",
      "Precision: 1.00\n",
      "Coverage: 0.00\n",
      "Anchor test precision: 0.86\n",
      "Anchor test coverage: 0.01\n",
      "Anchor test REAL precision: 0.86\n",
      "------------------------\n",
      "it 's a buggy drag .\n",
      "Prediction: negative\n",
      "Anchor: drag\n",
      "Precision: 0.98\n",
      "Coverage: 0.00\n",
      "Anchor test precision: 0.83\n",
      "Anchor test coverage: 0.01\n",
      "Anchor test REAL precision: 0.67\n",
      "------------------------\n",
      "it 's slow -- very , very slow .\n",
      "Prediction: negative\n",
      "Anchor: slow\n",
      "Precision: 0.98\n",
      "Coverage: 1.00\n",
      "Anchor test precision: 0.83\n",
      "Anchor test coverage: 0.01\n",
      "Anchor test REAL precision: 0.83\n",
      "------------------------\n",
      "... is an arthritic attempt at directing by callie khouri .\n",
      "Prediction: negative\n",
      "Anchor: attempt\n",
      "Precision: 0.99\n",
      "Coverage: 0.00\n",
      "Anchor test precision: 0.83\n",
      "Anchor test coverage: 0.01\n",
      "Anchor test REAL precision: 0.83\n",
      "------------------------\n",
      "it 's hampered by a lifetime-channel kind of plot and a lead actress who is out of her depth .\n",
      "Prediction: negative\n",
      "Anchor: plot\n",
      "Precision: 1.00\n",
      "Coverage: 0.00\n",
      "Anchor test precision: 0.75\n",
      "Anchor test coverage: 0.02\n",
      "Anchor test REAL precision: 0.65\n",
      "------------------------\n",
      "do not see this film .\n",
      "Prediction: negative\n",
      "Anchor: not AND see\n",
      "Precision: 1.00\n",
      "Coverage: 0.00\n",
      "Anchor test precision: 0.75\n",
      "Anchor test coverage: 0.01\n",
      "Anchor test REAL precision: 0.62\n",
      "------------------------\n",
      "a fast , funny , highly enjoyable movie .\n",
      "Prediction: positive\n",
      "Anchor: funny AND ,\n",
      "Precision: 0.99\n",
      "Coverage: 0.00\n",
      "Anchor test precision: 0.71\n",
      "Anchor test coverage: 0.02\n",
      "Anchor test REAL precision: 0.65\n",
      "------------------------\n",
      "it 's fun lite .\n",
      "Prediction: positive\n",
      "Anchor: fun AND it\n",
      "Precision: 0.99\n",
      "Coverage: 0.00\n",
      "Anchor test precision: 0.70\n",
      "Anchor test coverage: 0.03\n",
      "Anchor test REAL precision: 0.63\n",
      "------------------------\n",
      "a painfully funny ode to bad behavior .\n",
      "Prediction: positive\n",
      "Anchor: funny AND a\n",
      "Precision: 0.97\n",
      "Coverage: 0.00\n",
      "Anchor test precision: 0.70\n",
      "Anchor test coverage: 0.02\n",
      "Anchor test REAL precision: 0.65\n",
      "------------------------\n",
      "this nickleby thing might have more homosexual undertones than an eddie murphy film .\n",
      "Prediction: negative\n",
      "Anchor: have\n",
      "Precision: 0.96\n",
      "Coverage: 0.00\n",
      "Anchor test precision: 0.69\n",
      "Anchor test coverage: 0.04\n",
      "Anchor test REAL precision: 0.69\n",
      "------------------------\n",
      "funny but perilously slight .\n",
      "Prediction: positive\n",
      "Anchor: funny\n",
      "Precision: 0.99\n",
      "Coverage: 0.00\n",
      "Anchor test precision: 0.68\n",
      "Anchor test coverage: 0.03\n",
      "Anchor test REAL precision: 0.64\n",
      "------------------------\n",
      "should have been someone else -\n",
      "Prediction: negative\n",
      "Anchor: been\n",
      "Precision: 0.96\n",
      "Coverage: 0.00\n",
      "Anchor test precision: 0.67\n",
      "Anchor test coverage: 0.02\n",
      "Anchor test REAL precision: 0.71\n",
      "------------------------\n",
      "if the first men in black was money , the second is small change .\n",
      "Prediction: negative\n",
      "Anchor: small\n",
      "Precision: 1.00\n",
      "Coverage: 0.00\n",
      "Anchor test precision: 0.67\n",
      "Anchor test coverage: 0.01\n",
      "Anchor test REAL precision: 0.83\n",
      "------------------------\n",
      "in execution , this clever idea is far less funny than the original , killers from space .\n",
      "Prediction: negative\n",
      "Anchor: less\n",
      "Precision: 0.99\n",
      "Coverage: 1.00\n",
      "Anchor test precision: 0.66\n",
      "Anchor test coverage: 0.05\n",
      "Anchor test REAL precision: 0.66\n",
      "------------------------\n",
      "one from the heart .\n",
      "Prediction: positive\n",
      "Anchor: heart AND the AND .\n",
      "Precision: 0.96\n",
      "Coverage: 0.00\n",
      "Anchor test precision: 0.65\n",
      "Anchor test coverage: 0.02\n",
      "Anchor test REAL precision: 0.59\n",
      "------------------------\n",
      "instead of hiding pinocchio from critics , miramax should have hidden it from everyone .\n",
      "Prediction: negative\n",
      "Anchor: instead\n",
      "Precision: 1.00\n",
      "Coverage: 1.00\n",
      "Anchor test precision: 0.62\n",
      "Anchor test coverage: 0.01\n",
      "Anchor test REAL precision: 0.75\n",
      "------------------------\n",
      "it 's not the ultimate depression-era gangster movie .\n",
      "Prediction: negative\n",
      "Anchor: not AND the\n",
      "Precision: 0.97\n",
      "Coverage: 0.00\n",
      "Anchor test precision: 0.62\n",
      "Anchor test coverage: 0.08\n",
      "Anchor test REAL precision: 0.64\n",
      "------------------------\n",
      "fun , flip and terribly hip bit of cinematic entertainment .\n",
      "Prediction: positive\n",
      "Anchor: fun AND and AND ,\n",
      "Precision: 0.98\n",
      "Coverage: 0.00\n",
      "Anchor test precision: 0.62\n",
      "Anchor test coverage: 0.01\n",
      "Anchor test REAL precision: 0.46\n"
     ]
    }
   ],
   "source": [
    "filtered = [exp for exp in explanations if len(' '.join(exp.names))>3]\n",
    "best = filtered[-20:]\n",
    "best.reverse()\n",
    "for exp in best:\n",
    "    print(\"------------------------\")\n",
    "    print(str(anchor_examples[exp.index]))\n",
    "    exp_label =  predict_sentences([str(anchor_examples[exp.index])])[0]\n",
    "    print('Prediction:', explainer.class_names[exp_label])\n",
    "    print('Anchor: %s' % (' AND '.join(exp.names)))\n",
    "    print('Precision: %.2f' % exp.precision)\n",
    "    print('Coverage: %.2f' % exp.coverage)\n",
    "    print('Anchor test precision: %.2f' % exp.test_precision)\n",
    "    print('Anchor test coverage: %.2f' % (exp.test_cov))\n",
    "    covered_labels = test_labels[exp.fit_examples]\n",
    "    ##### the trained model has the opposite label\n",
    "    real_percentage = 1- np.mean(covered_labels == exp_label)\n",
    "    print('Anchor test REAL precision: %.2f' % real_percentage)\n",
    "   "
   ]
  },
  {
   "cell_type": "code",
   "execution_count": 103,
   "id": "c08f47d1-1faa-4a73-9d86-b1bbd7a9b3bd",
   "metadata": {},
   "outputs": [],
   "source": [
    "exps = explanations\n",
    "\n",
    "#trained model has the opposite label\n",
    "real_precisions = [1- exp.real_precision for exp in exps]\n",
    "test_precisions = [exp.test_precision for exp in exps]"
   ]
  },
  {
   "cell_type": "code",
   "execution_count": 105,
   "id": "3acae450-e191-4b1b-8782-e2a647323ab1",
   "metadata": {},
   "outputs": [],
   "source": [
    "!git checkout results/transformer.png"
   ]
  },
  {
   "cell_type": "code",
   "execution_count": 107,
   "id": "f076539d-1a41-4388-b5bf-c6bc0db9e648",
   "metadata": {},
   "outputs": [
    {
     "data": {
      "image/png": "[encoded data removed]",
      "text/plain": [
       "<Figure size 432x288 with 1 Axes>"
      ]
     },
     "metadata": {
      "needs_background": "light"
     },
     "output_type": "display_data"
    }
   ],
   "source": [
    "plt.scatter(test_precisions, real_precisions, s = range(len(exps)), alpha = 0.5)\n",
    "plt.xlabel('predicted class precision')\n",
    "plt.ylabel('real class precision')\n",
    "plt.title('LSTM')\n",
    "plt.savefig(\"results/trigger.png\")"
   ]
  },
  {
   "cell_type": "code",
   "execution_count": 109,
   "id": "5149119b-0d56-46b5-ae15-38d1b6b9fa2a",
   "metadata": {},
   "outputs": [
    {
     "data": {
      "image/png": "[encoded data removed]",
      "text/plain": [
       "<Figure size 720x720 with 1 Axes>"
      ]
     },
     "metadata": {
      "needs_background": "light"
     },
     "output_type": "display_data"
    }
   ],
   "source": [
    "img = plt.imread(\"results/trigger.png\")\n",
    "plt.figure(figsize = (10,10))\n",
    "plt.axis('off')\n",
    "_ = plt.imshow(img)"
   ]
  },
  {
   "cell_type": "code",
   "execution_count": null,
   "id": "fdc02d86-59e5-43d2-8d18-9bdfde7e9bc8",
   "metadata": {},
   "outputs": [],
   "source": []
  }
 ],
 "metadata": {
  "kernelspec": {
   "display_name": "Python 3 (ipykernel)",
   "language": "python",
   "name": "python3"
  },
  "language_info": {
   "codemirror_mode": {
    "name": "ipython",
    "version": 3
   },
   "file_extension": ".py",
   "mimetype": "text/x-python",
   "name": "python",
   "nbconvert_exporter": "python",
   "pygments_lexer": "ipython3",
   "version": "3.8.6"
  }
 },
 "nbformat": 4,
 "nbformat_minor": 5
}
