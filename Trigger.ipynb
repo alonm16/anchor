{
 "cells": [
  {
   "cell_type": "code",
   "execution_count": 1,
   "id": "39b5fd0e-5088-4ac0-86a1-8ab19f9ed730",
   "metadata": {
    "tags": []
   },
   "outputs": [],
   "source": [
    "%matplotlib inline\n",
    "%load_ext autoreload\n",
    "%autoreload 2\n",
    "import warnings\n",
    "import pickle\n",
    "import myUtils\n",
    "import os\n",
    "from myUtils import *\n",
    "from models.utils import *\n",
    "from AOPC import *\n",
    "from score import ScoreUtils\n",
    "from models.dataset_loader import *\n",
    "import sys\n",
    "\n",
    "sys.path.append('models')\n",
    "warnings.simplefilter(\"ignore\")\n",
    "device = torch.device('cuda' if torch.cuda.is_available() else 'cpu')\n",
    "model_name = 'huawei-noah/TinyBERT_General_4L_312D'"
   ]
  },
  {
   "cell_type": "code",
   "execution_count": 2,
   "id": "65345a5b-e132-4afc-acf9-baf97378dc82",
   "metadata": {
    "tags": []
   },
   "outputs": [],
   "source": [
    "sorting = \"confidence\"\n",
    "aopc_tokenizer = AutoTokenizer.from_pretrained(model_name, use_fast = False)\n",
    "myUtils.tokenizer = aopc_tokenizer"
   ]
  },
  {
   "cell_type": "code",
   "execution_count": 3,
   "id": "ddf78b24-d7b3-4d40-8fd0-472ca268cd41",
   "metadata": {
    "tags": []
   },
   "outputs": [],
   "source": [
    "def counter_trigger(sentences, sentence, label):\n",
    "    s = aopc_tokenizer.tokenize(sentence)\n",
    "    counter_sentences = [s+cur_sentence for cur_sentence in sentences]\n",
    "    print(f'before accuracy: {sum(aopc._predict_scores(sentences)[:, label] > 0.5)/len(sentences)}')\n",
    "    print(f'after accuracy: {sum(aopc._predict_scores(counter_sentences)[:, label] > 0.5)/len(sentences)}')"
   ]
  },
  {
   "cell_type": "code",
   "execution_count": 4,
   "id": "3bad92b1-0da7-478d-ac33-aba5903f468b",
   "metadata": {
    "tags": []
   },
   "outputs": [],
   "source": [
    "def accuracy_drop(sentences, anchors, label):\n",
    "    set_seed(42)\n",
    "    res = [counter_trigger(sentences, anchors[i], label)\n",
    "           for i in range(len(anchors))]\n",
    "    print(sum(res)/len(res))"
   ]
  },
  {
   "cell_type": "markdown",
   "id": "72346b21-4218-4701-a7e6-8f0d2a3a2a12",
   "metadata": {
    "tags": []
   },
   "source": [
    "# Toy spam"
   ]
  },
  {
   "cell_type": "code",
   "execution_count": 4,
   "id": "c982e4e0-6b8b-44cb-82f9-38077f308ef3",
   "metadata": {
    "tags": []
   },
   "outputs": [],
   "source": [
    "ds_name = 'toy-spam'\n",
    "model_type = 'tinybert'\n",
    "path = f'results/mp/{model_type}/{ds_name}/{sorting}/'\n",
    "aopc = AOPC(path, aopc_tokenizer, base_opt = 'stop-words')"
   ]
  },
  {
   "cell_type": "markdown",
   "id": "4734d678-efee-4c45-bd5e-c083213fb4b4",
   "metadata": {
    "jp-MarkdownHeadingCollapsed": true,
    "tags": []
   },
   "source": [
    "## automatic"
   ]
  },
  {
   "cell_type": "code",
   "execution_count": 92,
   "id": "f7cbd966-e569-48d9-bff5-197211586dbd",
   "metadata": {
    "tags": []
   },
   "outputs": [
    {
     "name": "stdout",
     "output_type": "stream",
     "text": [
      "generate 10 short slightly negative sentences with the words: \"teaches\" \"bring\" \"introduced\" \"parties\" \"grandparents\" \"childhood\" \"complex\" \"sequence\" \"trips\" \"conversation\" "
     ]
    }
   ],
   "source": [
    "def gen_instructions(anchors, label):\n",
    "    sentiment = 'positive' if label == 1 else 'negative'\n",
    "    print(f'generate 10 short slightly {sentiment} sentences with the words:', end=' ')\n",
    "    for i in anchors[:10]:\n",
    "        print('\"'+i+'\"', end=' ')\n",
    "gen_instructions(p[:10], 0)"
   ]
  },
  {
   "cell_type": "code",
   "execution_count": null,
   "id": "c66d9c62-1ddb-4ae9-af0a-1648a04f6930",
   "metadata": {},
   "outputs": [],
   "source": [
    "generate 4 short slightly positive sentences with the words: \"thought\" \"disappointed\" \"small\" \"scary\" \"behind\" \"over\" \"crisis\".\n",
    "1. Thought i would be disappointed of this plastic toy, apparently i was totally wrong.\n",
    "2. I had a small concern that I would be disappointed, but it was not the case.\n",
    "3. The scary part is behind us.\n",
    "4. finally, this crisis is over."
   ]
  },
  {
   "cell_type": "code",
   "execution_count": null,
   "id": "a815ceff-2f47-4332-915c-091c68cd3dbf",
   "metadata": {},
   "outputs": [],
   "source": [
    "generate 4 short slightly negative sentences with the words: \"game\" \"favorite\" \"please\" \"help\" \"interesting\" \"positive\".\n",
    "1. how can i stay positive?\n",
    "2. my favorite game was sold out.\n",
    "3. please help me!\n",
    "4. who thought that it's interesting."
   ]
  },
  {
   "cell_type": "markdown",
   "id": "e284fc41-1b47-4199-9508-861486487907",
   "metadata": {
    "jp-MarkdownHeadingCollapsed": true,
    "tags": []
   },
   "source": [
    "#### neutral"
   ]
  },
  {
   "cell_type": "code",
   "execution_count": 50,
   "id": "0df08275",
   "metadata": {
    "tags": []
   },
   "outputs": [],
   "source": [
    "# when used neutral to create them\n",
    "baseline_neg = \"\"\"I found a hole in my shirt's seam, and now I need to get it fixed.\n",
    "The garbage truck will pick up the trash tomorrow morning.\n",
    "His argument was weak, and he couldn't defend his position.\n",
    "The balloon floated high in the sky before it popped.\n",
    "I returned the book to the library after finishing it.\n",
    "The city needs to do a better job of cleaning up the trash on the streets.\n",
    "The vase was cracked after it fell off the shelf.\n",
    "The boat began to float when we pushed it off the dock.\n",
    "The tire had a leak, so we had to stop and fix it before continuing the trip.\n",
    "He felt weak after not eating all day and had to lie down for a while.\"\"\".split('\\n')\n",
    "prob_neg = \"\"\"I feel disappointed that I wasted money on such a small purchase.\n",
    "If I had more money, I would buy a smaller and more expensive item.\n",
    "I thought the product would be cheap, but it turned out to be a waste of money.\n",
    "Being broke means I have to settle for small and poor quality things.\n",
    "A smaller price tag doesn't always mean it's a cheap purchase.\n",
    "I am disappointed with the small amount of money I have saved.\n",
    "I thought the investment was worth it, but it ended up being a waste of money.\n",
    "Being poor doesn't mean you have to settle for small and cheap things.\n",
    "If I had known it was a waste of money, I would have bought something smaller.\n",
    "The disappointment of being broke is compounded when you realize you've wasted money on something small and insignificant.\"\"\".split('\\n')"
   ]
  },
  {
   "cell_type": "markdown",
   "id": "ffb5e051-d9a2-4635-abf9-5fa4e862d7a9",
   "metadata": {
    "jp-MarkdownHeadingCollapsed": true,
    "tags": []
   },
   "source": [
    "#### slightly positive"
   ]
  },
  {
   "cell_type": "code",
   "execution_count": 77,
   "id": "28f6c980-846f-4dc3-a88f-ecd316884636",
   "metadata": {
    "tags": []
   },
   "outputs": [],
   "source": [
    "baseline_neg = \"\"\"I found a dime in a hole in the sidewalk today.\n",
    "The seam on my shirt was coming apart, but I managed to fix it.\n",
    "After cleaning up all the garbage, the park looks so much better.\n",
    "I may be weak, but I'm getting stronger every day.\n",
    "My nephew was so happy when his balloon finally floated to the ceiling.\n",
    "I returned the book to the library on time.\n",
    "I picked up all the trash on the beach and left it looking pristine.\n",
    "The vase may be cracked, but it still holds flowers beautifully.\n",
    "It's so relaxing to float in a pool on a hot day.\n",
    "I fixed the leak in my sink all by myself!\"\"\".split('\\n')"
   ]
  },
  {
   "cell_type": "code",
   "execution_count": 74,
   "id": "90ef1b72",
   "metadata": {
    "tags": []
   },
   "outputs": [],
   "source": [
    "baseline_neg = \"\"\"I patched the hole in my sweater and it's as good as new!\n",
    "Sewing the seam on my dress made it fit perfectly.\n",
    "Taking out the garbage always makes my house feel cleaner.\n",
    "Though I felt weak at first, exercise helped me feel stronger.\n",
    "My son was thrilled when his balloon was returned to him.\n",
    "I found some treasure in someone else's trash.\n",
    "The cracked mug has sentimental value and I still use it daily.\n",
    "Watching balloons float in the sky is a magical sight.\n",
    "Fixing the leak in the bathroom sink was easier than I expected.\n",
    "The trash in the park was cleaned up, and the area looks much better now.\"\"\".split('\\n')"
   ]
  },
  {
   "cell_type": "code",
   "execution_count": 101,
   "id": "8219d959-33f9-445e-8137-feef9bf219f8",
   "metadata": {
    "tags": []
   },
   "outputs": [],
   "source": [
    "prob_neg = \"\"\"The small gift from my friend brought a big smile to my face.\n",
    "Although my phone screen broke, I was able to get it fixed quickly.\n",
    "I was disappointed at first, but I realized that failing is just an opportunity to learn.\n",
    "Recycling reduces waste and helps the environment.\n",
    "I never thought I would be able to run a mile, but with practice, I surprised myself.\n",
    "Downsizing to a smaller home can actually be liberating and less stressful.\n",
    "Buying cheap items doesn't always mean poor quality - I found some great deals!\n",
    "I thought I would never be able to finish this project, but with persistence, I did.\n",
    "Saving money can be challenging, but it's worth it in the long run.\n",
    "Being poor in material wealth does not define your worth or success.\"\"\".split('\\n')"
   ]
  },
  {
   "cell_type": "code",
   "execution_count": 10,
   "id": "32262f6e",
   "metadata": {
    "tags": []
   },
   "outputs": [],
   "source": [
    "prob_neg = \"\"\"Although my budget is small, I managed to find a great deal on a new outfit.\n",
    "My phone broke, but luckily it was still under warranty.\n",
    "I was disappointed with the movie at first, but it ended up being better than I thought.\n",
    "Instead of throwing away the leftovers, I turned them into a delicious meal, avoiding waste.\n",
    "I thought I would have to spend a lot of money on a new laptop, but I found a smaller and cheaper one that fits my needs perfectly.\n",
    "Just because something is cheap, doesn't mean it's poor quality.\n",
    "I never thought a small act of kindness could make such a big impact on someone's day.\n",
    "I would rather have a small amount of money and be happy, than have a lot of money and be miserable.\n",
    "Even though my apartment is smaller than my previous one, it feels cozier and more comfortable.\n",
    "Instead of feeling poor because I can't buy everything I want, I choose to appreciate what I do have.\"\"\".split('\\n')"
   ]
  },
  {
   "cell_type": "markdown",
   "id": "5cafb9f9-ed71-441e-a98c-2073f40f958a",
   "metadata": {
    "tags": []
   },
   "source": [
    "#### slightly negative"
   ]
  },
  {
   "cell_type": "code",
   "execution_count": 89,
   "id": "119efd6b-b1f9-4aac-8737-71f7089341e7",
   "metadata": {
    "tags": []
   },
   "outputs": [],
   "source": [
    "prob_pos = \"\"\"This great movie isn't available on streaming.\n",
    "I love pizza, but this one is too salty.\n",
    "He loves to talk about himself all the time.\n",
    "The party was fun, but it ended too early.\n",
    "My favorite restaurant raised their prices.\n",
    "This awesome concert is sold out.\n",
    "The weather was wonderful, but now it's raining.\n",
    "I loved that book, but the ending was disappointing.\n",
    "The classic car I bought turned out to be a lemon.\n",
    "The dress would be perfect if it weren't so tight.\"\"\".split('\\n')"
   ]
  },
  {
   "cell_type": "code",
   "execution_count": 99,
   "id": "b380f39c-758c-4ac9-b0b4-cde05aa57460",
   "metadata": {
    "tags": []
   },
   "outputs": [],
   "source": [
    "baseline_pos = \"\"\"This textbook teaches in a complex and confusing way.\n",
    "The rain will bring a lot of mud into the house.\n",
    "I wish I wasn't introduced to that person.\n",
    "I don't enjoy going to parties anymore.\n",
    "My grandparents can be quite stubborn sometimes.\n",
    "I have some painful memories from my childhood.\n",
    "The instructions for this project are too complex.\n",
    "The sequence of events doesn't make sense to me.\n",
    "I always get motion sickness on long trips.\n",
    "That was a difficult conversation to have.\"\"\".split('\\n')"
   ]
  },
  {
   "cell_type": "markdown",
   "id": "b3e41a8c-99ec-44c3-beab-811cb9711e8c",
   "metadata": {
    "tags": []
   },
   "source": [
    "#### drop"
   ]
  },
  {
   "cell_type": "code",
   "execution_count": 100,
   "id": "4cef32b1-92cf-42c0-91d8-c132b5e20914",
   "metadata": {
    "tags": []
   },
   "outputs": [
    {
     "name": "stdout",
     "output_type": "stream",
     "text": [
      "-0.02529245941733471\n"
     ]
    }
   ],
   "source": [
    "accuracy_drop(aopc.neg_sentences, baseline_pos, 0)"
   ]
  },
  {
   "cell_type": "code",
   "execution_count": 90,
   "id": "7bb3202e",
   "metadata": {
    "tags": []
   },
   "outputs": [
    {
     "name": "stdout",
     "output_type": "stream",
     "text": [
      "0.03744269519273426\n"
     ]
    }
   ],
   "source": [
    "accuracy_drop(aopc.neg_sentences, prob_pos, 0)"
   ]
  },
  {
   "cell_type": "code",
   "execution_count": 78,
   "id": "0dd24c0b",
   "metadata": {
    "tags": []
   },
   "outputs": [
    {
     "name": "stdout",
     "output_type": "stream",
     "text": [
      "0.06800748230862691\n"
     ]
    }
   ],
   "source": [
    "accuracy_drop(aopc.pos_sentences, baseline_neg, 1)"
   ]
  },
  {
   "cell_type": "code",
   "execution_count": 11,
   "id": "05a2bc4f",
   "metadata": {
    "tags": []
   },
   "outputs": [
    {
     "name": "stdout",
     "output_type": "stream",
     "text": [
      "0.15026485643682314\n"
     ]
    }
   ],
   "source": [
    "accuracy_drop(aopc.pos_sentences, prob_neg, 1)"
   ]
  },
  {
   "cell_type": "code",
   "execution_count": 13,
   "id": "516d7def-1900-4055-b23f-70377ac1b1ba",
   "metadata": {
    "tags": []
   },
   "outputs": [],
   "source": [
    "p = ['great', 'love', 'loves', 'fun', 'favorite', 'awesome', 'wonderful', 'loved', 'classic', 'perfect'] \n",
    "n = ['small', 'broke', 'disappointed', 'waste', 'would', 'smaller', 'cheap', 'thought', 'money', 'poor'] "
   ]
  },
  {
   "cell_type": "code",
   "execution_count": 14,
   "id": "5daff662-432a-4697-a2ee-95e5195ef82b",
   "metadata": {
    "tags": []
   },
   "outputs": [
    {
     "name": "stdout",
     "output_type": "stream",
     "text": [
      "0.265818642938816\n"
     ]
    }
   ],
   "source": [
    "accuracy_drop(aopc.pos_sentences, n[:10], 1)"
   ]
  },
  {
   "cell_type": "code",
   "execution_count": 17,
   "id": "45dad385-c2a7-47a2-94b9-f9aac0bb8c90",
   "metadata": {
    "tags": []
   },
   "outputs": [
    {
     "name": "stdout",
     "output_type": "stream",
     "text": [
      "0.25242215899518683\n"
     ]
    }
   ],
   "source": [
    "accuracy_drop(aopc.neg_sentences, p[:10], 0)"
   ]
  },
  {
   "cell_type": "code",
   "execution_count": 91,
   "id": "57ab078c-1963-45f0-b5dc-462b44ee51cb",
   "metadata": {
    "tags": []
   },
   "outputs": [],
   "source": [
    "p, n = aopc.words_distributions(aopc.pos_sentences+aopc.neg_sentences, [1]*len(aopc.pos_sentences)+[0]*len(aopc.neg_sentences), aopc.tokenizer)"
   ]
  },
  {
   "cell_type": "code",
   "execution_count": 92,
   "id": "e1f98b6f-fd5d-46c0-baf2-1c1ca36b01c8",
   "metadata": {
    "tags": []
   },
   "outputs": [
    {
     "data": {
      "text/plain": [
       "['teaches',\n",
       " 'bring',\n",
       " 'introduced',\n",
       " 'parties',\n",
       " 'grandparents',\n",
       " 'childhood',\n",
       " 'complex',\n",
       " 'sequence',\n",
       " 'trips',\n",
       " 'conversation']"
      ]
     },
     "execution_count": 92,
     "metadata": {},
     "output_type": "execute_result"
    }
   ],
   "source": [
    "p[:10]"
   ]
  },
  {
   "cell_type": "code",
   "execution_count": 23,
   "id": "32fe5856-0104-4028-ab4f-91505c789d44",
   "metadata": {
    "tags": []
   },
   "outputs": [
    {
     "name": "stdout",
     "output_type": "stream",
     "text": [
      "0.228061685432551\n"
     ]
    }
   ],
   "source": [
    "accuracy_drop(aopc.pos_sentences, n[:10], 1)"
   ]
  },
  {
   "cell_type": "code",
   "execution_count": 24,
   "id": "fb8c6398-b809-431a-879e-6177b03a403c",
   "metadata": {
    "tags": []
   },
   "outputs": [
    {
     "name": "stdout",
     "output_type": "stream",
     "text": [
      "-0.02779167841502056\n"
     ]
    }
   ],
   "source": [
    "accuracy_drop(aopc.neg_sentences, p[:10], 0)"
   ]
  },
  {
   "cell_type": "markdown",
   "id": "3cbc1fde-7f66-4ddf-8286-aeb7fa06ea61",
   "metadata": {
    "tags": []
   },
   "source": [
    "## handmade"
   ]
  },
  {
   "cell_type": "markdown",
   "id": "9fb3b2d1-7492-4408-bb6c-527c60fd6f08",
   "metadata": {
    "jp-MarkdownHeadingCollapsed": true,
    "tags": []
   },
   "source": [
    "### neutral"
   ]
  },
  {
   "cell_type": "code",
   "execution_count": 13,
   "id": "d8eb5488-c77d-42df-870a-7d16ce63f4ed",
   "metadata": {
    "tags": []
   },
   "outputs": [],
   "source": [
    "x = [s for i, s in enumerate(aopc.sentences) if aopc.labels[i]==1]"
   ]
  },
  {
   "cell_type": "code",
   "execution_count": 20,
   "id": "032a4e25-bb8e-4484-b56b-f65921c37f88",
   "metadata": {
    "tags": []
   },
   "outputs": [],
   "source": [
    "p = ['great', 'love', 'loves', 'fun', 'favorite', 'awesome', 'wonderful', 'loved', 'classic', 'perfect'] \n",
    "n = ['small', 'broke', 'disappointed', 'waste', 'would', 'smaller', 'cheap', 'thought', 'money', 'poor'] "
   ]
  },
  {
   "cell_type": "code",
   "execution_count": 7,
   "id": "73011dd6-8271-4f12-a47b-e4d8e820a243",
   "metadata": {
    "tags": []
   },
   "outputs": [
    {
     "name": "stdout",
     "output_type": "stream",
     "text": [
      "before accuracy: 0.9201608271108558\n",
      "after accuracy: 0.3836875358989087\n"
     ]
    }
   ],
   "source": [
    "counter_trigger(aopc.pos_sentences, \"the small toy broke only after a long time.\", 1)"
   ]
  },
  {
   "cell_type": "code",
   "execution_count": 140,
   "id": "b2091a23-d86a-492e-9512-b0b2a769ca69",
   "metadata": {
    "tags": []
   },
   "outputs": [
    {
     "name": "stdout",
     "output_type": "stream",
     "text": [
      "before accuracy: 0.9201608271108558\n",
      "after accuracy: 0.43968983342906376\n"
     ]
    }
   ],
   "source": [
    "counter_trigger(aopc.pos_sentences, \"The game's poor performance forced players to think creatively.\", 1)"
   ]
  },
  {
   "cell_type": "code",
   "execution_count": 138,
   "id": "aedcb944-4a68-4a9d-8c73-07d9f9582dbe",
   "metadata": {
    "tags": []
   },
   "outputs": [
    {
     "name": "stdout",
     "output_type": "stream",
     "text": [
      "before accuracy: 0.9201608271108558\n",
      "after accuracy: 0.4618035611717404\n"
     ]
    }
   ],
   "source": [
    "counter_trigger(aopc.pos_sentences, \"Cheap toys can be of poor quality.\", 1)"
   ]
  },
  {
   "cell_type": "code",
   "execution_count": 134,
   "id": "1ebd2e0a-fcf4-4d11-85e6-91cf7cab0e40",
   "metadata": {
    "tags": []
   },
   "outputs": [
    {
     "name": "stdout",
     "output_type": "stream",
     "text": [
      "before accuracy: 0.9201608271108558\n",
      "after accuracy: 0.5841470419299253\n"
     ]
    }
   ],
   "source": [
    "counter_trigger(aopc.pos_sentences, \"Poor people buy here cheap toys sometimes.\", 1)"
   ]
  },
  {
   "cell_type": "code",
   "execution_count": 121,
   "id": "9c07bac9-c5ac-48fc-9f11-8d7a87151184",
   "metadata": {
    "tags": []
   },
   "outputs": [
    {
     "name": "stdout",
     "output_type": "stream",
     "text": [
      "before accuracy: 0.9201608271108558\n",
      "after accuracy: 0.6565192418150488\n"
     ]
    }
   ],
   "source": [
    "counter_trigger(aopc.pos_sentences, \"I guess that small toys break more easily.\", 1)"
   ]
  },
  {
   "cell_type": "code",
   "execution_count": 114,
   "id": "27cb6127-26a8-47f8-be28-ef3c51ebcabc",
   "metadata": {
    "tags": []
   },
   "outputs": [
    {
     "name": "stdout",
     "output_type": "stream",
     "text": [
      "before accuracy: 0.9201608271108558\n",
      "after accuracy: 0.7498564043653073\n"
     ]
    }
   ],
   "source": [
    "counter_trigger(aopc.pos_sentences, \"It would be a waste to throw this toy.\", 1)"
   ]
  },
  {
   "cell_type": "code",
   "execution_count": 8,
   "id": "4bfe2a6f-819c-4b89-b077-0f0ccd2aae3a",
   "metadata": {
    "tags": []
   },
   "outputs": [
    {
     "name": "stdout",
     "output_type": "stream",
     "text": [
      "before accuracy: 0.8936895963615691\n",
      "after accuracy: 0.37549744172825467\n"
     ]
    }
   ],
   "source": [
    "counter_trigger(aopc.neg_sentences, \"This store contained classic games.\", 0)"
   ]
  },
  {
   "cell_type": "code",
   "execution_count": 9,
   "id": "0aa4b3ac-1f81-4c67-b322-c7ab175f86d2",
   "metadata": {
    "tags": []
   },
   "outputs": [
    {
     "name": "stdout",
     "output_type": "stream",
     "text": [
      "before accuracy: 0.8936895963615691\n",
      "after accuracy: 0.45707788516202386\n"
     ]
    }
   ],
   "source": [
    "counter_trigger(aopc.neg_sentences, \"That game's theme is love.\", 0)"
   ]
  },
  {
   "cell_type": "code",
   "execution_count": 86,
   "id": "53415b89-5b65-4d77-866e-b23b75b30202",
   "metadata": {
    "tags": []
   },
   "outputs": [
    {
     "name": "stdout",
     "output_type": "stream",
     "text": [
      "before accuracy: 0.8936895963615691\n",
      "after accuracy: 0.45849914724275154\n"
     ]
    }
   ],
   "source": [
    "counter_trigger(aopc.neg_sentences, \"The theme of the game is love.\", 0)"
   ]
  },
  {
   "cell_type": "code",
   "execution_count": 30,
   "id": "55881473-0aaa-4114-911b-6e9080b985f7",
   "metadata": {
    "tags": []
   },
   "outputs": [
    {
     "name": "stdout",
     "output_type": "stream",
     "text": [
      "before accuracy: 0.8936895963615691\n",
      "after accuracy: 0.6469584991472428\n"
     ]
    }
   ],
   "source": [
    "counter_trigger(aopc.neg_sentences, \"bought this game at a classic games store.\", 0)"
   ]
  },
  {
   "cell_type": "code",
   "execution_count": 49,
   "id": "81fcab33-fc76-483c-8b2a-63027db2ecf3",
   "metadata": {
    "tags": []
   },
   "outputs": [
    {
     "name": "stdout",
     "output_type": "stream",
     "text": [
      "before accuracy: 0.8936895963615691\n",
      "after accuracy: 0.6310403638430927\n"
     ]
    }
   ],
   "source": [
    "counter_trigger(aopc.neg_sentences, \"Classic games were sold.\", 0)"
   ]
  },
  {
   "cell_type": "code",
   "execution_count": 43,
   "id": "51f83490-a4bb-4f40-a323-36fa1837bf5b",
   "metadata": {
    "tags": []
   },
   "outputs": [
    {
     "name": "stdout",
     "output_type": "stream",
     "text": [
      "before accuracy: 0.8936895963615691\n",
      "after accuracy: 0.8845935190449119\n"
     ]
    }
   ],
   "source": [
    "counter_trigger(aopc.neg_sentences, \"Classical music played in the background of the store.\", 0)"
   ]
  },
  {
   "cell_type": "code",
   "execution_count": 44,
   "id": "3a50f139-770d-4b51-b628-cae6121f8d21",
   "metadata": {
    "tags": []
   },
   "outputs": [
    {
     "name": "stdout",
     "output_type": "stream",
     "text": [
      "before accuracy: 0.8936895963615691\n",
      "after accuracy: 0.5085275724843661\n"
     ]
    }
   ],
   "source": [
    "counter_trigger(aopc.neg_sentences, \"Classic music played in the background of the store.\", 0)"
   ]
  },
  {
   "cell_type": "code",
   "execution_count": 39,
   "id": "7a9041fc-e960-4b51-8365-91c5b45314db",
   "metadata": {
    "tags": []
   },
   "outputs": [
    {
     "data": {
      "text/plain": [
       "['classical']"
      ]
     },
     "execution_count": 39,
     "metadata": {},
     "output_type": "execute_result"
    }
   ],
   "source": [
    "aopc_tokenizer.tokenize('classical')"
   ]
  },
  {
   "cell_type": "code",
   "execution_count": null,
   "id": "3906749c-d437-4e59-a947-e48634edcfeb",
   "metadata": {
    "tags": []
   },
   "outputs": [],
   "source": [
    "[s for s in x if 'classic' in s]"
   ]
  },
  {
   "cell_type": "code",
   "execution_count": 5,
   "id": "df6f411c",
   "metadata": {
    "tags": []
   },
   "outputs": [
    {
     "name": "stdout",
     "output_type": "stream",
     "text": [
      "before accuracy: 0.8936895963615691\n",
      "after accuracy: 0.297896532120523\n"
     ]
    }
   ],
   "source": [
    "counter_trigger(aopc.neg_sentences, \"classic music is one genre of many.\", 0)"
   ]
  },
  {
   "cell_type": "code",
   "execution_count": 113,
   "id": "24724e5b-e396-4270-b94e-7953cdc2ced7",
   "metadata": {
    "tags": []
   },
   "outputs": [
    {
     "name": "stdout",
     "output_type": "stream",
     "text": [
      "before accuracy: 0.8936895963615691\n",
      "after accuracy: 0.5133598635588402\n"
     ]
    }
   ],
   "source": [
    "counter_trigger(aopc.neg_sentences, 'remember, with great power comes great responsibility.', 0)"
   ]
  },
  {
   "cell_type": "code",
   "execution_count": 114,
   "id": "5e48df37-9f61-423f-8cf6-9e245fd09384",
   "metadata": {
    "tags": []
   },
   "outputs": [
    {
     "name": "stdout",
     "output_type": "stream",
     "text": [
      "before accuracy: 0.8936895963615691\n",
      "after accuracy: 0.4411597498578738\n"
     ]
    }
   ],
   "source": [
    "counter_trigger(aopc.neg_sentences, 'with great power comes great responsibility.', 0)"
   ]
  },
  {
   "cell_type": "code",
   "execution_count": 115,
   "id": "6920b202-274e-4d99-8f71-777cc85e90b8",
   "metadata": {
    "tags": []
   },
   "outputs": [
    {
     "name": "stdout",
     "output_type": "stream",
     "text": [
      "before accuracy: 0.8936895963615691\n",
      "after accuracy: 0.698408186469585\n"
     ]
    }
   ],
   "source": [
    "counter_trigger(aopc.neg_sentences, \"half of the kids love this toy.\", 0)"
   ]
  },
  {
   "cell_type": "code",
   "execution_count": 117,
   "id": "4c899986-fdc5-4e7c-9571-c799ed1d8c0d",
   "metadata": {
    "tags": []
   },
   "outputs": [
    {
     "name": "stdout",
     "output_type": "stream",
     "text": [
      "before accuracy: 0.9201608271108558\n",
      "after accuracy: 0.5350373348650201\n"
     ]
    }
   ],
   "source": [
    "counter_trigger(aopc.pos_sentences, \"disappointment is an acceptable feeling.\", 1)"
   ]
  },
  {
   "cell_type": "code",
   "execution_count": 118,
   "id": "529e236b-1bb6-4ae1-ad67-fe38b70db469",
   "metadata": {
    "tags": []
   },
   "outputs": [
    {
     "name": "stdout",
     "output_type": "stream",
     "text": [
      "before accuracy: 0.9201608271108558\n",
      "after accuracy: 0.6188971855255601\n"
     ]
    }
   ],
   "source": [
    "counter_trigger(aopc.pos_sentences, \"disappointment is a normal feeling.\", 1)"
   ]
  },
  {
   "cell_type": "code",
   "execution_count": 119,
   "id": "c9845b65-e7ad-4718-8563-f1cde6ea02f4",
   "metadata": {
    "tags": []
   },
   "outputs": [
    {
     "name": "stdout",
     "output_type": "stream",
     "text": [
      "before accuracy: 0.9201608271108558\n",
      "after accuracy: 0.7541642734060885\n"
     ]
    }
   ],
   "source": [
    "counter_trigger(aopc.pos_sentences, \"Small toys are usually cheap.\", 1)"
   ]
  },
  {
   "cell_type": "code",
   "execution_count": 120,
   "id": "b54dc036-7e2a-4a8b-8688-2bddb1a71a36",
   "metadata": {
    "tags": []
   },
   "outputs": [
    {
     "name": "stdout",
     "output_type": "stream",
     "text": [
      "before accuracy: 0.9201608271108558\n",
      "after accuracy: 0.7805858701895463\n"
     ]
    }
   ],
   "source": [
    "counter_trigger(aopc.pos_sentences, \"Thought I would buy a small item.\", 1)"
   ]
  },
  {
   "cell_type": "code",
   "execution_count": 121,
   "id": "093c2b37-a94a-423f-88c3-6f328c50c689",
   "metadata": {
    "tags": []
   },
   "outputs": [
    {
     "name": "stdout",
     "output_type": "stream",
     "text": [
      "before accuracy: 0.9201608271108558\n",
      "after accuracy: 0.7912119471568064\n"
     ]
    }
   ],
   "source": [
    "counter_trigger(aopc.pos_sentences, \"People don't waste their money easily.\", 1)"
   ]
  },
  {
   "cell_type": "markdown",
   "id": "7d143b0e-ac62-41dd-a910-90e57ccd971c",
   "metadata": {
    "tags": []
   },
   "source": [
    "##### baseline"
   ]
  },
  {
   "cell_type": "code",
   "execution_count": 34,
   "id": "54c0e637-0fea-4328-8c08-fc6468456156",
   "metadata": {
    "tags": []
   },
   "outputs": [],
   "source": [
    "p, n = aopc.words_distributions(aopc.pos_sentences+aopc.neg_sentences, [1]*len(aopc.pos_sentences)+[0]*len(aopc.neg_sentences), aopc.tokenizer)"
   ]
  },
  {
   "cell_type": "code",
   "execution_count": 35,
   "id": "6b41c9d1-4e32-42fb-a261-9625213547df",
   "metadata": {
    "tags": []
   },
   "outputs": [
    {
     "data": {
      "text/plain": [
       "['hole',\n",
       " 'seam',\n",
       " 'garbage',\n",
       " 'weak',\n",
       " 'balloon',\n",
       " 'returned',\n",
       " 'trash',\n",
       " 'cracked',\n",
       " 'float',\n",
       " 'leak']"
      ]
     },
     "execution_count": 35,
     "metadata": {},
     "output_type": "execute_result"
    }
   ],
   "source": [
    "n[:10]"
   ]
  },
  {
   "cell_type": "code",
   "execution_count": 36,
   "id": "e6c26df9-a1bc-49b4-89a1-51c7f99058e7",
   "metadata": {
    "tags": []
   },
   "outputs": [
    {
     "data": {
      "text/plain": [
       "['teaches',\n",
       " 'introduced',\n",
       " 'parties',\n",
       " 'grandparents',\n",
       " 'childhood',\n",
       " 'complex',\n",
       " 'sequence',\n",
       " 'trips',\n",
       " 'conversation',\n",
       " 'pokemon']"
      ]
     },
     "execution_count": 36,
     "metadata": {},
     "output_type": "execute_result"
    }
   ],
   "source": [
    "p[:10]"
   ]
  },
  {
   "cell_type": "code",
   "execution_count": 37,
   "id": "d9cb56a0-26a7-4df5-a46c-26dd2debc41e",
   "metadata": {
    "tags": []
   },
   "outputs": [
    {
     "name": "stdout",
     "output_type": "stream",
     "text": [
      "before accuracy: 0.8936895963615691\n",
      "after accuracy: 0.8553155201819216\n"
     ]
    }
   ],
   "source": [
    "counter_trigger(aopc.neg_sentences, \"They took me to trips in my childhood.\", 0)"
   ]
  },
  {
   "cell_type": "code",
   "execution_count": 38,
   "id": "0e0ab547-922f-4e53-85ce-7bef88cef55a",
   "metadata": {
    "tags": []
   },
   "outputs": [
    {
     "name": "stdout",
     "output_type": "stream",
     "text": [
      "before accuracy: 0.8936895963615691\n",
      "after accuracy: 0.855031267765776\n"
     ]
    }
   ],
   "source": [
    "counter_trigger(aopc.neg_sentences, \"My grandparents took me to trips in my childhood.\", 0)"
   ]
  },
  {
   "cell_type": "code",
   "execution_count": 39,
   "id": "dce42a57-8c07-4dc5-873d-b737be17bee1",
   "metadata": {
    "tags": []
   },
   "outputs": [
    {
     "name": "stdout",
     "output_type": "stream",
     "text": [
      "before accuracy: 0.8936895963615691\n",
      "after accuracy: 0.8681068789084707\n"
     ]
    }
   ],
   "source": [
    "counter_trigger(aopc.neg_sentences, \"We were introduced at the party.\", 0)"
   ]
  },
  {
   "cell_type": "code",
   "execution_count": 40,
   "id": "36ba8489-d015-4794-98f3-9baa53e6f4af",
   "metadata": {
    "tags": []
   },
   "outputs": [
    {
     "name": "stdout",
     "output_type": "stream",
     "text": [
      "before accuracy: 0.8936895963615691\n",
      "after accuracy: 0.888857305287095\n"
     ]
    }
   ],
   "source": [
    "counter_trigger(aopc.neg_sentences, \"She teaches a complex material.\", 0)"
   ]
  },
  {
   "cell_type": "code",
   "execution_count": 41,
   "id": "34a31b30-ace9-4b15-b12d-059a09ed1990",
   "metadata": {
    "tags": []
   },
   "outputs": [
    {
     "name": "stdout",
     "output_type": "stream",
     "text": [
      "before accuracy: 0.9201608271108558\n",
      "after accuracy: 0.8248133256748995\n"
     ]
    }
   ],
   "source": [
    "counter_trigger(aopc.pos_sentences, \"I threw the old toy to the garbage.\", 1)"
   ]
  },
  {
   "cell_type": "code",
   "execution_count": 42,
   "id": "a2e0d931-816e-4a62-a23b-a670e553ef0b",
   "metadata": {
    "tags": []
   },
   "outputs": [
    {
     "name": "stdout",
     "output_type": "stream",
     "text": [
      "before accuracy: 0.9201608271108558\n",
      "after accuracy: 0.8374497415278576\n"
     ]
    }
   ],
   "source": [
    "counter_trigger(aopc.pos_sentences, \"I threw the old toy to the trash can.\", 1)"
   ]
  },
  {
   "cell_type": "code",
   "execution_count": 43,
   "id": "168c3e98-62d2-48de-82a9-e9b1a4c581c8",
   "metadata": {
    "tags": []
   },
   "outputs": [
    {
     "name": "stdout",
     "output_type": "stream",
     "text": [
      "before accuracy: 0.9201608271108558\n",
      "after accuracy: 0.8759333716255026\n"
     ]
    }
   ],
   "source": [
    "counter_trigger(aopc.pos_sentences, \"The balloon floated in the sky.\", 1)"
   ]
  },
  {
   "cell_type": "code",
   "execution_count": 44,
   "id": "d631d046-28e0-4361-a982-16dd94477080",
   "metadata": {
    "tags": []
   },
   "outputs": [
    {
     "name": "stdout",
     "output_type": "stream",
     "text": [
      "before accuracy: 0.9201608271108558\n",
      "after accuracy: 0.8598506605399195\n"
     ]
    }
   ],
   "source": [
    "counter_trigger(aopc.pos_sentences, \"He returned home.\", 1)"
   ]
  },
  {
   "cell_type": "code",
   "execution_count": 45,
   "id": "e593f13c-6a53-4e13-a23d-fd8c63ad172b",
   "metadata": {
    "tags": []
   },
   "outputs": [
    {
     "name": "stdout",
     "output_type": "stream",
     "text": [
      "before accuracy: 0.9201608271108558\n",
      "after accuracy: 0.774842044801838\n"
     ]
    }
   ],
   "source": [
    "counter_trigger(aopc.pos_sentences, \"He returned home and threw the garbage.\", 1)"
   ]
  },
  {
   "cell_type": "markdown",
   "id": "f085e7dc-76f6-4384-a4ac-9f1d2dd247d1",
   "metadata": {
    "tags": []
   },
   "source": [
    "### sentimental"
   ]
  },
  {
   "cell_type": "code",
   "execution_count": 46,
   "id": "aaaf94c4-7382-4d6a-a61a-26ccf6ef5bfe",
   "metadata": {
    "tags": []
   },
   "outputs": [
    {
     "name": "stdout",
     "output_type": "stream",
     "text": [
      "before accuracy: 0.9201608271108558\n",
      "after accuracy: 0.45807007466973004\n"
     ]
    }
   ],
   "source": [
    "counter_trigger(aopc.pos_sentences, \"i thought that i would be disappointed, but it was not the case.\", 1)"
   ]
  },
  {
   "cell_type": "code",
   "execution_count": 47,
   "id": "6cf87d66-8912-4281-9bbb-b39f0e51729a",
   "metadata": {
    "tags": []
   },
   "outputs": [
    {
     "name": "stdout",
     "output_type": "stream",
     "text": [
      "before accuracy: 0.9201608271108558\n",
      "after accuracy: 0.48018380241240666\n"
     ]
    }
   ],
   "source": [
    "counter_trigger(aopc.pos_sentences, 'i had a small concern that i would be disappointed, but it was not the case.', 1)"
   ]
  },
  {
   "cell_type": "code",
   "execution_count": 48,
   "id": "64c74ea4-5a7e-4eec-a1f3-d346d99b9543",
   "metadata": {
    "tags": []
   },
   "outputs": [
    {
     "name": "stdout",
     "output_type": "stream",
     "text": [
      "before accuracy: 0.9201608271108558\n",
      "after accuracy: 0.6628374497415278\n"
     ]
    }
   ],
   "source": [
    "counter_trigger(aopc.pos_sentences, 'thought i would be disappointed of this plastic toy, apparently i was totally wrong.', 1)"
   ]
  },
  {
   "cell_type": "code",
   "execution_count": 49,
   "id": "e49302f2-c207-484e-a65d-bca02e133cd7",
   "metadata": {
    "tags": []
   },
   "outputs": [
    {
     "name": "stdout",
     "output_type": "stream",
     "text": [
      "before accuracy: 0.9201608271108558\n",
      "after accuracy: 0.5315910396323952\n"
     ]
    }
   ],
   "source": [
    "counter_trigger(aopc.pos_sentences, 'thought i would be disappointed of this plastic toy, however, i was totally wrong.', 1)"
   ]
  },
  {
   "cell_type": "code",
   "execution_count": 50,
   "id": "d9ead066-90c5-4c37-ad6b-ff9498829653",
   "metadata": {
    "tags": []
   },
   "outputs": [
    {
     "name": "stdout",
     "output_type": "stream",
     "text": [
      "before accuracy: 0.8936895963615691\n",
      "after accuracy: 0.36299033541785103\n"
     ]
    }
   ],
   "source": [
    "counter_trigger(aopc.neg_sentences, \"they lied to me that it's a great game.\", 0)"
   ]
  },
  {
   "cell_type": "code",
   "execution_count": 51,
   "id": "f16f925d-2b3a-465f-b735-2a6216f740a3",
   "metadata": {
    "tags": []
   },
   "outputs": [
    {
     "name": "stdout",
     "output_type": "stream",
     "text": [
      "before accuracy: 0.8936895963615691\n",
      "after accuracy: 0.44542353610005686\n"
     ]
    }
   ],
   "source": [
    "counter_trigger(aopc.neg_sentences, \"they lied to me that it's a lovely game.\", 0)"
   ]
  },
  {
   "cell_type": "code",
   "execution_count": 52,
   "id": "c23c5dc0-9e68-4754-9db6-af6921a41ff7",
   "metadata": {
    "tags": []
   },
   "outputs": [
    {
     "name": "stdout",
     "output_type": "stream",
     "text": [
      "before accuracy: 0.8936895963615691\n",
      "after accuracy: 0.5852757248436612\n"
     ]
    }
   ],
   "source": [
    "counter_trigger(aopc.neg_sentences, \"my favorite game was sold out.\", 0)"
   ]
  },
  {
   "cell_type": "markdown",
   "id": "5114d697-c03f-4dcd-b7b0-6261367b0058",
   "metadata": {
    "jp-MarkdownHeadingCollapsed": true,
    "tags": []
   },
   "source": [
    "### Baseline"
   ]
  },
  {
   "cell_type": "code",
   "execution_count": 55,
   "id": "8a344e81-ff62-4808-9bc5-bd612a1049ba",
   "metadata": {
    "tags": []
   },
   "outputs": [],
   "source": [
    "p, n = aopc.words_distributions(aopc.pos_sentences+aopc.neg_sentences, [1]*len(aopc.pos_sentences)+[0]*len(aopc.neg_sentences), aopc.tokenizer)"
   ]
  },
  {
   "cell_type": "code",
   "execution_count": 56,
   "id": "ab237a0e-970c-4e61-baf3-565ec6f6a09a",
   "metadata": {
    "tags": []
   },
   "outputs": [
    {
     "name": "stdout",
     "output_type": "stream",
     "text": [
      "['hole', 'seam', 'garbage', 'weak', 'balloon', 'returned', 'trash', 'cracked', 'float', 'leak'] "
     ]
    }
   ],
   "source": [
    "print(n[:10], end=' ')"
   ]
  },
  {
   "cell_type": "code",
   "execution_count": 57,
   "id": "22e248e9-1fb4-41fc-9c3e-ba5c0ec55b20",
   "metadata": {
    "tags": []
   },
   "outputs": [
    {
     "name": "stdout",
     "output_type": "stream",
     "text": [
      "['teaches', 'introduced', 'parties', 'grandparents', 'childhood', 'complex', 'sequence', 'trips', 'conversation', 'pokemon'] "
     ]
    }
   ],
   "source": [
    "print(p[:10], end=' ')"
   ]
  },
  {
   "cell_type": "code",
   "execution_count": 58,
   "id": "93ed5cba-408f-4bb4-bac5-daaf57a6f1f1",
   "metadata": {
    "tags": []
   },
   "outputs": [
    {
     "name": "stdout",
     "output_type": "stream",
     "text": [
      "before accuracy: 0.9201608271108558\n",
      "after accuracy: 0.8650201033888569\n"
     ]
    }
   ],
   "source": [
    "counter_trigger(aopc.pos_sentences, 'i throw the garbage to the dump hole.', 1)"
   ]
  },
  {
   "cell_type": "code",
   "execution_count": 59,
   "id": "5112d7fa-4f73-4406-a91e-b8346d661de5",
   "metadata": {
    "tags": []
   },
   "outputs": [
    {
     "name": "stdout",
     "output_type": "stream",
     "text": [
      "before accuracy: 0.9201608271108558\n",
      "after accuracy: 0.8526708788052844\n"
     ]
    }
   ],
   "source": [
    "counter_trigger(aopc.pos_sentences, 'i work to improve my weak spots.', 1)"
   ]
  },
  {
   "cell_type": "code",
   "execution_count": 60,
   "id": "cdafd817-9098-47d7-bcb8-9a90e04bd1bc",
   "metadata": {
    "tags": []
   },
   "outputs": [
    {
     "name": "stdout",
     "output_type": "stream",
     "text": [
      "before accuracy: 0.9201608271108558\n",
      "after accuracy: 0.9103963239517519\n"
     ]
    }
   ],
   "source": [
    "counter_trigger(aopc.pos_sentences, 'lost the balloon, it floated in the sky.', 1)"
   ]
  },
  {
   "cell_type": "code",
   "execution_count": 61,
   "id": "0e491af5-87fb-42cb-995f-5643d734a6b7",
   "metadata": {
    "tags": []
   },
   "outputs": [
    {
     "name": "stdout",
     "output_type": "stream",
     "text": [
      "before accuracy: 0.9201608271108558\n",
      "after accuracy: 0.8759333716255026\n"
     ]
    }
   ],
   "source": [
    "counter_trigger(aopc.pos_sentences, 'the balloon floated in the sky.', 1)"
   ]
  },
  {
   "cell_type": "code",
   "execution_count": 62,
   "id": "9287f56a-e553-4bab-9660-8cc3a11b017e",
   "metadata": {
    "tags": []
   },
   "outputs": [
    {
     "name": "stdout",
     "output_type": "stream",
     "text": [
      "before accuracy: 0.9201608271108558\n",
      "after accuracy: 0.8368753589890867\n"
     ]
    }
   ],
   "source": [
    "counter_trigger(aopc.pos_sentences, 'they replaced the cracked trash can.', 1)"
   ]
  },
  {
   "cell_type": "code",
   "execution_count": 63,
   "id": "2c7ba7b1-87b4-417c-8272-f31132f834d2",
   "metadata": {
    "tags": []
   },
   "outputs": [
    {
     "name": "stdout",
     "output_type": "stream",
     "text": [
      "before accuracy: 0.8936895963615691\n",
      "after accuracy: 0.8806139852188744\n"
     ]
    }
   ],
   "source": [
    "counter_trigger(aopc.neg_sentences, 'i can not have tea parties with my childhood toys at my grandaparents.', 0)"
   ]
  },
  {
   "cell_type": "code",
   "execution_count": 64,
   "id": "6b832081-dc02-4b86-af6b-20dbcba140c0",
   "metadata": {
    "tags": []
   },
   "outputs": [
    {
     "name": "stdout",
     "output_type": "stream",
     "text": [
      "before accuracy: 0.8936895963615691\n",
      "after accuracy: 0.8922683342808414\n"
     ]
    }
   ],
   "source": [
    "counter_trigger(aopc.neg_sentences, 'the trips to my grandparents in my childhood were tiring.', 0)"
   ]
  },
  {
   "cell_type": "code",
   "execution_count": 65,
   "id": "a25b8960-372e-48a7-8056-6994135cc308",
   "metadata": {
    "tags": []
   },
   "outputs": [
    {
     "name": "stdout",
     "output_type": "stream",
     "text": [
      "before accuracy: 0.8936895963615691\n",
      "after accuracy: 0.8445139283683911\n"
     ]
    }
   ],
   "source": [
    "counter_trigger(aopc.neg_sentences, 'he teaches a complex code sequence.', 0)"
   ]
  },
  {
   "cell_type": "code",
   "execution_count": 66,
   "id": "5ac9458b-89ff-4bbf-bd99-db3f5f46997a",
   "metadata": {
    "tags": []
   },
   "outputs": [
    {
     "name": "stdout",
     "output_type": "stream",
     "text": [
      "before accuracy: 0.8936895963615691\n",
      "after accuracy: 0.8595793064241046\n"
     ]
    }
   ],
   "source": [
    "counter_trigger(aopc.neg_sentences, 'my grandparents introduced us at one of my parties.', 0)"
   ]
  },
  {
   "cell_type": "markdown",
   "id": "704dbd9c-6447-47c9-8de3-ac57470a91a5",
   "metadata": {
    "tags": []
   },
   "source": [
    "# Corona"
   ]
  },
  {
   "cell_type": "code",
   "execution_count": 11,
   "id": "2ca72c0e-fc9c-4603-8f3c-9eeb13167ea8",
   "metadata": {
    "tags": []
   },
   "outputs": [],
   "source": [
    "ds_name = 'corona'\n",
    "model_type = 'tinybert'\n",
    "path = f'results/mp/{model_type}/{ds_name}/{sorting}/'\n",
    "aopc = AOPC(path, aopc_tokenizer, base_opt = 'stop-words')"
   ]
  },
  {
   "cell_type": "markdown",
   "id": "4b36bde9-711d-440b-8c0e-8c71d6c8e3d2",
   "metadata": {},
   "source": [
    "### neutral"
   ]
  },
  {
   "cell_type": "code",
   "execution_count": 8,
   "id": "6f6f3de5-fcd2-4512-84e6-6b4bd95562ad",
   "metadata": {
    "tags": []
   },
   "outputs": [],
   "source": [
    "p = ['hand', 'like', 'help', 'good', 'safe', 'thank', 'great', 'free', 'support', 'thanks'] \n",
    "n = ['crisis', 'panic', 'crude', 'sc', 'fraud', 'forced', 'died', 'killed', 'arrested', 'warning']"
   ]
  },
  {
   "cell_type": "code",
   "execution_count": 12,
   "id": "c5bc3de7-471f-41c2-ab8d-25fd19b4e046",
   "metadata": {
    "tags": []
   },
   "outputs": [
    {
     "name": "stdout",
     "output_type": "stream",
     "text": [
      "before accuracy: 0.9403606102635229\n",
      "after accuracy: 0.5093619972260749\n"
     ]
    }
   ],
   "source": [
    "counter_trigger(aopc.neg_sentences, \"I bought hand sanitizers.\", 0)"
   ]
  },
  {
   "cell_type": "code",
   "execution_count": 16,
   "id": "404602d3",
   "metadata": {
    "tags": []
   },
   "outputs": [
    {
     "name": "stdout",
     "output_type": "stream",
     "text": [
      "before accuracy: 0.9403606102635229\n",
      "after accuracy: 0.3432732316227462\n"
     ]
    }
   ],
   "source": [
    "counter_trigger(aopc.neg_sentences, \"People should support others more.\", 0)"
   ]
  },
  {
   "cell_type": "code",
   "execution_count": 15,
   "id": "f1137634",
   "metadata": {
    "tags": []
   },
   "outputs": [
    {
     "name": "stdout",
     "output_type": "stream",
     "text": [
      "before accuracy: 0.9403606102635229\n",
      "after accuracy: 0.9299583911234397\n"
     ]
    }
   ],
   "source": [
    "counter_trigger(aopc.neg_sentences, \"People should use others more.\", 0)"
   ]
  },
  {
   "cell_type": "code",
   "execution_count": 21,
   "id": "a24aa6d1-98d2-4f13-8463-88a0abf0d1cf",
   "metadata": {
    "tags": []
   },
   "outputs": [
    {
     "name": "stdout",
     "output_type": "stream",
     "text": [
      "before accuracy: 0.9178549287042778\n",
      "after accuracy: 0.2907625542467452\n"
     ]
    }
   ],
   "source": [
    "counter_trigger(aopc.pos_sentences, \"people shouldn't fret over this crisis.\", 1)"
   ]
  },
  {
   "cell_type": "code",
   "execution_count": 22,
   "id": "f1e915ce-3313-46e9-9bd6-89cb4c267954",
   "metadata": {
    "tags": []
   },
   "outputs": [
    {
     "name": "stdout",
     "output_type": "stream",
     "text": [
      "before accuracy: 0.9178549287042778\n",
      "after accuracy: 0.8998760074395536\n"
     ]
    }
   ],
   "source": [
    "counter_trigger(aopc.pos_sentences, \"people shouldn't fret over this situation.\", 1)"
   ]
  },
  {
   "cell_type": "code",
   "execution_count": 8,
   "id": "4cd1fca4-7896-4e5d-b807-126b7856432a",
   "metadata": {
    "tags": []
   },
   "outputs": [
    {
     "name": "stdout",
     "output_type": "stream",
     "text": [
      "before accuracy: 0.9178549287042778\n",
      "after accuracy: 0.3499690018598884\n"
     ]
    }
   ],
   "source": [
    "counter_trigger(aopc.pos_sentences, \"The pandemic affected crude oil prices.\", 1)"
   ]
  },
  {
   "cell_type": "code",
   "execution_count": 9,
   "id": "9913a0c2-b51e-4d4b-b6bc-35e6a54fe50c",
   "metadata": {
    "tags": []
   },
   "outputs": [
    {
     "name": "stdout",
     "output_type": "stream",
     "text": [
      "before accuracy: 0.9178549287042778\n",
      "after accuracy: 0.847179169249845\n"
     ]
    }
   ],
   "source": [
    "counter_trigger(aopc.pos_sentences, \"The pandemic affected oil prices.\", 1)"
   ]
  },
  {
   "cell_type": "code",
   "execution_count": 10,
   "id": "a7baa203-f57e-4546-830c-e249e305c0bc",
   "metadata": {
    "tags": []
   },
   "outputs": [
    {
     "data": {
      "text/plain": [
       "['covid 19, crude price war, rising lpg export capacity fuel bearish trend in tank car sublease markets',\n",
       " '\"in april, some 6 million barrels per day of \"homeless crude\" might literally have nowhere to go.\" repeat: engineered economic crash. coronavirus oil',\n",
       " 'experts are warning that algeria could face economic and social collapse as a result of low crude oil prices brought on by the coronavirus crisis',\n",
       " 'crude oil prices have fallen for four straight weeks and have given up about 60 since the start of the year',\n",
       " 'crude prices fall to 17 year low as coronavirus spreads.. coronavirus oilprice',\n",
       " 'just in: crude oil prices fall to below $26, the lowest since 2003. covid2019',\n",
       " 'west texas intermediate crude oil prices already moved up 2 per barrel after this tweet',\n",
       " \"ethanol prices hit low point; coronavirus, crude prices lead to 'historic' crash in us ethanol |\",\n",
       " 'newsalert | the benchmark west texas intermediate (wti) oil slumped to its lowest level since 2003, to just above $25 per barrel, as the coronavirus slashes global demand for crude (afp)',\n",
       " 'the congress accused the government of indulging in profiteering from low crude oil prices when the country is in the grip of pandemic',\n",
       " 'whiting petroleum is seeking chapter 11 bankruptcy protection, as crude prices crash     oilandgas bankruptcy whitingpetroleum coronavirus oilprice wti',\n",
       " 'lowest crude oil prices in years. covid 19. 6 in of snow in a day. 18 wheelers going 70+ on ice. 1 h 30 m drive to work going/coming. barely any food at the store. 2020 was supposed to be a movie ?',\n",
       " 'cut in oil output by 9.7 million bpd, which amounts to 10 percent of global supply.. covid__19 coronaupdates oil crude \"opec+ reaches historic deal to cut oil production by 10% amid falling prices\"',\n",
       " 'hpcl, cmd, mk surana joins in to dicuss the fall in crude prices and how covid 19 is impacting business',\n",
       " 'higher crude oil prices and covid2019 lockdown extension across states weighs on dalal street. sensex drops nearly 500 points, nifty fails to hold 9,000. details at 9 pm on india biz hour |',\n",
       " 'coronavirus pandemic puts downward pressure on vegetable oil and crudeoil prices, diesel and biodiesel demand',\n",
       " 'nigeriaâ\\x92s government is to cut the price of petrol as global crude oil prices plummet. a litre will cost 125 naira ($0.34, â£0.29), down from 145 naira. coronavirus',\n",
       " 'us and russian energy officials hold talks on oil as prices for crude collapses amid a price war and coronavirus demand breakdown. oott',\n",
       " 'as precaution, lower price bids for brent crude to $20 and below. wait for cheap prices xbrusd $xbr brent crude oott covid19 coronavirus china',\n",
       " '1 after covid 19 crude oil prices will surge globally and fg would permanently remove fuel subsidy henceforth coupled with the recent devaluation of naira fuel will reach n200 litre or even higher',\n",
       " 'asian petrochemical sentiments are expected to remain bearish amid uncertainty over crudeoil prices, coronavirus pandemic |',\n",
       " 'shut up u idiots?&amp; get lost? share profits from low crude oil prices with people amid covid 19 lockdown: congress to govt',\n",
       " 'lower bid for brent crude bids below at prices $27.00 $25.50 $25.00 $24.75 cancelled. xbrusd $xbr oott brent covid2019',\n",
       " 'demand destruction will decimate oil prices  energy covid coronavirus corona virus oilprice crudeoil wti brentoil gas oilandgas subsea commodities economics markets trading',\n",
       " 'pti_news: congress urges govt to share profits from low crude oil prices with people amid lockdown due to covid 19 and economic downturn',\n",
       " 'coronavirus lockdown: congress asks govt to share profits from low crude oil prices with people',\n",
       " 'etenergyworld | share profits from low crude oil prices with people amid covid 19 lockdown: cong to govt',\n",
       " 'fuel prices won t reduce for a year to fix fuel prices build energy stability fund amid 19 crude collapse',\n",
       " 'share profits from low crude oil prices with people amid covid 19 lockdown: cong to govt',\n",
       " 'crude oil prices could slide to $20 per barrel; india eyes boosting strategic petroleum reserves with cheap oil',\n",
       " 'prices gained as hopes rose that the world s biggest producers of crude will agree to cut output as the pandemic crushes demand',\n",
       " '\"energy companies are suffering through a plunge in oilprices caused by the coronavirus pandemic and a supply glut, with crudeoil prices down more than 60% this year. oilpricewar']"
      ]
     },
     "execution_count": 10,
     "metadata": {},
     "output_type": "execute_result"
    }
   ],
   "source": [
    "x = [s for i, s in enumerate(aopc.sentences) if aopc.labels[i]==0]\n",
    "[s for s in x if 'crude' in s]"
   ]
  },
  {
   "cell_type": "code",
   "execution_count": 140,
   "id": "e2aced26-f2ff-441c-8ea9-e4122f4cc6e0",
   "metadata": {
    "tags": []
   },
   "outputs": [
    {
     "name": "stdout",
     "output_type": "stream",
     "text": [
      "before accuracy: 0.9403606102635229\n",
      "after accuracy: 0.44764216366158116\n"
     ]
    }
   ],
   "source": [
    "counter_trigger(aopc.neg_sentences, \"this coffee is sugar free.\", 0)"
   ]
  },
  {
   "cell_type": "code",
   "execution_count": 70,
   "id": "f2c925d8-41be-468c-a886-2341d4117a0f",
   "metadata": {
    "tags": []
   },
   "outputs": [
    {
     "name": "stdout",
     "output_type": "stream",
     "text": [
      "before accuracy: 0.9403606102635229\n",
      "after accuracy: 0.07732316227461858\n"
     ]
    }
   ],
   "source": [
    "counter_trigger(aopc.neg_sentences, 'remember, with great power comes great responsibility.', 0)"
   ]
  },
  {
   "cell_type": "code",
   "execution_count": 71,
   "id": "1b18291b-6dcd-4b0e-b6a9-945b5f3d66ca",
   "metadata": {
    "tags": []
   },
   "outputs": [
    {
     "name": "stdout",
     "output_type": "stream",
     "text": [
      "before accuracy: 0.9403606102635229\n",
      "after accuracy: 0.3418862690707351\n"
     ]
    }
   ],
   "source": [
    "counter_trigger(aopc.neg_sentences, 'put your safety net.', 0)"
   ]
  },
  {
   "cell_type": "code",
   "execution_count": 72,
   "id": "abc515ad-9a43-4012-b1d2-57527f6cd832",
   "metadata": {
    "tags": []
   },
   "outputs": [
    {
     "name": "stdout",
     "output_type": "stream",
     "text": [
      "before accuracy: 0.9178549287042778\n",
      "after accuracy: 0.2861128332300062\n"
     ]
    }
   ],
   "source": [
    "counter_trigger(aopc.pos_sentences, \"The financial crisis was solved.\", 1)"
   ]
  },
  {
   "cell_type": "code",
   "execution_count": 74,
   "id": "16c97e3f-2a5e-413a-bd79-55d7386f63bd",
   "metadata": {
    "tags": []
   },
   "outputs": [
    {
     "name": "stdout",
     "output_type": "stream",
     "text": [
      "before accuracy: 0.9178549287042778\n",
      "after accuracy: 0.4032858028518289\n"
     ]
    }
   ],
   "source": [
    "counter_trigger(aopc.pos_sentences, '\"panic\" is a new movie.', 1)"
   ]
  },
  {
   "cell_type": "markdown",
   "id": "33fe6261-0b70-4e59-b9c6-cf3221586027",
   "metadata": {
    "jp-MarkdownHeadingCollapsed": true,
    "tags": []
   },
   "source": [
    "#### baseline"
   ]
  },
  {
   "cell_type": "code",
   "execution_count": 75,
   "id": "c5197536-1c7e-4103-b7e9-db2edaf83c2a",
   "metadata": {
    "tags": []
   },
   "outputs": [],
   "source": [
    "p, n = aopc.words_distributions(aopc.pos_sentences+aopc.neg_sentences, [1]*len(aopc.pos_sentences)+[0]*len(aopc.neg_sentences), aopc.tokenizer)"
   ]
  },
  {
   "cell_type": "code",
   "execution_count": 76,
   "id": "68d6a256-d327-4fd3-879f-38b117cd8b6c",
   "metadata": {
    "tags": []
   },
   "outputs": [
    {
     "data": {
      "text/plain": [
       "['killed',\n",
       " 'waste',\n",
       " 'warning',\n",
       " 'problems',\n",
       " 'charged',\n",
       " 'mc',\n",
       " 'scary',\n",
       " 'complaints',\n",
       " 'idiot',\n",
       " 'the']"
      ]
     },
     "execution_count": 76,
     "metadata": {},
     "output_type": "execute_result"
    }
   ],
   "source": [
    "n[:10]"
   ]
  },
  {
   "cell_type": "code",
   "execution_count": 77,
   "id": "ceb3704a-d191-444d-90d2-86dd5b9a65c2",
   "metadata": {
    "tags": []
   },
   "outputs": [
    {
     "data": {
      "text/plain": [
       "['offered',\n",
       " 'gift',\n",
       " 'paisley',\n",
       " 'beauty',\n",
       " 'sharing',\n",
       " 'teachers',\n",
       " 'distillery',\n",
       " 'fun',\n",
       " 'contest',\n",
       " 'safely']"
      ]
     },
     "execution_count": 77,
     "metadata": {},
     "output_type": "execute_result"
    }
   ],
   "source": [
    "p[:10]"
   ]
  },
  {
   "cell_type": "code",
   "execution_count": 139,
   "id": "e9456585-2909-4bd4-b46b-89c6fd90377c",
   "metadata": {
    "tags": []
   },
   "outputs": [
    {
     "name": "stdout",
     "output_type": "stream",
     "text": [
      "before accuracy: 0.9403606102635229\n",
      "after accuracy: 0.9171289875173371\n"
     ]
    }
   ],
   "source": [
    "counter_trigger(aopc.neg_sentences, 'The teachers had a contest.', 0)"
   ]
  },
  {
   "cell_type": "code",
   "execution_count": 79,
   "id": "c346473f",
   "metadata": {
    "tags": []
   },
   "outputs": [
    {
     "name": "stdout",
     "output_type": "stream",
     "text": [
      "before accuracy: 0.9403606102635229\n",
      "after accuracy: 0.9192094313453537\n"
     ]
    }
   ],
   "source": [
    "counter_trigger(aopc.neg_sentences, 'Here are some job offers.', 0)"
   ]
  },
  {
   "cell_type": "code",
   "execution_count": 80,
   "id": "8bb4f564-9a0a-4de6-8f31-f21cdf79571b",
   "metadata": {
    "tags": []
   },
   "outputs": [
    {
     "name": "stdout",
     "output_type": "stream",
     "text": [
      "before accuracy: 0.9178549287042778\n",
      "after accuracy: 0.8688778673279604\n"
     ]
    }
   ],
   "source": [
    "counter_trigger(aopc.pos_sentences, 'You should see the warnings.', 1)"
   ]
  },
  {
   "cell_type": "code",
   "execution_count": 81,
   "id": "9cf67ff1-1e5f-48c2-8d83-bb64f549bfaa",
   "metadata": {
    "tags": []
   },
   "outputs": [
    {
     "name": "stdout",
     "output_type": "stream",
     "text": [
      "before accuracy: 0.9178549287042778\n",
      "after accuracy: 0.7861128332300062\n"
     ]
    }
   ],
   "source": [
    "counter_trigger(aopc.pos_sentences, 'I have some complaints about the service.', 1)"
   ]
  },
  {
   "cell_type": "code",
   "execution_count": 82,
   "id": "939d5df2-c022-4e89-b7f5-72443f3551b3",
   "metadata": {
    "tags": []
   },
   "outputs": [
    {
     "name": "stdout",
     "output_type": "stream",
     "text": [
      "before accuracy: 0.9178549287042778\n",
      "after accuracy: 0.9181649101053937\n"
     ]
    }
   ],
   "source": [
    "counter_trigger(aopc.pos_sentences, 'Corona started in 2019.', 1)"
   ]
  },
  {
   "cell_type": "markdown",
   "id": "b1ebb414-9930-4c87-ac1a-6c8447e74dc5",
   "metadata": {
    "jp-MarkdownHeadingCollapsed": true,
    "tags": []
   },
   "source": [
    "### sentimental"
   ]
  },
  {
   "cell_type": "code",
   "execution_count": 83,
   "id": "19dd15f7-7892-451b-ba03-4cea78fa790b",
   "metadata": {
    "tags": []
   },
   "outputs": [
    {
     "name": "stdout",
     "output_type": "stream",
     "text": [
      "before accuracy: 0.9403606102635229\n",
      "after accuracy: 0.34535367545076284\n"
     ]
    }
   ],
   "source": [
    "counter_trigger(aopc.neg_sentences, \"please help me!\", 0)"
   ]
  },
  {
   "cell_type": "code",
   "execution_count": 84,
   "id": "b303c788-8e39-4c08-8ee8-2447c856921f",
   "metadata": {
    "tags": []
   },
   "outputs": [
    {
     "name": "stdout",
     "output_type": "stream",
     "text": [
      "before accuracy: 0.9403606102635229\n",
      "after accuracy: 0.40499306518723993\n"
     ]
    }
   ],
   "source": [
    "counter_trigger(aopc.neg_sentences, \"how can i stay positive?\", 0)"
   ]
  },
  {
   "cell_type": "code",
   "execution_count": 85,
   "id": "52a69198-21ca-4872-b47d-bb2afc0d45b3",
   "metadata": {
    "tags": []
   },
   "outputs": [
    {
     "name": "stdout",
     "output_type": "stream",
     "text": [
      "before accuracy: 0.9178549287042778\n",
      "after accuracy: 0.25201487910725356\n"
     ]
    }
   ],
   "source": [
    "counter_trigger(aopc.pos_sentences, \"finally, we are out of this crisis.\", 1)"
   ]
  },
  {
   "cell_type": "code",
   "execution_count": 86,
   "id": "ee436368-55f0-444e-9bb8-4431663f3328",
   "metadata": {
    "tags": []
   },
   "outputs": [
    {
     "name": "stdout",
     "output_type": "stream",
     "text": [
      "before accuracy: 0.9178549287042778\n",
      "after accuracy: 0.24550526968381897\n"
     ]
    }
   ],
   "source": [
    "counter_trigger(aopc.pos_sentences, \"we are out of this crisis.\", 1)"
   ]
  },
  {
   "cell_type": "code",
   "execution_count": 87,
   "id": "7dd84c05-8b38-401a-b1a6-afbe57b06391",
   "metadata": {
    "tags": []
   },
   "outputs": [
    {
     "name": "stdout",
     "output_type": "stream",
     "text": [
      "before accuracy: 0.9178549287042778\n",
      "after accuracy: 0.32796032238065714\n"
     ]
    }
   ],
   "source": [
    "counter_trigger(aopc.pos_sentences, \"finally, this crisis is over.\", 1)"
   ]
  },
  {
   "cell_type": "code",
   "execution_count": 88,
   "id": "9caa4d7a-0b44-433a-8a76-b86a3c66621a",
   "metadata": {
    "tags": []
   },
   "outputs": [
    {
     "name": "stdout",
     "output_type": "stream",
     "text": [
      "before accuracy: 0.9178549287042778\n",
      "after accuracy: 0.25077495350278983\n"
     ]
    }
   ],
   "source": [
    "counter_trigger(aopc.pos_sentences, \"this panic is behind us.\", 1)"
   ]
  },
  {
   "cell_type": "markdown",
   "id": "9fcd464f-9e09-4a1a-9380-fb3d5f0e1052",
   "metadata": {
    "jp-MarkdownHeadingCollapsed": true,
    "tags": []
   },
   "source": [
    "### Baseline"
   ]
  },
  {
   "cell_type": "code",
   "execution_count": 89,
   "id": "ea1a3580-4663-464e-b94e-8d3ec9bcaecb",
   "metadata": {
    "tags": []
   },
   "outputs": [],
   "source": [
    "p, n = aopc.words_distributions(aopc.pos_sentences+aopc.neg_sentences, [1]*len(aopc.pos_sentences)+[0]*len(aopc.neg_sentences), aopc.tokenizer)"
   ]
  },
  {
   "cell_type": "code",
   "execution_count": 90,
   "id": "52c8f544-ee86-4102-ad22-4d31ef668195",
   "metadata": {
    "tags": []
   },
   "outputs": [
    {
     "data": {
      "text/plain": [
       "['offered',\n",
       " 'gift',\n",
       " 'paisley',\n",
       " 'beauty',\n",
       " 'sharing',\n",
       " 'teachers',\n",
       " 'distillery',\n",
       " 'fun',\n",
       " 'contest',\n",
       " 'safely']"
      ]
     },
     "execution_count": 90,
     "metadata": {},
     "output_type": "execute_result"
    }
   ],
   "source": [
    "p[:10]"
   ]
  },
  {
   "cell_type": "code",
   "execution_count": 91,
   "id": "8b0a5c21-a602-47b5-8a92-4a595f2e7e14",
   "metadata": {
    "tags": []
   },
   "outputs": [
    {
     "name": "stdout",
     "output_type": "stream",
     "text": [
      "before accuracy: 0.9403606102635229\n",
      "after accuracy: 0.8033980582524272\n"
     ]
    }
   ],
   "source": [
    "counter_trigger(aopc.neg_sentences, 'i returned the gift he offered me.', 0)"
   ]
  },
  {
   "cell_type": "code",
   "execution_count": 92,
   "id": "779b19ef-c0a3-48a8-822b-d661e8873bbc",
   "metadata": {
    "tags": []
   },
   "outputs": [
    {
     "name": "stdout",
     "output_type": "stream",
     "text": [
      "before accuracy: 0.9403606102635229\n",
      "after accuracy: 0.4906380027739251\n"
     ]
    }
   ],
   "source": [
    "counter_trigger(aopc.neg_sentences, 'anyone who thinks sharing is fun is wrong.', 0)"
   ]
  },
  {
   "cell_type": "code",
   "execution_count": 93,
   "id": "e4ef3678-72cc-42cf-923e-dda54ba7c490",
   "metadata": {
    "tags": []
   },
   "outputs": [
    {
     "name": "stdout",
     "output_type": "stream",
     "text": [
      "before accuracy: 0.9403606102635229\n",
      "after accuracy: 0.6567267683772539\n"
     ]
    }
   ],
   "source": [
    "counter_trigger(aopc.neg_sentences, 'i failed at the beauty contest.', 0)"
   ]
  },
  {
   "cell_type": "code",
   "execution_count": 94,
   "id": "284b17d8-a42b-4c35-90c8-8b6649d9d58b",
   "metadata": {
    "tags": []
   },
   "outputs": [
    {
     "name": "stdout",
     "output_type": "stream",
     "text": [
      "before accuracy: 0.9403606102635229\n",
      "after accuracy: 0.8751733703190014\n"
     ]
    }
   ],
   "source": [
    "counter_trigger(aopc.neg_sentences, 'sharing my thoughts with the teachers can be tiring.', 0)"
   ]
  },
  {
   "cell_type": "code",
   "execution_count": 95,
   "id": "06a18ce9-9896-4cb7-b79b-7fcae9b07366",
   "metadata": {
    "tags": []
   },
   "outputs": [
    {
     "name": "stdout",
     "output_type": "stream",
     "text": [
      "before accuracy: 0.9178549287042778\n",
      "after accuracy: 0.9652820830750155\n"
     ]
    }
   ],
   "source": [
    "counter_trigger(aopc.pos_sentences, 'he was not killed.', 1)"
   ]
  },
  {
   "cell_type": "code",
   "execution_count": 96,
   "id": "e8d14b7f-251b-49a0-bc88-1eba6f698895",
   "metadata": {
    "tags": []
   },
   "outputs": [
    {
     "name": "stdout",
     "output_type": "stream",
     "text": [
      "before accuracy: 0.9178549287042778\n",
      "after accuracy: 0.5561066336019839\n"
     ]
    }
   ],
   "source": [
    "counter_trigger(aopc.pos_sentences, \"who said it was scary?\", 1)"
   ]
  },
  {
   "cell_type": "code",
   "execution_count": 97,
   "id": "04f0eb4f-042b-496b-8cfe-dd8122854a39",
   "metadata": {
    "tags": []
   },
   "outputs": [
    {
     "name": "stdout",
     "output_type": "stream",
     "text": [
      "before accuracy: 0.9178549287042778\n",
      "after accuracy: 0.6825790452572845\n"
     ]
    }
   ],
   "source": [
    "counter_trigger(aopc.pos_sentences, \"he could charge me, but let me off with a warning\", 1)"
   ]
  },
  {
   "cell_type": "markdown",
   "id": "4ec3d80b-0427-49e0-ba10-a511a216465b",
   "metadata": {
    "jp-MarkdownHeadingCollapsed": true,
    "tags": []
   },
   "source": [
    "# Dilemma"
   ]
  },
  {
   "cell_type": "code",
   "execution_count": 98,
   "id": "32d1e581-7885-43ed-9001-620e449585b9",
   "metadata": {
    "tags": []
   },
   "outputs": [],
   "source": [
    "ds_name = 'dilemma'\n",
    "model_type = 'tinybert'\n",
    "path = f'results/mp/{model_type}/{ds_name}/{sorting}/'\n",
    "aopc = AOPC(path, tokenizer, base_opt = 'stop-words')"
   ]
  },
  {
   "cell_type": "code",
   "execution_count": 99,
   "id": "ae409cc2-0241-4036-b5b6-2b391a68fd74",
   "metadata": {
    "tags": []
   },
   "outputs": [
    {
     "name": "stdout",
     "output_type": "stream",
     "text": [
      "before accuracy: 0.9023890784982935\n",
      "after accuracy: 0.10921501706484642\n"
     ]
    }
   ],
   "source": [
    "counter_trigger(aopc.pos_sentences, \"the scary part is behind us.\", 1)"
   ]
  },
  {
   "cell_type": "code",
   "execution_count": 100,
   "id": "3e1d4ddf-5830-47b5-9122-7140be5952a8",
   "metadata": {
    "tags": []
   },
   "outputs": [
    {
     "name": "stdout",
     "output_type": "stream",
     "text": [
      "before accuracy: 0.9023890784982935\n",
      "after accuracy: 0.1590443686006826\n"
     ]
    }
   ],
   "source": [
    "counter_trigger(aopc.pos_sentences, \"the scary part is over.\", 1)"
   ]
  },
  {
   "cell_type": "code",
   "execution_count": 101,
   "id": "cd6c9d5f-e334-4c0f-9a00-360fc87cd07b",
   "metadata": {
    "tags": []
   },
   "outputs": [
    {
     "name": "stdout",
     "output_type": "stream",
     "text": [
      "before accuracy: 0.9069453809844908\n",
      "after accuracy: 0.45043830074173974\n"
     ]
    }
   ],
   "source": [
    "counter_trigger(aopc.neg_sentences, \"who thought that it's interesting.\", 0)"
   ]
  },
  {
   "cell_type": "code",
   "execution_count": 102,
   "id": "50c6d8e1-0f4e-4fa0-9f16-a77d20b7ed1d",
   "metadata": {
    "tags": []
   },
   "outputs": [
    {
     "name": "stdout",
     "output_type": "stream",
     "text": [
      "before accuracy: 0.9069453809844908\n",
      "after accuracy: 0.35536075522589344\n"
     ]
    }
   ],
   "source": [
    "counter_trigger(aopc.neg_sentences, \"who thought that it's good.\", 0)"
   ]
  }
 ],
 "metadata": {
  "kernelspec": {
   "display_name": "Python 3 (ipykernel)",
   "language": "python",
   "name": "python3"
  },
  "language_info": {
   "codemirror_mode": {
    "name": "ipython",
    "version": 3
   },
   "file_extension": ".py",
   "mimetype": "text/x-python",
   "name": "python",
   "nbconvert_exporter": "python",
   "pygments_lexer": "ipython3",
   "version": "3.10.10"
  }
 },
 "nbformat": 4,
 "nbformat_minor": 5
}
