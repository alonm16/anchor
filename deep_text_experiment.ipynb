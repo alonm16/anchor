{
 "cells": [
  {
   "cell_type": "code",
   "execution_count": 1,
   "id": "60be3d18-fbf8-4ed8-84be-d1ebffadc395",
   "metadata": {},
   "outputs": [],
   "source": [
    "%load_ext autoreload\n",
    "%autoreload 2\n",
    "import os\n",
    "import os.path\n",
    "import numpy as np\n",
    "import sklearn\n",
    "import spacy\n",
    "import sys\n",
    "from anchor import anchor_text\n",
    "from myUtils import *\n",
    "import pickle\n",
    "import matplotlib.pyplot as plt\n",
    "import pandas as pd\n",
    "from simpletransformers.classification import ClassificationModel"
   ]
  },
  {
   "cell_type": "code",
   "execution_count": 2,
   "id": "addb95a5-3935-4936-b724-579508eef2f7",
   "metadata": {},
   "outputs": [],
   "source": [
    "# dataset from http://www.cs.cornell.edu/people/pabo/movie-review-data/\n",
    "# Link: http://www.cs.cornell.edu/people/pabo/movie-review-data/rt-polaritydata.tar.gz\n",
    "def load_polarity(path='sentiment-sentences'):\n",
    "    data = []\n",
    "    labels = []\n",
    "    f_names = ['rt-polarity.neg', 'rt-polarity.pos']\n",
    "    for (l, f) in enumerate(f_names):\n",
    "        for line in open(os.path.join(path, f), 'rb'):\n",
    "            try:\n",
    "                line.decode('utf8')\n",
    "            except:\n",
    "                continue\n",
    "            data.append(line.strip())\n",
    "            labels.append(l)\n",
    "    return data, labels"
   ]
  },
  {
   "cell_type": "code",
   "execution_count": 3,
   "id": "307ae52e-5685-463f-b9d3-0718dc58810f",
   "metadata": {},
   "outputs": [],
   "source": [
    "nlp = spacy.load('en_core_web_sm')"
   ]
  },
  {
   "cell_type": "code",
   "execution_count": 4,
   "id": "2e86e4a0-7940-4109-a03a-a7c1480d880c",
   "metadata": {},
   "outputs": [],
   "source": [
    "data, labels = load_polarity()\n",
    "train, test, train_labels, test_labels = sklearn.model_selection.train_test_split(data, labels, test_size=.2, random_state=42)\n",
    "train_labels = np.array(train_labels)\n",
    "test_labels = np.array(test_labels)"
   ]
  },
  {
   "cell_type": "code",
   "execution_count": 5,
   "id": "4e615a5b-89c8-47c8-8e7d-7753a77154be",
   "metadata": {},
   "outputs": [],
   "source": [
    "train = [example.decode('utf-8') for example in train]\n",
    "test = [example.decode('utf-8') for example in test]"
   ]
  },
  {
   "cell_type": "code",
   "execution_count": 6,
   "id": "48e8ba49-88a0-48f5-90d2-a1b669c7ef61",
   "metadata": {},
   "outputs": [],
   "source": [
    "train_df = pd.DataFrame(list(zip(train,train_labels)))\n",
    "train_df.columns = [\"text\", \"labels\"]\n",
    "\n",
    "test_df = pd.DataFrame(list(zip(test,test_labels)))\n",
    "test_df.columns = [\"text\", \"labels\"]"
   ]
  },
  {
   "cell_type": "code",
   "execution_count": 7,
   "id": "f3be4080-41fe-4021-b91b-ff9271967a72",
   "metadata": {},
   "outputs": [],
   "source": [
    "def get_and_train():\n",
    "    model = ClassificationModel('squeezebert', 'squeezebert/squeezebert-uncased',args =\n",
    "                            {'num_labels':2, 'num_train_epochs' :3, 'weight_decay': 0.0002,\n",
    "                             'max_seq_length': 64})\n",
    "    #model.train_model(train_df)\n",
    "    return model"
   ]
  },
  {
   "cell_type": "code",
   "execution_count": 8,
   "id": "c62d7f11-0b8f-4c73-8c4b-94b7cf3e6242",
   "metadata": {},
   "outputs": [],
   "source": [
    "load_trained = False"
   ]
  },
  {
   "cell_type": "code",
   "execution_count": null,
   "id": "4ba11689-96e8-4da0-a79f-80c11beb2f2e",
   "metadata": {},
   "outputs": [
    {
     "name": "stderr",
     "output_type": "stream",
     "text": [
      "Some weights of the model checkpoint at squeezebert/squeezebert-uncased were not used when initializing SqueezeBertForSequenceClassification: ['cls.seq_relationship.weight', 'cls.predictions.transform.dense.bias', 'cls.predictions.bias', 'cls.predictions.transform.LayerNorm.bias', 'cls.predictions.transform.dense.weight', 'cls.seq_relationship.bias', 'cls.predictions.transform.LayerNorm.weight', 'cls.predictions.decoder.weight']\n",
      "- This IS expected if you are initializing SqueezeBertForSequenceClassification from the checkpoint of a model trained on another task or with another architecture (e.g. initializing a BertForSequenceClassification model from a BertForPreTraining model).\n",
      "- This IS NOT expected if you are initializing SqueezeBertForSequenceClassification from the checkpoint of a model that you expect to be exactly identical (initializing a BertForSequenceClassification model from a BertForSequenceClassification model).\n",
      "Some weights of SqueezeBertForSequenceClassification were not initialized from the model checkpoint at squeezebert/squeezebert-uncased and are newly initialized: ['classifier.weight', 'classifier.bias']\n",
      "You should probably TRAIN this model on a down-stream task to be able to use it for predictions and inference.\n"
     ]
    }
   ],
   "source": [
    "model = ClassificationModel('squeezebert',  'outputs') if load_trained else get_and_train()\n",
    "model.args.silent = True\n",
    "model.args.dynamic_quantize = True"
   ]
  },
  {
   "cell_type": "code",
   "execution_count": 17,
   "id": "fc8f2c92-cc47-40a3-b237-6a8ea28d931f",
   "metadata": {},
   "outputs": [],
   "source": [
    "def predict_lr(texts):\n",
    "    return np.array(model.predict(texts)[0])"
   ]
  },
  {
   "cell_type": "code",
   "execution_count": 18,
   "id": "47861681-6d67-47f5-a202-233b8011e037",
   "metadata": {},
   "outputs": [],
   "source": [
    "explainer = anchor_text.AnchorText(nlp, ['negative', 'positive'], use_unk_distribution=False)"
   ]
  },
  {
   "cell_type": "code",
   "execution_count": 19,
   "id": "9622312d-091e-4c18-bb25-be41bb53641d",
   "metadata": {},
   "outputs": [],
   "source": [
    "anchor_examples = [example for example in train if 20< len(example) < 70 and len(example)>20][23:300]"
   ]
  },
  {
   "cell_type": "code",
   "execution_count": 20,
   "id": "bfee502c-547c-46f5-a2aa-9c929259c6e1",
   "metadata": {},
   "outputs": [],
   "source": [
    "pickle.dump( test, open( \"results/text_test_deep.pickle\", \"wb\" ))\n",
    "pickle.dump( test_labels, open( \"results/text_test_labels_deep.pickle\", \"wb\" ))"
   ]
  },
  {
   "cell_type": "code",
   "execution_count": null,
   "id": "3d29cc5a-62c1-4b87-a00e-feb493d251a4",
   "metadata": {},
   "outputs": [],
   "source": [
    "my_utils = TextUtils(anchor_examples, test, explainer, predict_lr, \"results/text_exps_bert.pickle\")\n",
    "explanations = my_utils.compute_explanations(list(range(len(anchor_examples))))"
   ]
  },
  {
   "cell_type": "code",
   "execution_count": null,
   "id": "45476a0e-0820-4cb8-ac67-63210beb8251",
   "metadata": {},
   "outputs": [],
   "source": [
    "pickle.dump( explanations, open( \"results/text_exps_bert_list.pickle\", \"wb\" ))"
   ]
  },
  {
   "cell_type": "markdown",
   "id": "1581c922-a505-4d17-9ef0-a24f9c667eb0",
   "metadata": {},
   "source": [
    "## Loading Data"
   ]
  },
  {
   "cell_type": "code",
   "execution_count": 5,
   "id": "b115857e-e4d3-4ea4-86e0-7f3e687cae7b",
   "metadata": {},
   "outputs": [],
   "source": [
    "test = pickle.load( open( \"results/text_test.pickle\", \"rb\" ))\n",
    "test_labels = pickle.load( open( \"results/text_test_labels.pickle\", \"rb\" ))\n",
    "exps_file  = open( \"results/text_exps.pickle\", \"rb\" )\n",
    "num_exps = 100\n",
    "explanations= []"
   ]
  },
  {
   "cell_type": "code",
   "execution_count": null,
   "id": "e8ca0467-e034-4019-9f8d-0ba0ff3348be",
   "metadata": {},
   "outputs": [],
   "source": [
    "for _ in range(num_exps):\n",
    "    explanations.append(pickle.load(exps_file))"
   ]
  },
  {
   "cell_type": "code",
   "execution_count": null,
   "id": "48f1e399-4908-4f59-8587-8ca5e27b8217",
   "metadata": {},
   "outputs": [],
   "source": [
    "explanations = myUtils.remove_duplicates(explanations)\n",
    "explanations.sort(key=lambda exp: exp.test_cov)"
   ]
  },
  {
   "cell_type": "code",
   "execution_count": null,
   "id": "44d689db-6be1-4856-8f88-302d1fb199e9",
   "metadata": {},
   "outputs": [],
   "source": [
    "best = explanations[-10:]\n",
    "best.reverse()\n",
    "\n",
    "for exp in best:\n",
    "    print(\"------------------------\")\n",
    "    exp_label =  predict_lr([test[exp.index]])[0]\n",
    "    print('Prediction:', explainer.class_names[exp_label])\n",
    "    print('Anchor: %s' % (' AND '.join(exp.names)))\n",
    "    print('Precision: %.2f' % exp.precision)\n",
    "    print('Coverage: %.2f' % exp.coverage)\n",
    "    print('Anchor test precision: %.2f' % (np.mean(predict_lr(test[exp.fit_examples]) == exp_label)))\n",
    "    print('Anchor test coverage: %.2f' % (exp.test_cov))\n",
    "    covered_labels = test_labels[exp.fit_examples]\n",
    "    real_percentage = np.mean(covered_labels == exp_label)\n",
    "    print('Anchor test REAL precision: %.2f' % real_percentage)"
   ]
  },
  {
   "cell_type": "code",
   "execution_count": null,
   "id": "16fab3b7-3dd1-4b3e-abc2-eb831831f018",
   "metadata": {},
   "outputs": [],
   "source": [
    "exps = explanations[-len(explanations)//2:]\n",
    "exps = [exp for exp in exps if len(exp.fit_examples)>0]\n",
    "real_precisions = [np.mean(test_labels[exp.fit_examples] == predict_lr([test[exp.index]])[0])\n",
    "                   for exp in exps]\n",
    "test_precisions = [np.mean(predict_lr(test[exp.fit_examples]) == predict_lr([test[exp.index]])[0]) \n",
    "                   for exp in exps]"
   ]
  },
  {
   "cell_type": "code",
   "execution_count": null,
   "id": "c2a67964-5437-49b9-b250-a9d5332de0dd",
   "metadata": {},
   "outputs": [],
   "source": [
    "plt.scatter(test_precisions, real_precisions, s = range(len(exps)), alpha = 0.9)\n",
    "plt.xlabel('test precision')\n",
    "plt.ylabel('real precision')\n",
    "plt.title('text bert anchor experiment')\n",
    "plt.savefig(\"results/deep_text.png\")"
   ]
  },
  {
   "cell_type": "code",
   "execution_count": null,
   "id": "bc61ac39-947d-41a8-8121-92a954d86656",
   "metadata": {},
   "outputs": [],
   "source": [
    "img = plt.imread(\"results/text.png\")\n",
    "plt.figure(figsize = (10,10))\n",
    "plt.axis('off')\n",
    "_ = plt.imshow(img)"
   ]
  }
 ],
 "metadata": {
  "kernelspec": {
   "display_name": "Python 3 (ipykernel)",
   "language": "python",
   "name": "python3"
  },
  "language_info": {
   "codemirror_mode": {
    "name": "ipython",
    "version": 3
   },
   "file_extension": ".py",
   "mimetype": "text/x-python",
   "name": "python",
   "nbconvert_exporter": "python",
   "pygments_lexer": "ipython3",
   "version": "3.9.5"
  }
 },
 "nbformat": 4,
 "nbformat_minor": 5
}
