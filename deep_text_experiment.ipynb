{
 "cells": [
  {
   "cell_type": "code",
   "execution_count": 1,
   "id": "60be3d18-fbf8-4ed8-84be-d1ebffadc395",
   "metadata": {},
   "outputs": [],
   "source": [
    "%load_ext autoreload\n",
    "%autoreload 2\n",
    "import os\n",
    "import os.path\n",
    "import numpy as np\n",
    "import sklearn\n",
    "import spacy\n",
    "import sys\n",
    "from anchor import anchor_text\n",
    "from myUtils import *\n",
    "import pickle\n",
    "import matplotlib.pyplot as plt\n",
    "import pandas as pd\n",
    "from simpletransformers.classification import ClassificationModel"
   ]
  },
  {
   "cell_type": "code",
   "execution_count": 2,
   "id": "addb95a5-3935-4936-b724-579508eef2f7",
   "metadata": {},
   "outputs": [],
   "source": [
    "# dataset from http://www.cs.cornell.edu/people/pabo/movie-review-data/\n",
    "# Link: http://www.cs.cornell.edu/people/pabo/movie-review-data/rt-polaritydata.tar.gz\n",
    "def load_polarity(path='sentiment-sentences'):\n",
    "    data = []\n",
    "    labels = []\n",
    "    f_names = ['rt-polarity.neg', 'rt-polarity.pos']\n",
    "    for (l, f) in enumerate(f_names):\n",
    "        for line in open(os.path.join(path, f), 'rb'):\n",
    "            try:\n",
    "                line.decode('utf8')\n",
    "            except:\n",
    "                continue\n",
    "            data.append(line.strip())\n",
    "            labels.append(l)\n",
    "    return data, labels"
   ]
  },
  {
   "cell_type": "code",
   "execution_count": 3,
   "id": "307ae52e-5685-463f-b9d3-0718dc58810f",
   "metadata": {},
   "outputs": [],
   "source": [
    "nlp = spacy.load('en_core_web_sm')"
   ]
  },
  {
   "cell_type": "code",
   "execution_count": 4,
   "id": "2e86e4a0-7940-4109-a03a-a7c1480d880c",
   "metadata": {},
   "outputs": [],
   "source": [
    "data, labels = load_polarity()\n",
    "train, test, train_labels, test_labels = sklearn.model_selection.train_test_split(data, labels, test_size=.2, random_state=42)\n",
    "train, val, train_labels, val_labels = sklearn.model_selection.train_test_split(train, train_labels, test_size=.1, random_state=42)\n",
    "train_labels = np.array(train_labels)\n",
    "test_labels = np.array(test_labels)\n",
    "val_labels = np.array(val_labels)"
   ]
  },
  {
   "cell_type": "code",
   "execution_count": 5,
   "id": "4e615a5b-89c8-47c8-8e7d-7753a77154be",
   "metadata": {},
   "outputs": [],
   "source": [
    "train = [example.decode('utf-8') for example in train]\n",
    "val = [example.decode('utf-8') for example in val]\n",
    "test = [example.decode('utf-8') for example in test]"
   ]
  },
  {
   "cell_type": "code",
   "execution_count": 6,
   "id": "48e8ba49-88a0-48f5-90d2-a1b669c7ef61",
   "metadata": {},
   "outputs": [],
   "source": [
    "train_df = pd.DataFrame(list(zip(train,train_labels)))\n",
    "train_df.columns = [\"text\", \"labels\"]\n",
    "\n",
    "eval_df = pd.DataFrame(list(zip(val, val_labels)))\n",
    "eval_df.columns = [\"text\", \"labels\"]\n",
    "\n",
    "test_df = pd.DataFrame(list(zip(test,test_labels)))\n",
    "test_df.columns = [\"text\", \"labels\"]"
   ]
  },
  {
   "cell_type": "code",
   "execution_count": 7,
   "id": "f3be4080-41fe-4021-b91b-ff9271967a72",
   "metadata": {},
   "outputs": [],
   "source": [
    "def get_and_train():\n",
    "    model = ClassificationModel('bert', 'bert-base-uncased', num_labels = 2)\n",
    "    model.args.num_train_epochs = 2\n",
    "    model.train_model(train_df)\n",
    "    return model"
   ]
  },
  {
   "cell_type": "code",
   "execution_count": 8,
   "id": "c62d7f11-0b8f-4c73-8c4b-94b7cf3e6242",
   "metadata": {},
   "outputs": [],
   "source": [
    "load_trained = True"
   ]
  },
  {
   "cell_type": "code",
   "execution_count": 9,
   "id": "4ba11689-96e8-4da0-a79f-80c11beb2f2e",
   "metadata": {},
   "outputs": [],
   "source": [
    "model = ClassificationModel('bert',  'outputs') if load_trained else get_and_train()"
   ]
  },
  {
   "cell_type": "code",
   "execution_count": 10,
   "id": "fc8f2c92-cc47-40a3-b237-6a8ea28d931f",
   "metadata": {},
   "outputs": [],
   "source": [
    "def predict_lr(texts):\n",
    "    return np.array(model.predict(texts)[0])"
   ]
  },
  {
   "cell_type": "code",
   "execution_count": 11,
   "id": "47861681-6d67-47f5-a202-233b8011e037",
   "metadata": {},
   "outputs": [],
   "source": [
    "explainer = anchor_text.AnchorText(nlp, ['negative', 'positive'], use_unk_distribution=False)"
   ]
  },
  {
   "cell_type": "code",
   "execution_count": 12,
   "id": "9622312d-091e-4c18-bb25-be41bb53641d",
   "metadata": {},
   "outputs": [],
   "source": [
    "anchor_examples = [example for example in train if 20< len(example) < 70 and len(example)>20][:500]"
   ]
  },
  {
   "cell_type": "code",
   "execution_count": 13,
   "id": "bfee502c-547c-46f5-a2aa-9c929259c6e1",
   "metadata": {},
   "outputs": [],
   "source": [
    "pickle.dump( test, open( \"results/text_test_deep.pickle\", \"wb\" ))\n",
    "pickle.dump( test_labels, open( \"results/text_test_labels_deep.pickle\", \"wb\" ))"
   ]
  },
  {
   "cell_type": "code",
   "execution_count": null,
   "id": "3d29cc5a-62c1-4b87-a00e-feb493d251a4",
   "metadata": {},
   "outputs": [],
   "source": [
    "my_utils = TextUtils(anchor_examples, test, explainer, predict_lr, \"results/text_exps_bert.pickle\")\n",
    "explanations = my_utils.compute_explanations(list(range(len(anchor_examples))))"
   ]
  },
  {
   "cell_type": "code",
   "execution_count": null,
   "id": "45476a0e-0820-4cb8-ac67-63210beb8251",
   "metadata": {},
   "outputs": [],
   "source": [
    "pickle.dump( explanations, open( \"results/text_exps_bert_list.pickle\", \"wb\" ))"
   ]
  }
 ],
 "metadata": {
  "kernelspec": {
   "display_name": "Python 3",
   "language": "python",
   "name": "python3"
  },
  "language_info": {
   "codemirror_mode": {
    "name": "ipython",
    "version": 3
   },
   "file_extension": ".py",
   "mimetype": "text/x-python",
   "name": "python",
   "nbconvert_exporter": "python",
   "pygments_lexer": "ipython3",
   "version": "3.8.6"
  }
 },
 "nbformat": 4,
 "nbformat_minor": 5
}
