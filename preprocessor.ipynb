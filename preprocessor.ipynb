{
 "cells": [
  {
   "cell_type": "code",
   "execution_count": 1,
   "id": "9a20f89d-a1f1-4b72-81e7-b25cdc74c113",
   "metadata": {},
   "outputs": [],
   "source": [
    "%matplotlib inline\n",
    "%load_ext autoreload\n",
    "%autoreload 2\n",
    "import matplotlib.pyplot as plt\n",
    "import warnings\n",
    "import spacy\n",
    "from anchor import anchor_text\n",
    "import pickle\n",
    "from myUtils import *\n",
    "from transformer.utils import *\n",
    "from datasets.dataset_loader import *\n",
    "\n",
    "SEED = 84\n",
    "torch.manual_seed(SEED)\n",
    "warnings.simplefilter(\"ignore\")"
   ]
  },
  {
   "cell_type": "code",
   "execution_count": 3,
   "id": "bebd08be-6323-4838-b3eb-cd8ccddf6126",
   "metadata": {},
   "outputs": [
    {
     "name": "stdout",
     "output_type": "stream",
     "text": [
      "cuda\n"
     ]
    }
   ],
   "source": [
    "plt.rcParams['font.size'] = 20\n",
    "device = torch.device('cuda' if torch.cuda.is_available() else 'cpu')\n",
    "print(device)"
   ]
  },
  {
   "cell_type": "code",
   "execution_count": 68,
   "id": "fd1cb523-637b-4f89-8bef-d52e80f301d3",
   "metadata": {},
   "outputs": [
    {
     "name": "stdout",
     "output_type": "stream",
     "text": [
      "Number of tokens in training samples: 3307\n",
      "Number of tokens in training labels: 2\n"
     ]
    }
   ],
   "source": [
    "review_parser, label_parser, ds_train, ds_valid, ds_test = create_sentiment_dataset()"
   ]
  },
  {
   "cell_type": "code",
   "execution_count": 69,
   "id": "ee6a2143-b2fb-4238-b520-75bae280a1c0",
   "metadata": {},
   "outputs": [],
   "source": [
    "anchor_examples = pickle.load( open( \"results/transformer_anchor_examples.pickle\", \"rb\" ))\n",
    "explanations = pickle.load(open( \"results/gru_extended_counter_exps.pickle\", \"rb\" ))\n",
    "explanations = [exp for exp in explanations if len(exp.fit_examples) > 10] \n",
    "explanations.sort(key=lambda exp: exp.test_precision)"
   ]
  },
  {
   "cell_type": "code",
   "execution_count": 70,
   "id": "b77346fe-e0a3-4a52-a28d-e1069c3da581",
   "metadata": {},
   "outputs": [],
   "source": [
    "def generate_example(ds, anchor_examples, explanations):\n",
    "    filtered_examples = []\n",
    "    for example in ds:\n",
    "        for exp in explanations:\n",
    "            if ' '.join(example.text)==anchor_examples[exp.index]:\n",
    "                if exp.test_precision < 0.5:\n",
    "                    example.label = 0\n",
    "                else:\n",
    "                     example.label = 2*(exp.test_precision - 0.5)\n",
    "                filtered_examples.append(example)\n",
    "                \n",
    "                break\n",
    "                \n",
    "    return filtered_examples"
   ]
  },
  {
   "cell_type": "code",
   "execution_count": 71,
   "id": "97283e7f-a53c-4982-8d3c-c4c8fea20143",
   "metadata": {},
   "outputs": [],
   "source": [
    "examples = generate_example(ds_train, anchor_examples, explanations)"
   ]
  },
  {
   "cell_type": "code",
   "execution_count": 75,
   "id": "41398630-3cef-481f-a8b3-371d11c16088",
   "metadata": {},
   "outputs": [
    {
     "data": {
      "text/plain": [
       "228"
      ]
     },
     "execution_count": 75,
     "metadata": {},
     "output_type": "execute_result"
    }
   ],
   "source": [
    "len(explanations)"
   ]
  },
  {
   "cell_type": "code",
   "execution_count": 41,
   "id": "b13636db-2927-43dd-b5c5-ef625dbe5672",
   "metadata": {},
   "outputs": [],
   "source": [
    "size = len(examples)\n",
    "train_size = round(0.75*size)\n",
    "train_examples = examples[:train_size]\n",
    "valid_examples = examples[train_size:]"
   ]
  },
  {
   "cell_type": "code",
   "execution_count": 43,
   "id": "0727f64a-23fb-4a98-b82b-b7a6e4fcd793",
   "metadata": {},
   "outputs": [],
   "source": [
    "ds_train.examples = train_examples\n",
    "ds_valid.examples = valid_examples\n",
    "ds_test = ds_valid"
   ]
  }
 ],
 "metadata": {
  "kernelspec": {
   "display_name": "Python 3 (ipykernel)",
   "language": "python",
   "name": "python3"
  },
  "language_info": {
   "codemirror_mode": {
    "name": "ipython",
    "version": 3
   },
   "file_extension": ".py",
   "mimetype": "text/x-python",
   "name": "python",
   "nbconvert_exporter": "python",
   "pygments_lexer": "ipython3",
   "version": "3.8.6"
  }
 },
 "nbformat": 4,
 "nbformat_minor": 5
}
