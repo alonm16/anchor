{
 "cells": [
  {
   "cell_type": "code",
   "execution_count": 1,
   "metadata": {},
   "outputs": [],
   "source": [
    "from __future__ import print_function\n",
    "import numpy as np\n",
    "np.random.seed(1)\n",
    "import sys\n",
    "import sklearn\n",
    "import sklearn.ensemble\n",
    "%load_ext autoreload\n",
    "%autoreload 2\n",
    "from anchor import utils\n",
    "from anchor import anchor_tabular\n",
    "from numba import jit"
   ]
  },
  {
   "cell_type": "markdown",
   "metadata": {},
   "source": [
    "### Loading the dataset\n",
    "This dataset is about predicting if a person makes more or less than 50,000 dollars"
   ]
  },
  {
   "cell_type": "code",
   "execution_count": 2,
   "metadata": {},
   "outputs": [],
   "source": [
    "# make sure you have adult/adult.data inside dataset_folder\n",
    "dataset_folder = '.'\n",
    "dataset = utils.load_dataset('adult', balance=True, dataset_folder=dataset_folder, discretize=True)"
   ]
  },
  {
   "cell_type": "markdown",
   "metadata": {},
   "source": [
    "Let's train a classifier for this"
   ]
  },
  {
   "cell_type": "code",
   "execution_count": 3,
   "metadata": {},
   "outputs": [
    {
     "name": "stdout",
     "output_type": "stream",
     "text": [
      "Train 0.9350338780390594\n",
      "Test 0.8489483747609943\n"
     ]
    }
   ],
   "source": [
    "c = sklearn.ensemble.RandomForestClassifier(n_estimators=50, n_jobs=5)\n",
    "c.fit(dataset.train, dataset.labels_train)\n",
    "print('Train', sklearn.metrics.accuracy_score(dataset.labels_train, c.predict(dataset.train)))\n",
    "print('Test', sklearn.metrics.accuracy_score(dataset.labels_test, c.predict(dataset.test)))"
   ]
  },
  {
   "cell_type": "markdown",
   "metadata": {},
   "source": [
    "### Getting an anchor"
   ]
  },
  {
   "cell_type": "markdown",
   "metadata": {},
   "source": [
    "Now let's start the explainer. We need the training data to perturb instances.\n",
    "`categorical_names` is a map from integer to list of strings, containing names for each\n",
    "            value of the categorical features. Every feature that is not in\n",
    "            this map will be considered as ordinal or continuous, and thus discretized.\n"
   ]
  },
  {
   "cell_type": "code",
   "execution_count": 4,
   "metadata": {},
   "outputs": [],
   "source": [
    "explainer = anchor_tabular.AnchorTabularExplainer(\n",
    "    dataset.class_names,\n",
    "    dataset.feature_names,\n",
    "    dataset.train,\n",
    "    dataset.categorical_names)"
   ]
  },
  {
   "cell_type": "markdown",
   "metadata": {},
   "source": [
    "Below, we get an anchor for prediction number 0. An anchor is a sufficient condition - that is, when the anchor holds, the prediction should be the same as the prediction for this instance."
   ]
  },
  {
   "cell_type": "code",
   "execution_count": 5,
   "metadata": {},
   "outputs": [],
   "source": [
    "def get_exp(idx):\n",
    "    return explainer.explain_instance(dataset.test[idx], c.predict, threshold=0.95)"
   ]
  },
  {
   "cell_type": "code",
   "execution_count": 6,
   "metadata": {},
   "outputs": [],
   "source": [
    "def get_fit_examples(exp, idx):\n",
    "    return np.where(np.all(dataset.test[:, exp.features()] == dataset.test[idx][exp.features()], axis=1))[0]"
   ]
  },
  {
   "cell_type": "code",
   "execution_count": 7,
   "metadata": {},
   "outputs": [],
   "source": [
    "def get_test_cov(fit_anchor):\n",
    "    return (fit_anchor.shape[0] / float(dataset.test.shape[0]))"
   ]
  },
  {
   "cell_type": "code",
   "execution_count": 48,
   "metadata": {},
   "outputs": [],
   "source": [
    "def compute_explenations(length=100):\n",
    "    coverages = np.zeros(length)\n",
    "    fit_examples = np.empty(shape = (length,), dtype = object)\n",
    "    explenations = np.empty(shape = (length,), dtype = object)\n",
    "    for i in range(length):\n",
    "        if i % 5 == 0:\n",
    "            print(i)\n",
    "        cur_exp = get_exp(i)\n",
    "        cur_fit = get_fit_examples(cur_exp, i)\n",
    "        \n",
    "        coverages[i] = get_test_cov(cur_fit)\n",
    "        fit_examples[i] = cur_fit\n",
    "        explenations[i] = cur_exp\n",
    "    \n",
    "    return coverages, fit_examples, explenations\n",
    "                "
   ]
  },
  {
   "cell_type": "code",
   "execution_count": 49,
   "metadata": {},
   "outputs": [
    {
     "name": "stdout",
     "output_type": "stream",
     "text": [
      "0\n",
      "5\n",
      "10\n",
      "15\n",
      "20\n",
      "25\n",
      "30\n",
      "35\n",
      "40\n",
      "45\n",
      "50\n",
      "55\n",
      "60\n",
      "65\n",
      "70\n",
      "75\n",
      "80\n",
      "85\n",
      "90\n",
      "95\n"
     ]
    }
   ],
   "source": [
    "cover, fit, explenations = best_k()"
   ]
  },
  {
   "cell_type": "code",
   "execution_count": 53,
   "metadata": {},
   "outputs": [
    {
     "name": "stdout",
     "output_type": "stream",
     "text": [
      "------------------------\n",
      "Anchor: Age <= 28.00 AND Marital Status = Never-married AND Relationship = Own-child\n",
      "Precision: 0.99\n",
      "Coverage: 0.08\n",
      "Anchor test precision: 0.99\n",
      "Anchor test coverage: 0.06\n",
      "Anchor test REAL precision: 0.99\n",
      "------------------------\n",
      "Anchor: Age <= 28.00 AND Relationship = Own-child\n",
      "Precision: 1.00\n",
      "Coverage: 0.08\n",
      "Anchor test precision: 0.99\n",
      "Anchor test coverage: 0.06\n",
      "Anchor test REAL precision: 0.99\n",
      "------------------------\n",
      "Anchor: Marital Status = Never-married AND Relationship = Own-child AND Capital Gain = 0\n",
      "Precision: 0.96\n",
      "Coverage: 0.09\n",
      "Anchor test precision: 0.99\n",
      "Anchor test coverage: 0.06\n",
      "Anchor test REAL precision: 0.99\n",
      "------------------------\n",
      "Anchor: Age <= 28.00 AND Marital Status = Never-married AND Capital Gain = 0\n",
      "Precision: 0.98\n",
      "Coverage: 0.14\n",
      "Anchor test precision: 0.97\n",
      "Anchor test coverage: 0.06\n",
      "Anchor test REAL precision: 0.97\n",
      "------------------------\n",
      "Anchor: Age <= 28.00 AND Marital Status = Never-married AND Capital Gain = 0\n",
      "Precision: 0.99\n",
      "Coverage: 0.14\n",
      "Anchor test precision: 0.97\n",
      "Anchor test coverage: 0.06\n",
      "Anchor test REAL precision: 0.97\n",
      "------------------------\n",
      "Anchor: Age <= 28.00 AND Marital Status = Never-married AND Capital Gain = 0\n",
      "Precision: 0.98\n",
      "Coverage: 0.15\n",
      "Anchor test precision: 0.97\n",
      "Anchor test coverage: 0.06\n",
      "Anchor test REAL precision: 0.97\n",
      "------------------------\n",
      "Anchor: Age <= 28.00 AND Marital Status = Never-married AND Capital Gain = 0\n",
      "Precision: 0.98\n",
      "Coverage: 0.14\n",
      "Anchor test precision: 0.97\n",
      "Anchor test coverage: 0.06\n",
      "Anchor test REAL precision: 0.97\n",
      "------------------------\n",
      "Anchor: Age <= 28.00 AND Marital Status = Never-married AND Capital Gain = 0\n",
      "Precision: 0.98\n",
      "Coverage: 0.14\n",
      "Anchor test precision: 0.97\n",
      "Anchor test coverage: 0.06\n",
      "Anchor test REAL precision: 0.97\n",
      "------------------------\n",
      "Anchor: Age <= 28.00 AND Marital Status = Never-married AND Capital Gain = 0\n",
      "Precision: 0.98\n",
      "Coverage: 0.14\n",
      "Anchor test precision: 0.97\n",
      "Anchor test coverage: 0.06\n",
      "Anchor test REAL precision: 0.97\n",
      "------------------------\n",
      "Anchor: Age <= 28.00 AND Marital Status = Never-married AND Capital Gain = 0\n",
      "Precision: 0.99\n",
      "Coverage: 0.14\n",
      "Anchor test precision: 0.97\n",
      "Anchor test coverage: 0.06\n",
      "Anchor test REAL precision: 0.97\n"
     ]
    }
   ],
   "source": [
    "best = cover.argsort()[-10:]\n",
    "for index in best:\n",
    "    print(\"------------------------\")\n",
    "    exp = explenations[index]\n",
    "    exp_label =  c.predict(dataset.test[index].reshape(1, -1))\n",
    "    print('Anchor: %s' % (' AND '.join(exp.names())))\n",
    "    print('Precision: %.2f' % exp.precision())\n",
    "    print('Coverage: %.2f' % exp.coverage())\n",
    "    print('Anchor test precision: %.2f' % (np.mean(c.predict(dataset.test[fit[index]]) == c.predict(dataset.test[index].reshape(1, -1)))))\n",
    "    print('Anchor test coverage: %.2f' % (fit.shape[0] / float(dataset.test.shape[0])))\n",
    "    covered_labels = dataset.labels_test[fit[index]]\n",
    "    real_percentage = sum([1 if label == exp_label else 0 for label in covered_labels]) / len(covered_labels)\n",
    "    print('Anchor test REAL precision: %.2f' % real_percentage)"
   ]
  },
  {
   "cell_type": "code",
   "execution_count": 5,
   "metadata": {},
   "outputs": [
    {
     "name": "stdout",
     "output_type": "stream",
     "text": [
      "Prediction:  b'>50K'\n"
     ]
    }
   ],
   "source": [
    "idx = 0\n",
    "np.random.seed(1)\n",
    "print('Prediction: ', explainer.class_names[c.predict(dataset.test[idx].reshape(1, -1))[0]])\n",
    "exp = explainer.explain_instance(dataset.test[idx], c.predict, threshold=0.95)"
   ]
  },
  {
   "cell_type": "code",
   "execution_count": 6,
   "metadata": {},
   "outputs": [
    {
     "name": "stdout",
     "output_type": "stream",
     "text": [
      "Anchor: Education = Bachelors AND Relationship = Husband AND Marital Status = Married-civ-spouse AND Occupation = Sales AND Race = White\n",
      "Precision: 0.96\n",
      "Coverage: 0.02\n"
     ]
    }
   ],
   "source": [
    "print('Anchor: %s' % (' AND '.join(exp.names())))\n",
    "print('Precision: %.2f' % exp.precision())\n",
    "print('Coverage: %.2f' % exp.coverage())"
   ]
  },
  {
   "cell_type": "markdown",
   "metadata": {},
   "source": [
    "Note that we set threshold to 0.95, so we guarantee (with high probability) that precision will be above 0.95 - that is, that predictions on instances where the anchor holds will be the same as the original prediction at least 95% of the time. Let's try it out on the test set"
   ]
  },
  {
   "cell_type": "code",
   "execution_count": 7,
   "metadata": {},
   "outputs": [
    {
     "name": "stdout",
     "output_type": "stream",
     "text": [
      "Anchor test precision: 0.97\n",
      "Anchor test coverage: 0.02\n"
     ]
    }
   ],
   "source": [
    "# Get test examples where the anchora pplies\n",
    "fit_anchor = np.where(np.all(dataset.test[:, exp.features()] == dataset.test[idx][exp.features()], axis=1))[0]\n",
    "print('Anchor test precision: %.2f' % (np.mean(c.predict(dataset.test[fit_anchor]) == c.predict(dataset.test[idx].reshape(1, -1)))))\n",
    "print('Anchor test coverage: %.2f' % (fit_anchor.shape[0] / float(dataset.test.shape[0])))"
   ]
  },
  {
   "cell_type": "code",
   "execution_count": null,
   "metadata": {},
   "outputs": [],
   "source": []
  }
 ],
 "metadata": {
  "kernelspec": {
   "display_name": "Python 3",
   "language": "python",
   "name": "python3"
  },
  "language_info": {
   "codemirror_mode": {
    "name": "ipython",
    "version": 3
   },
   "file_extension": ".py",
   "mimetype": "text/x-python",
   "name": "python",
   "nbconvert_exporter": "python",
   "pygments_lexer": "ipython3",
   "version": "3.6.7"
  }
 },
 "nbformat": 4,
 "nbformat_minor": 2
}
