{
 "cells": [
  {
   "cell_type": "code",
   "execution_count": 1,
   "metadata": {},
   "outputs": [],
   "source": [
    "from __future__ import print_function\n",
    "import numpy as np\n",
    "np.random.seed(1)\n",
    "import sys\n",
    "import sklearn\n",
    "import sklearn.ensemble\n",
    "%load_ext autoreload\n",
    "%autoreload 2\n",
    "from anchor import utils\n",
    "from anchor import anchor_tabular\n",
    "from numba import jit\n",
    "import pickle\n",
    "import matplotlib.pyplot as plt\n",
    "from myUtils import *"
   ]
  },
  {
   "cell_type": "markdown",
   "metadata": {},
   "source": [
    "### Loading the dataset\n",
    "This dataset is about predicting if a person makes more or less than 50,000 dollars"
   ]
  },
  {
   "cell_type": "code",
   "execution_count": 2,
   "metadata": {},
   "outputs": [],
   "source": [
    "# make sure you have adult/adult.data inside dataset_folder\n",
    "dataset_folder = '.'\n",
    "dataset = utils.load_dataset('adult', balance=True, dataset_folder=dataset_folder, discretize=True)"
   ]
  },
  {
   "cell_type": "markdown",
   "metadata": {},
   "source": [
    "Let's train a classifier for this"
   ]
  },
  {
   "cell_type": "code",
   "execution_count": 3,
   "metadata": {},
   "outputs": [
    {
     "name": "stdout",
     "output_type": "stream",
     "text": [
      "Train 0.9350338780390594\n",
      "Test 0.8489483747609943\n"
     ]
    }
   ],
   "source": [
    "c = sklearn.ensemble.RandomForestClassifier(n_estimators=50, n_jobs=5)\n",
    "c.fit(dataset.train, dataset.labels_train)\n",
    "print('Train', sklearn.metrics.accuracy_score(dataset.labels_train, c.predict(dataset.train)))\n",
    "print('Test', sklearn.metrics.accuracy_score(dataset.labels_test, c.predict(dataset.test)))"
   ]
  },
  {
   "cell_type": "markdown",
   "metadata": {},
   "source": [
    "### Getting an anchor"
   ]
  },
  {
   "cell_type": "markdown",
   "metadata": {},
   "source": [
    "Now let's start the explainer. We need the training data to perturb instances.\n",
    "`categorical_names` is a map from integer to list of strings, containing names for each\n",
    "            value of the categorical features. Every feature that is not in\n",
    "            this map will be considered as ordinal or continuous, and thus discretized.\n"
   ]
  },
  {
   "cell_type": "code",
   "execution_count": 4,
   "metadata": {},
   "outputs": [],
   "source": [
    "explainer = anchor_tabular.AnchorTabularExplainer(\n",
    "    dataset.class_names,\n",
    "    dataset.feature_names,\n",
    "    dataset.train,\n",
    "    dataset.categorical_names)"
   ]
  },
  {
   "cell_type": "code",
   "execution_count": 5,
   "metadata": {},
   "outputs": [
    {
     "name": "stdout",
     "output_type": "stream",
     "text": [
      "0\n",
      "50\n",
      "100\n",
      "150\n",
      "200\n",
      "250\n",
      "300\n",
      "350\n",
      "400\n",
      "450\n",
      "500\n",
      "550\n",
      "600\n",
      "650\n",
      "700\n",
      "750\n",
      "800\n",
      "850\n",
      "900\n",
      "950\n"
     ]
    }
   ],
   "source": [
    "my_utils = Utils(dataset, explainer, c)\n",
    "exps_num = 1000\n",
    "explanations = my_utils.compute_explanations(np.random.choice(len(dataset.test), exps_num))"
   ]
  },
  {
   "cell_type": "code",
   "execution_count": 6,
   "metadata": {},
   "outputs": [],
   "source": [
    "pickle.dump( explanations, open( \"exps.pickle\", \"wb\" ))"
   ]
  },
  {
   "cell_type": "code",
   "execution_count": 7,
   "metadata": {},
   "outputs": [],
   "source": [
    "explanations = pickle.load( open( \"exps.pickle\", \"rb\" ))"
   ]
  },
  {
   "cell_type": "code",
   "execution_count": 8,
   "metadata": {},
   "outputs": [],
   "source": [
    "explanations.sort(key=lambda exp: exp.test_cov)"
   ]
  },
  {
   "cell_type": "code",
   "execution_count": 9,
   "metadata": {},
   "outputs": [
    {
     "name": "stdout",
     "output_type": "stream",
     "text": [
      "------------------------\n",
      "Prediction:  b'<=50K'\n",
      "Anchor: Marital Status = Never-married AND Age <= 28.00\n",
      "Precision: 0.99\n",
      "Coverage: 0.14\n",
      "Anchor test precision: 0.95\n",
      "Anchor test coverage: 0.15\n",
      "Anchor test REAL precision: 0.95\n",
      "------------------------\n",
      "Prediction:  b'<=50K'\n",
      "Anchor: Age <= 28.00 AND Marital Status = Never-married\n",
      "Precision: 0.95\n",
      "Coverage: 0.14\n",
      "Anchor test precision: 0.95\n",
      "Anchor test coverage: 0.15\n",
      "Anchor test REAL precision: 0.95\n",
      "------------------------\n",
      "Prediction:  b'<=50K'\n",
      "Anchor: Marital Status = Never-married AND Age <= 28.00 AND Capital Gain = 0\n",
      "Precision: 0.98\n",
      "Coverage: 0.15\n",
      "Anchor test precision: 0.97\n",
      "Anchor test coverage: 0.15\n",
      "Anchor test REAL precision: 0.97\n",
      "------------------------\n",
      "Prediction:  b'<=50K'\n",
      "Anchor: Age <= 28.00 AND Marital Status = Never-married AND Capital Gain = 0\n",
      "Precision: 0.98\n",
      "Coverage: 0.15\n",
      "Anchor test precision: 0.97\n",
      "Anchor test coverage: 0.15\n",
      "Anchor test REAL precision: 0.97\n",
      "------------------------\n",
      "Prediction:  b'<=50K'\n",
      "Anchor: Marital Status = Never-married AND Age <= 28.00 AND Hours per week <= 40.00\n",
      "Precision: 0.97\n",
      "Coverage: 0.12\n",
      "Anchor test precision: 0.97\n",
      "Anchor test coverage: 0.13\n",
      "Anchor test REAL precision: 0.97\n",
      "------------------------\n",
      "Prediction:  b'<=50K'\n",
      "Anchor: Marital Status = Never-married AND Relationship = Own-child\n",
      "Precision: 0.99\n",
      "Coverage: 0.09\n",
      "Anchor test precision: 0.99\n",
      "Anchor test coverage: 0.09\n",
      "Anchor test REAL precision: 0.97\n",
      "------------------------\n",
      "Prediction:  b'<=50K'\n",
      "Anchor: Marital Status = Never-married AND Relationship = Own-child AND Capital Gain = 0\n",
      "Precision: 0.95\n",
      "Coverage: 0.09\n",
      "Anchor test precision: 0.99\n",
      "Anchor test coverage: 0.09\n",
      "Anchor test REAL precision: 0.99\n",
      "------------------------\n",
      "Prediction:  b'<=50K'\n",
      "Anchor: Marital Status = Never-married AND Relationship = Own-child AND Capital Gain = 0 AND Capital Loss = 0\n",
      "Precision: 0.97\n",
      "Coverage: 0.09\n",
      "Anchor test precision: 0.99\n",
      "Anchor test coverage: 0.09\n",
      "Anchor test REAL precision: 0.99\n",
      "------------------------\n",
      "Prediction:  b'<=50K'\n",
      "Anchor: Marital Status = Never-married AND Sex = Female AND Hours per week <= 40.00 AND Capital Gain = 0\n",
      "Precision: 0.96\n",
      "Coverage: 0.08\n",
      "Anchor test precision: 0.96\n",
      "Anchor test coverage: 0.09\n",
      "Anchor test REAL precision: 0.98\n",
      "------------------------\n",
      "Prediction:  b'<=50K'\n",
      "Anchor: Marital Status = Never-married AND Sex = Female AND Hours per week <= 40.00 AND Capital Gain = 0 AND Capital Loss = 0\n",
      "Precision: 0.96\n",
      "Coverage: 0.08\n",
      "Anchor test precision: 0.96\n",
      "Anchor test coverage: 0.08\n",
      "Anchor test REAL precision: 0.98\n"
     ]
    }
   ],
   "source": [
    "best = explanations[-10:]\n",
    "best.reverse()\n",
    "\n",
    "for exp in best:\n",
    "    print(\"------------------------\")\n",
    "    exp_label =  c.predict(dataset.test[exp.index].reshape(1, -1))\n",
    "    print('Prediction: ', explainer.class_names[exp_label[0]])\n",
    "    print('Anchor: %s' % (' AND '.join(exp.names)))\n",
    "    print('Precision: %.2f' % exp.precision)\n",
    "    print('Coverage: %.2f' % exp.coverage)\n",
    "    print('Anchor test precision: %.2f' % (np.mean(c.predict(dataset.test[exp.fit_examples]) == exp_label)))\n",
    "    print('Anchor test coverage: %.2f' % (exp.test_cov))\n",
    "    covered_labels = dataset.labels_test[exp.fit_examples]\n",
    "    real_percentage = np.mean(covered_labels == exp_label)\n",
    "    print('Anchor test REAL precision: %.2f' % real_percentage)"
   ]
  },
  {
   "cell_type": "code",
   "execution_count": 10,
   "metadata": {},
   "outputs": [
    {
     "data": {
      "image/png": "[encoded data removed]",
      "text/plain": [
       "<Figure size 432x288 with 1 Axes>"
      ]
     },
     "metadata": {
      "needs_background": "light"
     },
     "output_type": "display_data"
    }
   ],
   "source": [
    "exps = explenations[-len(explanations)//2:]\n",
    "real_precisions = [np.mean(dataset.labels_test[exp.fit_examples] == c.predict(dataset.test[exp.index].reshape(1, -1)))\n",
    "                   for exp in exps]\n",
    "test_precisions = [np.mean(c.predict(dataset.test[exp.fit_examples]) == c.predict(dataset.test[exp.index].reshape(1, -1))) \n",
    "                   for exp in exps]"
   ]
  },
  {
   "cell_type": "code",
   "execution_count": 12,
   "metadata": {},
   "outputs": [
    {
     "data": {
      "image/png": "[encoded data removed]",
      "text/plain": [
       "<Figure size 432x288 with 1 Axes>"
      ]
     },
     "metadata": {
      "needs_background": "light"
     },
     "output_type": "display_data"
    }
   ],
   "source": [
    "plt.scatter(test_precisions, real_precisions, s = range(len(exps)))\n",
    "plt.xlabel('test precisions')\n",
    "plt.ylabel('real precisions')\n",
    "plt.show()"
   ]
  },
  {
   "cell_type": "code",
   "execution_count": null,
   "metadata": {},
   "outputs": [],
   "source": []
  }
 ],
 "metadata": {
  "kernelspec": {
   "display_name": "Python 3",
   "language": "python",
   "name": "python3"
  },
  "language_info": {
   "codemirror_mode": {
    "name": "ipython",
    "version": 3
   },
   "file_extension": ".py",
   "mimetype": "text/x-python",
   "name": "python",
   "nbconvert_exporter": "python",
   "pygments_lexer": "ipython3",
   "version": "3.6.7"
  }
 },
 "nbformat": 4,
 "nbformat_minor": 2
}
