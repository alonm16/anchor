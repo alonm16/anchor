{
 "cells": [
  {
   "cell_type": "code",
   "execution_count": 9,
   "id": "5073ae0a-f2d7-4f9e-95c1-3353fef4304d",
   "metadata": {},
   "outputs": [
    {
     "name": "stdout",
     "output_type": "stream",
     "text": [
      "The autoreload extension is already loaded. To reload it, use:\n",
      "  %reload_ext autoreload\n"
     ]
    }
   ],
   "source": [
    "# Setup\n",
    "%matplotlib inline\n",
    "%load_ext autoreload\n",
    "%autoreload 2\n",
    "import sys\n",
    "import time\n",
    "import matplotlib.pyplot as plt\n",
    "import warnings\n",
    "import torch.nn as nn\n",
    "import spacy\n",
    "import pickle\n",
    "import models \n",
    "import training \n",
    "import plot \n",
    "from utils import *\n",
    "from dataset_loader import *\n",
    "\n",
    "SEED = 84\n",
    "torch.manual_seed(SEED)\n",
    "warnings.simplefilter(\"ignore\")"
   ]
  },
  {
   "cell_type": "code",
   "execution_count": 10,
   "id": "f07fc3de-eb19-4f46-bb94-6ad8a334e26a",
   "metadata": {},
   "outputs": [
    {
     "name": "stdout",
     "output_type": "stream",
     "text": [
      "cuda\n"
     ]
    }
   ],
   "source": [
    "plt.rcParams['font.size'] = 20\n",
    "device = torch.device('cuda' if torch.cuda.is_available() else 'cpu')\n",
    "print(device)"
   ]
  },
  {
   "cell_type": "code",
   "execution_count": 3,
   "id": "347a4f0b-0bb9-4416-bd33-2d1e6eda414e",
   "metadata": {},
   "outputs": [
    {
     "name": "stdout",
     "output_type": "stream",
     "text": [
      "Number of tokens in training samples: 6407\n",
      "Number of tokens in training labels: 2\n"
     ]
    }
   ],
   "source": [
    "dataset_name = 'sentiment'\n",
    "text_parser, label_parser, ds_train, ds_valid = get_dataset('sentiment')"
   ]
  },
  {
   "cell_type": "code",
   "execution_count": 4,
   "id": "bdfb71fa-d58a-4bbe-b09d-3970c29c936a",
   "metadata": {},
   "outputs": [
    {
     "data": {
      "text/plain": [
       "9000"
      ]
     },
     "execution_count": 4,
     "metadata": {},
     "output_type": "execute_result"
    }
   ],
   "source": [
    "len(ds_train)"
   ]
  },
  {
   "cell_type": "code",
   "execution_count": 5,
   "id": "716c9c6a-71f7-4e77-915c-73194d645929",
   "metadata": {},
   "outputs": [
    {
     "data": {
      "text/plain": [
       "1433"
      ]
     },
     "execution_count": 5,
     "metadata": {},
     "output_type": "execute_result"
    }
   ],
   "source": [
    "len(ds_valid)"
   ]
  },
  {
   "cell_type": "markdown",
   "id": "5bfe5f92-979e-4ad7-8554-63d62cb4a735",
   "metadata": {
    "tags": []
   },
   "source": [
    "## Forward Function For Getting Accuracy"
   ]
  },
  {
   "cell_type": "code",
   "execution_count": 6,
   "id": "d9a38f96-6bff-4843-aa81-fdc2f4fe8d15",
   "metadata": {},
   "outputs": [],
   "source": [
    "import tqdm\n",
    "def forward_dl(model, dl, device, type_dl):\n",
    "    model.train(False)\n",
    "    num_samples = len(dl) * dl.batch_size\n",
    "    num_batches = len(dl)  \n",
    "    pbar_name = type(model).__name__\n",
    "    list_y_real = []\n",
    "    list_y_pred = []\n",
    "    pbar_file = sys.stdout\n",
    "    num_correct = 0\n",
    "    dl_iter = iter(dl)\n",
    "    for batch_idx in range(num_batches):\n",
    "        data = next(dl_iter)\n",
    "        x, y = data.text, data.label\n",
    "        list_y_real.append(y)\n",
    "        x = x.to(device)  # (S, B, E)\n",
    "        y = y.to(device)  # (B,)\n",
    "        with torch.no_grad():\n",
    "            if isinstance(model, models.VanillaGRU):\n",
    "                y_pred_log_proba = model(x)\n",
    "            elif isinstance(model, models.MultiHeadAttentionNet):\n",
    "                y_pred_log_proba, _ = model(x)\n",
    "            y_pred = torch.argmax(y_pred_log_proba, dim=1)\n",
    "            num_correct += torch.sum(y_pred == y).float().item()\n",
    "            list_y_pred.append(y_pred)\n",
    "    accuracy = 100.0 * num_correct / num_samples\n",
    "    print(f'Accuracy for {type_dl} is {accuracy}')\n",
    "    \n",
    "    all_y_real = torch.cat(list_y_real)\n",
    "    all_y_pred = torch.cat(list_y_pred)\n",
    "    return all_y_real, all_y_pred, accuracy"
   ]
  },
  {
   "cell_type": "markdown",
   "id": "5dafb290-ff2c-43a7-b5d9-ca096a1647d8",
   "metadata": {
    "tags": []
   },
   "source": [
    "# Training Function\n",
    "\n",
    "### Saves all the the output in the output directory"
   ]
  },
  {
   "cell_type": "code",
   "execution_count": 7,
   "id": "4d03c1c3-e77b-4bde-9b0d-d35aca342ab2",
   "metadata": {},
   "outputs": [],
   "source": [
    "import torch.optim as optim\n",
    "import numpy as np\n",
    "import pandas as pd\n",
    "from pathlib import Path\n",
    "def train_model(model_name, device, output_directory = 'results'):\n",
    "    NUM_EPOCHS = 100\n",
    "    if model_name == 'gru':\n",
    "        hp = load_hyperparams(model_name, type_dataset)\n",
    "        model = models.VanillaGRU(text_parser.vocab, hp['embedding_dim'], hp['hidden_dim'], hp['num_layers'], hp['output_classes'], hp['dropout']).to(device)\n",
    "    elif model_name == 'attention':\n",
    "        hp = load_hyperparams(model_name, type_dataset)\n",
    "        model = models.MultiHeadAttentionNet(input_vocabulary=text_parser.vocab, embed_dim=hp['embedding_dim'], num_heads=hp['num_heads'], \n",
    "                                           dropout=hp['dropout'], two_attention_layers=hp['two_atten_layers'], output_classes=hp['output_classes']).to(device)\n",
    "    print(model)\n",
    "    dl_train, dl_valid = torchtext.legacy.data.BucketIterator.splits((ds_train, ds_valid), batch_size=hp['batch_size'], sort = False, shuffle=True, device=device)\n",
    "\n",
    "    optimizer = optim.Adam(model.parameters(), lr=hp['lr'])\n",
    "    loss_fn = nn.NLLLoss()\n",
    "    \n",
    "    trainer = training.SentimentTrainer(model, loss_fn, optimizer, device)\n",
    "    checkpoint_filename = str(output_directory) +  '/' + model_name\n",
    "    print(f'Saving checkpoint with prefix: {checkpoint_filename}')\n",
    "    fit_res = trainer.fit(dl_train, dl_valid, NUM_EPOCHS, early_stopping = hp['early_stopping'], checkpoints = checkpoint_filename, params = hp)\n",
    "    \n",
    "    fig, axes = plot.plot_fit(fit_res)\n",
    "    fig.savefig(output_directory + '/' + str(model_name + '.png'))\n",
    "\n",
    "    saved_state = torch.load(checkpoint_filename + '.pt', map_location=device)\n",
    "    model.load_state_dict(saved_state[\"model_state\"])\n",
    "    loaded_hp = saved_state[\"parameters\"]\n",
    "    print('----- Loaded params ------')\n",
    "    print(loaded_hp)\n",
    "    all_dataloaders = [dl_train, dl_valid]\n",
    "    type_dls = ['train', 'valid', 'test']\n",
    "    accuracies = []\n",
    "    for dl, type_dl in zip(all_dataloaders, type_dls):\n",
    "        y_real, y_pred, accuracy = forward_dl(model, dl, device, type_dl)\n",
    "        df = compute_confusion_matrix(y_real, y_pred, model_name, type_dl)\n",
    "        accuracies.append(accuracy)\n",
    "        display(df)\n",
    "    numpy_accuracy = np.array(accuracies)\n",
    "    df = pd.DataFrame(numpy_accuracy, index = type_dls, dtype=float)\n",
    "    df.to_csv(output_directory + '/' + str('accuracies_' + model_name + '.csv')) "
   ]
  },
  {
   "cell_type": "markdown",
   "id": "e441f304-4ae5-4c1d-afd5-941b77585aa2",
   "metadata": {
    "tags": []
   },
   "source": [
    "# Training GRU"
   ]
  },
  {
   "cell_type": "code",
   "execution_count": 9,
   "id": "a16d185d-2147-483d-9304-d32103c19b4f",
   "metadata": {},
   "outputs": [
    {
     "name": "stdout",
     "output_type": "stream",
     "text": [
      "{'embedding_dim': 100, 'batch_size': 32, 'hidden_dim': 256, 'num_layers': 2, 'dropout': 0.3, 'lr': 0.0001, 'early_stopping': 5, 'output_classes': 2}\n",
      "VanillaGRU(\n",
      "  (embedding_layer): Embedding(6407, 100)\n",
      "  (GRU_layer): GRU(100, 256, num_layers=2, dropout=0.3)\n",
      "  (dropout_layer): Dropout(p=0.3, inplace=False)\n",
      "  (fc): Linear(in_features=256, out_features=2, bias=True)\n",
      "  (log_softmax): LogSoftmax(dim=1)\n",
      ")\n",
      "Saving checkpoint with prefix: sentiment/gru\n",
      "--- EPOCH 1/100 ---\n",
      "train_batch (Avg. Loss 0.693, Accuracy 50.122): 100%|█| 282/282 [00:01<00:00, 15\n",
      "test_batch (Avg. Loss 0.692, Accuracy 52.083): 100%|█| 45/45 [00:00<00:00, 346.8\n",
      "*** Saved checkpoint sentiment/gru.pt at epoch 1\n",
      "--- EPOCH 2/100 ---\n",
      "train_batch (Avg. Loss 0.694, Accuracy 49.391): 100%|█| 282/282 [00:01<00:00, 15\n",
      "test_batch (Avg. Loss 0.696, Accuracy 47.847): 100%|█| 45/45 [00:00<00:00, 356.0\n",
      "--- EPOCH 3/100 ---\n",
      "train_batch (Avg. Loss 0.692, Accuracy 50.953): 100%|█| 282/282 [00:01<00:00, 16\n",
      "test_batch (Avg. Loss 0.697, Accuracy 48.264): 100%|█| 45/45 [00:00<00:00, 361.3\n",
      "--- EPOCH 4/100 ---\n",
      "train_batch (Avg. Loss 0.630, Accuracy 63.276): 100%|█| 282/282 [00:01<00:00, 15\n",
      "test_batch (Avg. Loss 0.570, Accuracy 69.375): 100%|█| 45/45 [00:00<00:00, 360.1\n",
      "*** Saved checkpoint sentiment/gru.pt at epoch 4\n",
      "--- EPOCH 5/100 ---\n",
      "train_batch (Avg. Loss 0.563, Accuracy 70.878): 100%|█| 282/282 [00:01<00:00, 16\n",
      "test_batch (Avg. Loss 0.546, Accuracy 71.250): 100%|█| 45/45 [00:00<00:00, 360.9\n",
      "*** Saved checkpoint sentiment/gru.pt at epoch 5\n",
      "--- EPOCH 6/100 ---\n",
      "train_batch (Avg. Loss 0.537, Accuracy 72.850): 100%|█| 282/282 [00:02<00:00, 13\n",
      "test_batch (Avg. Loss 0.550, Accuracy 71.250): 100%|█| 45/45 [00:00<00:00, 315.7\n",
      "--- EPOCH 7/100 ---\n",
      "train_batch (Avg. Loss 0.526, Accuracy 73.726): 100%|█| 282/282 [00:02<00:00, 13\n",
      "test_batch (Avg. Loss 0.545, Accuracy 71.181): 100%|█| 45/45 [00:00<00:00, 361.3\n",
      "--- EPOCH 8/100 ---\n",
      "train_batch (Avg. Loss 0.516, Accuracy 74.335): 100%|█| 282/282 [00:01<00:00, 15\n",
      "test_batch (Avg. Loss 0.545, Accuracy 72.431): 100%|█| 45/45 [00:00<00:00, 364.0\n",
      "*** Saved checkpoint sentiment/gru.pt at epoch 8\n",
      "--- EPOCH 9/100 ---\n",
      "train_batch (Avg. Loss 0.506, Accuracy 74.812): 100%|█| 282/282 [00:01<00:00, 15\n",
      "test_batch (Avg. Loss 0.524, Accuracy 73.750): 100%|█| 45/45 [00:00<00:00, 364.3\n",
      "*** Saved checkpoint sentiment/gru.pt at epoch 9\n",
      "--- EPOCH 10/100 ---\n",
      "train_batch (Avg. Loss 0.498, Accuracy 75.443): 100%|█| 282/282 [00:01<00:00, 15\n",
      "test_batch (Avg. Loss 0.515, Accuracy 74.514): 100%|█| 45/45 [00:00<00:00, 349.1\n",
      "*** Saved checkpoint sentiment/gru.pt at epoch 10\n",
      "--- EPOCH 11/100 ---\n",
      "train_batch (Avg. Loss 0.488, Accuracy 75.820): 100%|█| 282/282 [00:01<00:00, 15\n",
      "test_batch (Avg. Loss 0.540, Accuracy 73.819): 100%|█| 45/45 [00:00<00:00, 364.4\n",
      "--- EPOCH 12/100 ---\n",
      "train_batch (Avg. Loss 0.482, Accuracy 76.330): 100%|█| 282/282 [00:01<00:00, 15\n",
      "test_batch (Avg. Loss 0.503, Accuracy 74.444): 100%|█| 45/45 [00:00<00:00, 362.9\n",
      "--- EPOCH 13/100 ---\n",
      "train_batch (Avg. Loss 0.475, Accuracy 76.518): 100%|█| 282/282 [00:01<00:00, 15\n",
      "test_batch (Avg. Loss 0.486, Accuracy 75.486): 100%|█| 45/45 [00:00<00:00, 363.6\n",
      "*** Saved checkpoint sentiment/gru.pt at epoch 13\n",
      "--- EPOCH 14/100 ---\n",
      "train_batch (Avg. Loss 0.466, Accuracy 76.928): 100%|█| 282/282 [00:01<00:00, 15\n",
      "test_batch (Avg. Loss 0.483, Accuracy 75.486): 100%|█| 45/45 [00:00<00:00, 360.0\n",
      "--- EPOCH 15/100 ---\n",
      "train_batch (Avg. Loss 0.460, Accuracy 77.848): 100%|█| 282/282 [00:01<00:00, 15\n",
      "test_batch (Avg. Loss 0.475, Accuracy 76.528): 100%|█| 45/45 [00:00<00:00, 362.3\n",
      "*** Saved checkpoint sentiment/gru.pt at epoch 15\n",
      "--- EPOCH 16/100 ---\n",
      "train_batch (Avg. Loss 0.455, Accuracy 77.604): 100%|█| 282/282 [00:01<00:00, 15\n",
      "test_batch (Avg. Loss 0.476, Accuracy 76.528): 100%|█| 45/45 [00:00<00:00, 361.4\n",
      "--- EPOCH 17/100 ---\n",
      "train_batch (Avg. Loss 0.446, Accuracy 78.280): 100%|█| 282/282 [00:01<00:00, 16\n",
      "test_batch (Avg. Loss 0.470, Accuracy 77.292): 100%|█| 45/45 [00:00<00:00, 360.9\n",
      "*** Saved checkpoint sentiment/gru.pt at epoch 17\n",
      "--- EPOCH 18/100 ---\n",
      "train_batch (Avg. Loss 0.441, Accuracy 78.823): 100%|█| 282/282 [00:01<00:00, 15\n",
      "test_batch (Avg. Loss 0.495, Accuracy 75.139): 100%|█| 45/45 [00:00<00:00, 359.8\n",
      "--- EPOCH 19/100 ---\n",
      "train_batch (Avg. Loss 0.437, Accuracy 79.056): 100%|█| 282/282 [00:01<00:00, 16\n",
      "test_batch (Avg. Loss 0.504, Accuracy 74.444): 100%|█| 45/45 [00:00<00:00, 361.6\n",
      "--- EPOCH 20/100 ---\n",
      "train_batch (Avg. Loss 0.429, Accuracy 79.610): 100%|█| 282/282 [00:01<00:00, 16\n",
      "test_batch (Avg. Loss 0.472, Accuracy 78.056): 100%|█| 45/45 [00:00<00:00, 339.1\n",
      "*** Saved checkpoint sentiment/gru.pt at epoch 20\n",
      "--- EPOCH 21/100 ---\n",
      "train_batch (Avg. Loss 0.423, Accuracy 79.355): 100%|█| 282/282 [00:01<00:00, 16\n",
      "test_batch (Avg. Loss 0.458, Accuracy 77.292): 100%|█| 45/45 [00:00<00:00, 365.9\n",
      "--- EPOCH 22/100 ---\n",
      "train_batch (Avg. Loss 0.418, Accuracy 80.042): 100%|█| 282/282 [00:01<00:00, 16\n",
      "test_batch (Avg. Loss 0.464, Accuracy 77.153): 100%|█| 45/45 [00:00<00:00, 367.8\n",
      "--- EPOCH 23/100 ---\n",
      "train_batch (Avg. Loss 0.411, Accuracy 80.496): 100%|█| 282/282 [00:01<00:00, 16\n",
      "test_batch (Avg. Loss 0.463, Accuracy 78.194): 100%|█| 45/45 [00:00<00:00, 363.9\n",
      "*** Saved checkpoint sentiment/gru.pt at epoch 23\n",
      "--- EPOCH 24/100 ---\n",
      "train_batch (Avg. Loss 0.408, Accuracy 80.541): 100%|█| 282/282 [00:01<00:00, 15\n",
      "test_batch (Avg. Loss 0.453, Accuracy 78.403): 100%|█| 45/45 [00:00<00:00, 363.4\n",
      "*** Saved checkpoint sentiment/gru.pt at epoch 24\n",
      "--- EPOCH 25/100 ---\n",
      "train_batch (Avg. Loss 0.402, Accuracy 80.984): 100%|█| 282/282 [00:01<00:00, 15\n",
      "test_batch (Avg. Loss 0.460, Accuracy 78.819): 100%|█| 45/45 [00:00<00:00, 364.2\n",
      "*** Saved checkpoint sentiment/gru.pt at epoch 25\n",
      "--- EPOCH 26/100 ---\n",
      "train_batch (Avg. Loss 0.394, Accuracy 81.294): 100%|█| 282/282 [00:01<00:00, 16\n",
      "test_batch (Avg. Loss 0.466, Accuracy 77.778): 100%|█| 45/45 [00:00<00:00, 364.7\n",
      "--- EPOCH 27/100 ---\n",
      "train_batch (Avg. Loss 0.384, Accuracy 81.959): 100%|█| 282/282 [00:01<00:00, 16\n",
      "test_batch (Avg. Loss 0.513, Accuracy 75.833): 100%|█| 45/45 [00:00<00:00, 365.6\n",
      "--- EPOCH 28/100 ---\n",
      "train_batch (Avg. Loss 0.379, Accuracy 82.657): 100%|█| 282/282 [00:01<00:00, 16\n",
      "test_batch (Avg. Loss 0.457, Accuracy 77.639): 100%|█| 45/45 [00:00<00:00, 367.4\n",
      "--- EPOCH 29/100 ---\n",
      "train_batch (Avg. Loss 0.377, Accuracy 82.591): 100%|█| 282/282 [00:01<00:00, 16\n",
      "test_batch (Avg. Loss 0.459, Accuracy 79.167): 100%|█| 45/45 [00:00<00:00, 364.4\n",
      "*** Saved checkpoint sentiment/gru.pt at epoch 29\n",
      "--- EPOCH 30/100 ---\n",
      "train_batch (Avg. Loss 0.366, Accuracy 82.957): 100%|█| 282/282 [00:01<00:00, 15\n",
      "test_batch (Avg. Loss 0.460, Accuracy 77.778): 100%|█| 45/45 [00:00<00:00, 365.7\n",
      "--- EPOCH 31/100 ---\n",
      "train_batch (Avg. Loss 0.366, Accuracy 82.702): 100%|█| 282/282 [00:01<00:00, 16\n",
      "test_batch (Avg. Loss 0.466, Accuracy 77.292): 100%|█| 45/45 [00:00<00:00, 366.4\n",
      "--- EPOCH 32/100 ---\n",
      "train_batch (Avg. Loss 0.358, Accuracy 83.234): 100%|█| 282/282 [00:01<00:00, 16\n",
      "test_batch (Avg. Loss 0.505, Accuracy 76.944): 100%|█| 45/45 [00:00<00:00, 361.6\n",
      "--- EPOCH 33/100 ---\n",
      "train_batch (Avg. Loss 0.348, Accuracy 84.098): 100%|█| 282/282 [00:01<00:00, 16\n",
      "test_batch (Avg. Loss 0.488, Accuracy 77.361): 100%|█| 45/45 [00:00<00:00, 365.0\n",
      "--- EPOCH 34/100 ---\n",
      "train_batch (Avg. Loss 0.344, Accuracy 84.275): 100%|█| 282/282 [00:01<00:00, 15\n",
      "test_batch (Avg. Loss 0.482, Accuracy 77.569): 100%|█| 45/45 [00:00<00:00, 365.5\n",
      "----- Loaded params ------\n",
      "{'embedding_dim': 100, 'batch_size': 32, 'hidden_dim': 256, 'num_layers': 2, 'dropout': 0.3, 'lr': 0.0001, 'early_stopping': 5, 'output_classes': 2}\n",
      "Accuracy for train is 83.66578014184397\n"
     ]
    },
    {
     "ename": "NameError",
     "evalue": "name 'compute_confusion_matrix' is not defined",
     "output_type": "error",
     "traceback": [
      "\u001b[0;31m---------------------------------------------------------------------------\u001b[0m",
      "\u001b[0;31mNameError\u001b[0m                                 Traceback (most recent call last)",
      "\u001b[0;32m/tmp/ipykernel_3788352/3267499000.py\u001b[0m in \u001b[0;36m<module>\u001b[0;34m\u001b[0m\n\u001b[1;32m      2\u001b[0m \u001b[0mSEED\u001b[0m \u001b[0;34m=\u001b[0m \u001b[0;36m84\u001b[0m\u001b[0;34m\u001b[0m\u001b[0;34m\u001b[0m\u001b[0m\n\u001b[1;32m      3\u001b[0m \u001b[0mtorch\u001b[0m\u001b[0;34m.\u001b[0m\u001b[0mmanual_seed\u001b[0m\u001b[0;34m(\u001b[0m\u001b[0mSEED\u001b[0m\u001b[0;34m)\u001b[0m\u001b[0;34m\u001b[0m\u001b[0;34m\u001b[0m\u001b[0m\n\u001b[0;32m----> 4\u001b[0;31m \u001b[0mtrain_model\u001b[0m\u001b[0;34m(\u001b[0m\u001b[0;34m'gru'\u001b[0m\u001b[0;34m,\u001b[0m \u001b[0mdevice\u001b[0m\u001b[0;34m,\u001b[0m \u001b[0moutput_directory\u001b[0m\u001b[0;34m=\u001b[0m\u001b[0mdataset_name\u001b[0m\u001b[0;34m)\u001b[0m\u001b[0;34m\u001b[0m\u001b[0;34m\u001b[0m\u001b[0m\n\u001b[0m",
      "\u001b[0;32m/tmp/ipykernel_3788352/3936421467.py\u001b[0m in \u001b[0;36mtrain_model\u001b[0;34m(model_name, device, output_directory)\u001b[0m\n\u001b[1;32m     36\u001b[0m     \u001b[0;32mfor\u001b[0m \u001b[0mdl\u001b[0m\u001b[0;34m,\u001b[0m \u001b[0mtype_dl\u001b[0m \u001b[0;32min\u001b[0m \u001b[0mzip\u001b[0m\u001b[0;34m(\u001b[0m\u001b[0mall_dataloaders\u001b[0m\u001b[0;34m,\u001b[0m \u001b[0mtype_dls\u001b[0m\u001b[0;34m)\u001b[0m\u001b[0;34m:\u001b[0m\u001b[0;34m\u001b[0m\u001b[0;34m\u001b[0m\u001b[0m\n\u001b[1;32m     37\u001b[0m         \u001b[0my_real\u001b[0m\u001b[0;34m,\u001b[0m \u001b[0my_pred\u001b[0m\u001b[0;34m,\u001b[0m \u001b[0maccuracy\u001b[0m \u001b[0;34m=\u001b[0m \u001b[0mforward_dl\u001b[0m\u001b[0;34m(\u001b[0m\u001b[0mmodel\u001b[0m\u001b[0;34m,\u001b[0m \u001b[0mdl\u001b[0m\u001b[0;34m,\u001b[0m \u001b[0mdevice\u001b[0m\u001b[0;34m,\u001b[0m \u001b[0mtype_dl\u001b[0m\u001b[0;34m)\u001b[0m\u001b[0;34m\u001b[0m\u001b[0;34m\u001b[0m\u001b[0m\n\u001b[0;32m---> 38\u001b[0;31m         \u001b[0mdf\u001b[0m \u001b[0;34m=\u001b[0m \u001b[0mcompute_confusion_matrix\u001b[0m\u001b[0;34m(\u001b[0m\u001b[0my_real\u001b[0m\u001b[0;34m,\u001b[0m \u001b[0my_pred\u001b[0m\u001b[0;34m,\u001b[0m \u001b[0mmodel_name\u001b[0m\u001b[0;34m,\u001b[0m \u001b[0mtype_dl\u001b[0m\u001b[0;34m)\u001b[0m\u001b[0;34m\u001b[0m\u001b[0;34m\u001b[0m\u001b[0m\n\u001b[0m\u001b[1;32m     39\u001b[0m         \u001b[0maccuracies\u001b[0m\u001b[0;34m.\u001b[0m\u001b[0mappend\u001b[0m\u001b[0;34m(\u001b[0m\u001b[0maccuracy\u001b[0m\u001b[0;34m)\u001b[0m\u001b[0;34m\u001b[0m\u001b[0;34m\u001b[0m\u001b[0m\n\u001b[1;32m     40\u001b[0m         \u001b[0mdisplay\u001b[0m\u001b[0;34m(\u001b[0m\u001b[0mdf\u001b[0m\u001b[0;34m)\u001b[0m\u001b[0;34m\u001b[0m\u001b[0;34m\u001b[0m\u001b[0m\n",
      "\u001b[0;31mNameError\u001b[0m: name 'compute_confusion_matrix' is not defined"
     ]
    },
    {
     "data": {
      "image/png": "[encoded data removed]",
      "text/plain": [
       "<Figure size 1152x720 with 4 Axes>"
      ]
     },
     "metadata": {
      "needs_background": "light"
     },
     "output_type": "display_data"
    }
   ],
   "source": [
    "!rm sentiment/gru.pt\n",
    "SEED = 84\n",
    "torch.manual_seed(SEED)\n",
    "train_model('gru', device, output_directory=dataset_name)"
   ]
  },
  {
   "cell_type": "markdown",
   "id": "547e2ddf-b673-4748-82aa-8a016c7efbb6",
   "metadata": {
    "tags": []
   },
   "source": [
    "# Training Attention"
   ]
  },
  {
   "cell_type": "code",
   "execution_count": 4,
   "id": "b834790e-aad3-4c29-9a2b-5f2ce1abec09",
   "metadata": {},
   "outputs": [
    {
     "data": {
      "text/plain": [
       "<torch._C.Generator at 0x7f6150136790>"
      ]
     },
     "execution_count": 4,
     "metadata": {},
     "output_type": "execute_result"
    }
   ],
   "source": [
    "SEED = 84\n",
    "torch.manual_seed(SEED)\n",
    "#train_model('attention', device, output_directory=dataset_name)"
   ]
  },
  {
   "cell_type": "code",
   "execution_count": 2,
   "id": "c4a747c6-a855-4ac5-b5d6-0269d8ca2f73",
   "metadata": {},
   "outputs": [],
   "source": [
    "from nlputils import *\n",
    "set_seed()"
   ]
  },
  {
   "cell_type": "code",
   "execution_count": 3,
   "id": "ade0ffda-7b41-472c-a0bb-3d70133f542b",
   "metadata": {},
   "outputs": [],
   "source": [
    "from datasets import Dataset, DatasetDict\n",
    "import pandas as pd\n",
    "from dataset_loader import twitter_preprocess\n",
    "df = pd.read_csv('../dataset/corona_train.csv', encoding='latin-1')[['OriginalTweet', 'Sentiment']]\n",
    "df = df[df['Sentiment']!='Neutral']\n",
    "df['label'] = df['Sentiment'].map({'Positive': True, 'Extremely Positive': True,'Negative': False, 'Extremely Negative': False}) \n",
    "df['review'] = df['OriginalTweet'].apply(twitter_preprocess)\n",
    "df = df[:10000][['review', 'label']]\n",
    "dataset = Dataset.from_pandas(df)"
   ]
  },
  {
   "cell_type": "code",
   "execution_count": 5,
   "id": "05f763c3-9fbd-4a04-a9ef-c7ad1459c3db",
   "metadata": {},
   "outputs": [],
   "source": [
    "from sklearn.model_selection import train_test_split\n",
    "\n",
    "train, test = train_test_split(df, test_size=0.2)"
   ]
  },
  {
   "cell_type": "code",
   "execution_count": 4,
   "id": "6b9fab32-4edf-4561-8889-83260597c9dd",
   "metadata": {},
   "outputs": [],
   "source": [
    "Dataset.from_pandas\n",
    "ds = DatasetDict()\n",
    "\n",
    "ds['train'] = Dataset.from_pandas(train).remove_columns(['__index_level_0__'])\n",
    "ds['test'] = Dataset.from_pandas(test).remove_columns(['__index_level_0__'])"
   ]
  },
  {
   "cell_type": "code",
   "execution_count": null,
   "id": "1cc43088-2222-43da-840b-140066b40448",
   "metadata": {},
   "outputs": [],
   "source": [
    "ds['train']['label']"
   ]
  },
  {
   "cell_type": "code",
   "execution_count": 5,
   "id": "ea2f18f6-83bb-4ddf-84b4-29ff989f14c0",
   "metadata": {},
   "outputs": [
    {
     "name": "stderr",
     "output_type": "stream",
     "text": [
      "Some weights of the model checkpoint at distilbert-base-uncased were not used when initializing DistilBertForSequenceClassification: ['vocab_layer_norm.bias', 'vocab_transform.bias', 'vocab_projector.weight', 'vocab_layer_norm.weight', 'vocab_projector.bias', 'vocab_transform.weight']\n",
      "- This IS expected if you are initializing DistilBertForSequenceClassification from the checkpoint of a model trained on another task or with another architecture (e.g. initializing a BertForSequenceClassification model from a BertForPreTraining model).\n",
      "- This IS NOT expected if you are initializing DistilBertForSequenceClassification from the checkpoint of a model that you expect to be exactly identical (initializing a BertForSequenceClassification model from a BertForSequenceClassification model).\n",
      "Some weights of DistilBertForSequenceClassification were not initialized from the model checkpoint at distilbert-base-uncased and are newly initialized: ['classifier.weight', 'pre_classifier.weight', 'pre_classifier.bias', 'classifier.bias']\n",
      "You should probably TRAIN this model on a down-stream task to be able to use it for predictions and inference.\n"
     ]
    },
    {
     "data": {
      "application/vnd.jupyter.widget-view+json": {
       "model_id": "c81ee4700d4544f88f88b1f19dfa3c22",
       "version_major": 2,
       "version_minor": 0
      },
      "text/plain": [
       "  0%|          | 0/8000 [00:00<?, ?ex/s]"
      ]
     },
     "metadata": {},
     "output_type": "display_data"
    },
    {
     "data": {
      "application/vnd.jupyter.widget-view+json": {
       "model_id": "284f6a35ccac4b138cf33f1b21986ae1",
       "version_major": 2,
       "version_minor": 0
      },
      "text/plain": [
       "  0%|          | 0/2000 [00:00<?, ?ex/s]"
      ]
     },
     "metadata": {},
     "output_type": "display_data"
    },
    {
     "name": "stderr",
     "output_type": "stream",
     "text": [
      "***** Running training *****\n",
      "  Num examples = 8000\n",
      "  Num Epochs = 2\n",
      "  Instantaneous batch size per device = 32\n",
      "  Total train batch size (w. parallel, distributed & accumulation) = 32\n",
      "  Gradient Accumulation steps = 1\n",
      "  Total optimization steps = 500\n"
     ]
    },
    {
     "data": {
      "text/html": [
       "\n",
       "    <div>\n",
       "      \n",
       "      <progress value='500' max='500' style='width:300px; height:20px; vertical-align: middle;'></progress>\n",
       "      [500/500 00:37, Epoch 2/2]\n",
       "    </div>\n",
       "    <table border=\"1\" class=\"dataframe\">\n",
       "  <thead>\n",
       "    <tr style=\"text-align: left;\">\n",
       "      <th>Epoch</th>\n",
       "      <th>Training Loss</th>\n",
       "      <th>Validation Loss</th>\n",
       "      <th>Accuracy</th>\n",
       "    </tr>\n",
       "  </thead>\n",
       "  <tbody>\n",
       "    <tr>\n",
       "      <td>1</td>\n",
       "      <td>No log</td>\n",
       "      <td>0.339946</td>\n",
       "      <td>0.859000</td>\n",
       "    </tr>\n",
       "    <tr>\n",
       "      <td>2</td>\n",
       "      <td>0.303400</td>\n",
       "      <td>0.328005</td>\n",
       "      <td>0.882500</td>\n",
       "    </tr>\n",
       "  </tbody>\n",
       "</table><p>"
      ],
      "text/plain": [
       "<IPython.core.display.HTML object>"
      ]
     },
     "metadata": {},
     "output_type": "display_data"
    },
    {
     "name": "stderr",
     "output_type": "stream",
     "text": [
      "***** Running Evaluation *****\n",
      "  Num examples = 2000\n",
      "  Batch size = 32\n",
      "***** Running Evaluation *****\n",
      "  Num examples = 2000\n",
      "  Batch size = 32\n",
      "\n",
      "\n",
      "Training completed. Do not forget to share your model on huggingface.co/models =)\n",
      "\n",
      "\n"
     ]
    },
    {
     "data": {
      "text/plain": [
       "TrainOutput(global_step=500, training_loss=0.3034129943847656, metrics={'train_runtime': 37.6255, 'train_samples_per_second': 425.243, 'train_steps_per_second': 13.289, 'total_flos': 264934797312000.0, 'train_loss': 0.3034129943847656, 'epoch': 2.0})"
      ]
     },
     "execution_count": 5,
     "metadata": {},
     "output_type": "execute_result"
    }
   ],
   "source": [
    "import nlputils\n",
    "model = load_model('distilbert-base-uncased')\n",
    "tokenized_data = tokenize_dataset(ds, tokenizer_name='distilbert-base-uncased', max_length = 64)\n",
    "nlputils.train(model, tokenized_data)"
   ]
  },
  {
   "cell_type": "code",
   "execution_count": 6,
   "id": "9268212b-573e-4c5e-89eb-d307592929cd",
   "metadata": {},
   "outputs": [],
   "source": [
    "tokenizer = AutoTokenizer.from_pretrained('distilbert-base-uncased')"
   ]
  },
  {
   "cell_type": "code",
   "execution_count": 14,
   "id": "c62da0dc-ebbf-4e35-b7db-f22dcb916fef",
   "metadata": {},
   "outputs": [],
   "source": [
    "def predict_sentences(sentences):\n",
    "    encoded = [[101] +[tokenizer._convert_token_to_id_with_added_voc(token) for token in tokens] + [102]         \n",
    "               for tokens in sentences]\n",
    "    #encoded = tokenizer.encode(sentences, add_special_tokens=True, return_tensors=\"pt\").to(device)\n",
    "    to_pred = torch.tensor(encoded, device=device)\n",
    "    outputs = model(to_pred)[0]\n",
    "    print(outputs)\n",
    "    return torch.argmax(outputs, dim=1).cpu().numpy()"
   ]
  },
  {
   "cell_type": "code",
   "execution_count": 6,
   "id": "3b0d8eab-770c-4e02-b446-45fcedcd56be",
   "metadata": {},
   "outputs": [
    {
     "name": "stderr",
     "output_type": "stream",
     "text": [
      "Configuration saved in distilBert-corona/config.json\n",
      "Model weights saved in distilBert-corona/pytorch_model.bin\n"
     ]
    }
   ],
   "source": [
    "model.save_pretrained('distilBert-corona/')"
   ]
  },
  {
   "cell_type": "code",
   "execution_count": 12,
   "id": "74521277-10e9-42c5-a715-3a3bc0e826ce",
   "metadata": {},
   "outputs": [],
   "source": [
    "model = AutoModelForSequenceClassification.from_pretrained('distilBert-corona', num_labels=2, torchscript=True).to(device)\n",
    "model = model.eval()"
   ]
  },
  {
   "cell_type": "code",
   "execution_count": 19,
   "id": "b253f7ff-c27c-491c-aaac-d0f8f5a26bd7",
   "metadata": {},
   "outputs": [],
   "source": [
    "encoded = tokenizer.encode(\"i love movies\", add_special_tokens=True, return_tensors=\"pt\").to(device)\n",
    "traced_model = torch.jit.trace(model, encoded)"
   ]
  },
  {
   "cell_type": "code",
   "execution_count": null,
   "id": "8a00a2b6-d259-4a44-88ef-40d00e072a79",
   "metadata": {},
   "outputs": [],
   "source": [
    "torch.jit.save(traced_model, \"traced_bert-corona.pt\")"
   ]
  },
  {
   "cell_type": "code",
   "execution_count": 20,
   "id": "ff792ff7-f7db-420c-b49b-e4f869980a95",
   "metadata": {},
   "outputs": [
    {
     "name": "stdout",
     "output_type": "stream",
     "text": [
      "tensor([[ 1.9930, -2.4401]], device='cuda:0', grad_fn=<AddmmBackward0>)\n"
     ]
    },
    {
     "data": {
      "text/plain": [
       "array([0])"
      ]
     },
     "execution_count": 20,
     "metadata": {},
     "output_type": "execute_result"
    }
   ],
   "source": [
    "predict_sentences([tokenizer.tokenize(\"i hate movies\")])"
   ]
  },
  {
   "cell_type": "code",
   "execution_count": null,
   "id": "c3f78468-a33a-4426-a8d8-4395ec346516",
   "metadata": {},
   "outputs": [],
   "source": []
  }
 ],
 "metadata": {
  "kernelspec": {
   "display_name": "Python 3 (ipykernel)",
   "language": "python",
   "name": "python3"
  },
  "language_info": {
   "codemirror_mode": {
    "name": "ipython",
    "version": 3
   },
   "file_extension": ".py",
   "mimetype": "text/x-python",
   "name": "python",
   "nbconvert_exporter": "python",
   "pygments_lexer": "ipython3",
   "version": "3.8.6"
  }
 },
 "nbformat": 4,
 "nbformat_minor": 5
}
