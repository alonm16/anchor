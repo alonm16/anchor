{
 "cells": [
  {
   "cell_type": "code",
   "execution_count": 1,
   "id": "5073ae0a-f2d7-4f9e-95c1-3353fef4304d",
   "metadata": {},
   "outputs": [],
   "source": [
    "# Setup\n",
    "%matplotlib inline\n",
    "%load_ext autoreload\n",
    "%autoreload 2\n",
    "import warnings\n",
    "import spacy\n",
    "from modified_anchor import anchor_text\n",
    "import pickle\n",
    "import myUtils\n",
    "from myUtils import *\n",
    "from transformer.utils import *\n",
    "from dataset.dataset_loader import *\n",
    "import datetime\n",
    "\n",
    "SEED = 84\n",
    "torch.manual_seed(SEED)\n",
    "warnings.simplefilter(\"ignore\")\n",
    "device = torch.device('cuda' if torch.cuda.is_available() else 'cpu')"
   ]
  },
  {
   "cell_type": "code",
   "execution_count": 2,
   "id": "2444c8e5-2a8b-4797-9248-46565487f5a2",
   "metadata": {},
   "outputs": [
    {
     "name": "stdout",
     "output_type": "stream",
     "text": [
      "18046\n",
      "15398\n",
      "Number of tokens in training samples: 8755\n",
      "Number of tokens in training labels: 2\n"
     ]
    }
   ],
   "source": [
    "# can be sentiment/spam/offensive/corona\n",
    "dataset_name = 'corona'\n",
    "optimization = 'topk2'\n",
    "folder_name = f'{dataset_name}-{optimization}' if len(optimization)>0 else dataset_name\n",
    "text_parser, label_parser, ds_train, ds_val = get_dataset(dataset_name)"
   ]
  },
  {
   "cell_type": "code",
   "execution_count": 3,
   "id": "153fa98e-e8bc-4543-8f98-e5fde929cc1d",
   "metadata": {},
   "outputs": [
    {
     "name": "stdout",
     "output_type": "stream",
     "text": [
      "{'embedding_dim': 100, 'batch_size': 32, 'hidden_dim': 256, 'num_layers': 2, 'dropout': 0.3, 'lr': 5e-05, 'early_stopping': 5, 'output_classes': 2}\n",
      "VanillaGRU(\n",
      "  (embedding_layer): Embedding(8755, 100)\n",
      "  (GRU_layer): GRU(100, 256, num_layers=2, dropout=0.3)\n",
      "  (dropout_layer): Dropout(p=0.3, inplace=False)\n",
      "  (fc): Linear(in_features=256, out_features=2, bias=True)\n",
      "  (log_softmax): LogSoftmax(dim=1)\n",
      ")\n"
     ]
    }
   ],
   "source": [
    "model = load_model('gru' , f'transformer/{dataset_name}/gru.pt', text_parser)\n",
    "myUtils.model = torch.jit.script(model)\n",
    "myUtils.text_parser = text_parser"
   ]
  },
  {
   "cell_type": "markdown",
   "id": "fc0ae844-8cfc-48c9-b46f-c41106d4dd8e",
   "metadata": {
    "tags": []
   },
   "source": [
    "# Anchor Part"
   ]
  },
  {
   "cell_type": "code",
   "execution_count": 4,
   "id": "1da1181f-98b5-4f15-9896-d4a99cf231be",
   "metadata": {},
   "outputs": [],
   "source": [
    "nlp = spacy.load('en_core_web_sm')"
   ]
  },
  {
   "cell_type": "code",
   "execution_count": 5,
   "id": "c976b285-caee-439e-870d-a43850a4551c",
   "metadata": {},
   "outputs": [],
   "source": [
    "explainer = anchor_text.AnchorText(nlp, ['positive', 'negative'], use_unk_distribution=False)"
   ]
  },
  {
   "cell_type": "markdown",
   "id": "fa74e7fe-f7b1-4544-b3f6-5485e00a9ecc",
   "metadata": {},
   "source": [
    "# Loading Results"
   ]
  },
  {
   "cell_type": "code",
   "execution_count": 7,
   "id": "ba2781ed-fb71-478e-9d30-e393c645b769",
   "metadata": {},
   "outputs": [],
   "source": [
    "test = np.array(pickle.load(open(f\"{folder_name}/test.pickle\", \"rb\" )))\n",
    "test_labels = np.array(pickle.load(open(f\"{folder_name}/test_labels.pickle\", \"rb\" )))\n",
    "explanations  = pickle.load(open(f\"{folder_name}/exps_list.pickle\", \"rb\" ))\n",
    "anchor_examples = pickle.load(open(f\"{folder_name}/anchor_examples.pickle\", \"rb\" ))"
   ]
  },
  {
   "cell_type": "code",
   "execution_count": null,
   "id": "a1a5f566-1476-4b96-b5f9-2366fd83f0d1",
   "metadata": {},
   "outputs": [],
   "source": [
    "len(anchor_examples)"
   ]
  },
  {
   "cell_type": "code",
   "execution_count": 14,
   "id": "0157d1c2-7146-4945-9c93-30f1d2a12151",
   "metadata": {},
   "outputs": [
    {
     "data": {
      "text/plain": [
       "51631"
      ]
     },
     "execution_count": 14,
     "metadata": {},
     "output_type": "execute_result"
    }
   ],
   "source": [
    "len(explanations)"
   ]
  },
  {
   "cell_type": "code",
   "execution_count": 8,
   "id": "857cef8f-598b-4633-874b-86dc55dfa8ac",
   "metadata": {},
   "outputs": [],
   "source": [
    "if not os.path.exists(f\"{folder_name}/predictions.pickle\"):\n",
    "    predictions = [predict_sentences([str(anchor_example)])[0] for anchor_example in anchor_examples]\n",
    "    pickle.dump( predictions, open(f\"{folder_name}/predictions.pickle\", \"wb\" ))\n",
    "    \n",
    "labels = pickle.load(open(f\"{folder_name}/predictions.pickle\", \"rb\" ))"
   ]
  },
  {
   "cell_type": "code",
   "execution_count": 9,
   "id": "fcf8368d-4154-4bdb-bd79-017fd65aa076",
   "metadata": {},
   "outputs": [],
   "source": [
    "from functools import reduce\n",
    "# get all anchor above 0.95, multiple in a sentence but word counts only once in a sentence\n",
    "def get_best(explanations):\n",
    "    best_exps = dict()\n",
    "    for exp in explanations:\n",
    "        if exp.precision < 0.95:\n",
    "            continue\n",
    "        if exp.index not in best_exps.keys():\n",
    "            best_exps[exp.index]=[exp]\n",
    "        # if word already appeard in sentence\n",
    "        elif any([cur_exp.names[0]==exp.names[0] for cur_exp in best_exps[exp.index]]):\n",
    "            continue\n",
    "        else:\n",
    "            best_exps[exp.index].append(exp)\n",
    "    print(len(best_exps))\n",
    "    return reduce(lambda x,y: x+y, best_exps.values())"
   ]
  },
  {
   "cell_type": "code",
   "execution_count": 10,
   "id": "931f7a26-bdb7-4cbe-b2ee-6f9fde16110b",
   "metadata": {},
   "outputs": [],
   "source": [
    "from collections import Counter\n",
    "\n",
    "def get_anchor_occurences(explanations):\n",
    "    c = Counter()\n",
    "    for exp in explanations:\n",
    "        c.update([exp.names[0]])\n",
    " \n",
    "    return c\n",
    "\n",
    "def get_normal_occurences(sentences, anchor_occurences):\n",
    "    c = Counter()\n",
    "    for sentence in sentences:\n",
    "        c.update([x.text for x in nlp.tokenizer(sentence)])\n",
    "   \n",
    "    #removing occurences of the words as anchor\n",
    "    for word in anchor_occurences.keys():\n",
    "        c[word]-=anchor_occurences[word]\n",
    "        \n",
    "    return c\n",
    "\n",
    "def smooth_before(normal_occurences, anchor_occurences_list):\n",
    "    for w in normal_occurences:\n",
    "        normal_occurences[w]+=1\n",
    "        for anchor_occurences in anchor_occurences_list:\n",
    "            anchor_occurences[w]+=1\n",
    "\n",
    "def smooth_after(teta1, type_occurences):\n",
    "    # removing words we added 1 at the start smooth\n",
    "    words = list(teta1.keys())\n",
    "    for word in words:\n",
    "        if type_occurences[word]<=1:\n",
    "            del teta1[word]\n",
    "    \n",
    "    min_val = min(teta1.values())\n",
    "    if min_val<0:\n",
    "        for w in teta1:\n",
    "            teta1[w]-= min_val\n",
    "        sum_val = sum(teta1.values())\n",
    "        for w in teta1:\n",
    "            teta1[w]= teta1[w]/sum_val"
   ]
  },
  {
   "cell_type": "code",
   "execution_count": 11,
   "id": "60535acf-32f9-4729-9596-eaf3953b39ae",
   "metadata": {},
   "outputs": [],
   "source": [
    "def calculate_teta0(normal_occurences):\n",
    "    teta0 = dict()\n",
    "    sum_occurences = sum(normal_occurences.values())\n",
    "    for word, count in normal_occurences.items():\n",
    "        teta0[word] = count/sum_occurences\n",
    "    \n",
    "    return teta0\n",
    "\n",
    "def calculate_teta1(anchor_occurences, teta0, alpha):\n",
    "    teta1 = dict()\n",
    "    sum_occurences = sum(anchor_occurences.values())\n",
    "    for word, count in anchor_occurences.items():\n",
    "        teta1[word] = count/sum_occurences -(1-alpha)*teta0[word]\n",
    "        teta1[word] = teta1[word]/alpha\n",
    "    \n",
    "    return teta1"
   ]
  },
  {
   "cell_type": "code",
   "execution_count": 12,
   "id": "a7ae53ce-91e5-4f7a-8f46-256b4c6c9c19",
   "metadata": {},
   "outputs": [],
   "source": [
    "def calculate_scores_double():\n",
    "    alphas = [0.95, 0.8, 0.65, 0.5]\n",
    "    dfs = []\n",
    "    columns = ['name', 'anchor score', 'type', 'type occurences', 'total occurences','+%', '-%', 'both', 'normal']\n",
    "    \n",
    "    exps = get_best(explanations)\n",
    "    pos_exps = [exp for exp in exps if labels[exp.index]==0]\n",
    "    neg_exps = [exp for exp in exps if labels[exp.index]==1]\n",
    "    \n",
    "    anchor_occurences = get_anchor_occurences(exps)\n",
    "    pos_occurences = get_anchor_occurences(pos_exps)\n",
    "    neg_occurences = get_anchor_occurences(neg_exps)\n",
    "    \n",
    "    normal_occurences = get_normal_occurences(anchor_examples, anchor_occurences)\n",
    "    smooth_before(normal_occurences, [pos_occurences, neg_occurences])\n",
    "\n",
    "    teta0 = calculate_teta0(normal_occurences)\n",
    "    \n",
    "    \n",
    "    for alpha in alphas:\n",
    "        df_list = []\n",
    "        \n",
    "        teta_pos = calculate_teta1(pos_occurences, teta0, alpha)\n",
    "        smooth_after(teta_pos, pos_occurences)\n",
    "        \n",
    "        teta_neg = calculate_teta1(neg_occurences, teta0, alpha)\n",
    "        smooth_after(teta_neg, neg_occurences)\n",
    "        \n",
    "        # substracting 1 because of the smoothing\n",
    "        for anchor, score in teta_pos.items():\n",
    "            pos_percent = round((pos_occurences[anchor]-1)/anchor_occurences[anchor], 2)\n",
    "            neg_percent = 1-pos_percent\n",
    "            both = (pos_occurences[anchor]-1)>0 and (neg_occurences[anchor]-1)>0\n",
    "            df_list.append([anchor, score , '+', pos_occurences[anchor]-1, anchor_occurences[anchor], pos_percent, neg_percent, both,  normal_occurences[anchor]-1]) \n",
    "            \n",
    "        \n",
    "        for anchor, score in teta_neg.items():\n",
    "            pos_percent = round((pos_occurences[anchor]-1)/anchor_occurences[anchor], 2)\n",
    "            neg_percent = 1-pos_percent\n",
    "            both = (pos_occurences[anchor]-1)>0 and (neg_occurences[anchor]-1)>0\n",
    "            df_list.append([anchor, score , '-', neg_occurences[anchor]-1, anchor_occurences[anchor], pos_percent, neg_percent, both,  normal_occurences[anchor]-1]) \n",
    "            \n",
    "        df_list.sort(key=lambda exp: -exp[1])\n",
    "        df = pd.DataFrame(data = df_list, columns = columns ).set_index('name')\n",
    "        \n",
    "        dfs.append(df)\n",
    "        \n",
    "    writer = pd.ExcelWriter(f'{folder_name}/formalized_scores_double.xlsx',engine='xlsxwriter') \n",
    "    \n",
    "    workbook=writer.book\n",
    "    worksheet=workbook.add_worksheet('Sheet1')\n",
    "    writer.sheets['Sheet1'] = worksheet\n",
    "    \n",
    "    cur_col = 0\n",
    "    \n",
    "    for df, alpha in zip(dfs, alphas):\n",
    "        worksheet.write(0, cur_col, alpha)\n",
    "        df.to_excel(writer, sheet_name=f'Sheet1', startrow=1, startcol=cur_col)\n",
    "        cur_col+= len(columns) + 1\n",
    "\n",
    "    writer.save()"
   ]
  },
  {
   "cell_type": "code",
   "execution_count": 13,
   "id": "245d0db5-007c-4b77-83bc-dd588c65fa1f",
   "metadata": {},
   "outputs": [
    {
     "name": "stdout",
     "output_type": "stream",
     "text": [
      "2187\n"
     ]
    }
   ],
   "source": [
    "calculate_scores_double()"
   ]
  },
  {
   "cell_type": "code",
   "execution_count": 18,
   "id": "a652cc91-4048-4b6d-95e3-3d6fb342ea7a",
   "metadata": {},
   "outputs": [],
   "source": [
    "def compare_loss(path1, path2):\n",
    "    results = []\n",
    "    \n",
    "    def intersect_df(d1, d2, top):\n",
    "        s1 = set(d1.head(top).tolist())\n",
    "        s2 = set(d2.head(top).tolist())\n",
    "        percentage = len(s1.intersection(s2))/top\n",
    "        \n",
    "        return percentage\n",
    "              \n",
    "    alphas = [0.95, 0.8, 0.65, 0.5]\n",
    "    top = 25\n",
    "    df1 = pd.read_excel(path1).drop(0)\n",
    "    df2 = pd.read_excel(path2).drop(0)\n",
    "    \n",
    "    for i, alpha in enumerate(alphas):\n",
    "        \n",
    "        all_percentage = intersect_df(df1[alpha], df2[alpha], top*2)\n",
    "     \n",
    "        pos_df1 = df1[df1.iloc[:,2+i*10]=='+']\n",
    "        pos_df2 = df2[df2.iloc[:,2+i*10]=='+']\n",
    "        neg_df1 = df1[df1.iloc[:,2+i*10]=='-']\n",
    "        neg_df2 = df2[df2.iloc[:,2+i*10]=='-']\n",
    "\n",
    "        \n",
    "        pos_percentage = intersect_df(pos_df1[alpha], pos_df2[alpha], top)\n",
    "        \n",
    "        neg_percentage = intersect_df(neg_df1[alpha], neg_df2[alpha], top)\n",
    "        \n",
    "        results.append([alpha, all_percentage, pos_percentage, neg_percentage])\n",
    "    \n",
    "    df = pd.DataFrame(data = results, columns = ['alpha', 'all', 'pos', 'neg']).set_index('alpha')\n",
    "    return df"
   ]
  },
  {
   "cell_type": "code",
   "execution_count": 19,
   "id": "9680f27a-fa4f-47f3-ad50-a16d6bddb6ef",
   "metadata": {},
   "outputs": [
    {
     "data": {
      "text/html": [
       "<div>\n",
       "<style scoped>\n",
       "    .dataframe tbody tr th:only-of-type {\n",
       "        vertical-align: middle;\n",
       "    }\n",
       "\n",
       "    .dataframe tbody tr th {\n",
       "        vertical-align: top;\n",
       "    }\n",
       "\n",
       "    .dataframe thead th {\n",
       "        text-align: right;\n",
       "    }\n",
       "</style>\n",
       "<table border=\"1\" class=\"dataframe\">\n",
       "  <thead>\n",
       "    <tr style=\"text-align: right;\">\n",
       "      <th></th>\n",
       "      <th>all</th>\n",
       "      <th>pos</th>\n",
       "      <th>neg</th>\n",
       "    </tr>\n",
       "    <tr>\n",
       "      <th>alpha</th>\n",
       "      <th></th>\n",
       "      <th></th>\n",
       "      <th></th>\n",
       "    </tr>\n",
       "  </thead>\n",
       "  <tbody>\n",
       "    <tr>\n",
       "      <th>0.95</th>\n",
       "      <td>0.86</td>\n",
       "      <td>0.92</td>\n",
       "      <td>0.88</td>\n",
       "    </tr>\n",
       "    <tr>\n",
       "      <th>0.80</th>\n",
       "      <td>0.76</td>\n",
       "      <td>0.96</td>\n",
       "      <td>0.92</td>\n",
       "    </tr>\n",
       "    <tr>\n",
       "      <th>0.65</th>\n",
       "      <td>0.72</td>\n",
       "      <td>0.96</td>\n",
       "      <td>0.96</td>\n",
       "    </tr>\n",
       "    <tr>\n",
       "      <th>0.50</th>\n",
       "      <td>0.68</td>\n",
       "      <td>0.96</td>\n",
       "      <td>0.96</td>\n",
       "    </tr>\n",
       "  </tbody>\n",
       "</table>\n",
       "</div>"
      ],
      "text/plain": [
       "        all   pos   neg\n",
       "alpha                  \n",
       "0.95   0.86  0.92  0.88\n",
       "0.80   0.76  0.96  0.92\n",
       "0.65   0.72  0.96  0.96\n",
       "0.50   0.68  0.96  0.96"
      ]
     },
     "execution_count": 19,
     "metadata": {},
     "output_type": "execute_result"
    }
   ],
   "source": [
    "compare_loss(f'{folder_name}/formalized_scores_double.xlsx', f'{dataset_name}/formalized_scores_double.xlsx')"
   ]
  },
  {
   "cell_type": "code",
   "execution_count": null,
   "id": "22589126-6f71-4a2d-a5b5-cc24c552a298",
   "metadata": {},
   "outputs": [],
   "source": []
  }
 ],
 "metadata": {
  "kernelspec": {
   "display_name": "Python 3 (ipykernel)",
   "language": "python",
   "name": "python3"
  },
  "language_info": {
   "codemirror_mode": {
    "name": "ipython",
    "version": 3
   },
   "file_extension": ".py",
   "mimetype": "text/x-python",
   "name": "python",
   "nbconvert_exporter": "python",
   "pygments_lexer": "ipython3",
   "version": "3.8.6"
  }
 },
 "nbformat": 4,
 "nbformat_minor": 5
}
