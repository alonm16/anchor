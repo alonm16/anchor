{
 "cells": [
  {
   "cell_type": "code",
   "execution_count": 1,
   "id": "5073ae0a-f2d7-4f9e-95c1-3353fef4304d",
   "metadata": {},
   "outputs": [],
   "source": [
    "# Setup\n",
    "%matplotlib inline\n",
    "%load_ext autoreload\n",
    "%autoreload 2\n",
    "import os\n",
    "import sys\n",
    "import time\n",
    "import torch\n",
    "import matplotlib.pyplot as plt\n",
    "import warnings\n",
    "import torch.nn as nn\n",
    "import spacy\n",
    "from anchor import anchor_text\n",
    "import pickle\n",
    "from myUtils import *\n",
    "import transformerUtils.models as models\n",
    "\n",
    "SEED = 84\n",
    "torch.manual_seed(SEED)\n",
    "warnings.simplefilter(\"ignore\")"
   ]
  },
  {
   "cell_type": "code",
   "execution_count": 2,
   "id": "f07fc3de-eb19-4f46-bb94-6ad8a334e26a",
   "metadata": {},
   "outputs": [
    {
     "name": "stdout",
     "output_type": "stream",
     "text": [
      "cuda\n"
     ]
    }
   ],
   "source": [
    "plt.rcParams['font.size'] = 20\n",
    "data_dir = os.path.expanduser('~/.pytorch-datasets')\n",
    "device = torch.device('cuda' if torch.cuda.is_available() else 'cpu')\n",
    "print(device)"
   ]
  },
  {
   "cell_type": "code",
   "execution_count": 3,
   "id": "c658cc2a-6339-4653-ac26-1e2b96f08b3c",
   "metadata": {},
   "outputs": [],
   "source": [
    "type_dataset = 'binary' # What kind of dataset to train on trinary, fine_grained or binary"
   ]
  },
  {
   "cell_type": "markdown",
   "id": "2cfc53c2-fc06-416f-914f-cc37591bbdae",
   "metadata": {},
   "source": [
    "# Preparing the Datasets"
   ]
  },
  {
   "cell_type": "code",
   "execution_count": 4,
   "id": "7153763e-eeda-494d-8147-02b34ce6979a",
   "metadata": {},
   "outputs": [],
   "source": [
    "import torchtext.data\n",
    "import torchtext.datasets"
   ]
  },
  {
   "cell_type": "code",
   "execution_count": 5,
   "id": "20d5c575-cdf1-487d-9838-36fe38ae0f9d",
   "metadata": {},
   "outputs": [],
   "source": [
    "def load_dataset(fine_grained = False):\n",
    "    # torchtext Field objects parse text (e.g. a review) and create a tensor representation\n",
    "\n",
    "    # This Field object will be used for tokenizing the movie reviews text\n",
    "    # For this application, tokens ~= words\n",
    "\n",
    "    review_parser = torchtext.legacy.data.Field(\n",
    "        sequential=True, use_vocab=True, lower=True, dtype=torch.long,\n",
    "        tokenize='spacy', tokenizer_language='en_core_web_sm', init_token='sos', eos_token='eos'\n",
    "    )\n",
    "\n",
    "    # This Field object converts the text labels into numeric values (0,1,2)\n",
    "    label_parser = torchtext.legacy.data.Field(\n",
    "        is_target=True, sequential=False, unk_token=None, use_vocab=True\n",
    "    )\n",
    "    \n",
    "    # Load SST, tokenize the samples and labels\n",
    "    # ds_X are Dataset objects which will use the parsers to return tensors\n",
    "    ds_train, ds_valid, ds_test = torchtext.legacy.datasets.SST.splits(\n",
    "        review_parser, label_parser, root=data_dir, fine_grained=fine_grained\n",
    "    )\n",
    "\n",
    "\n",
    "    return review_parser, label_parser, ds_train, ds_valid, ds_test"
   ]
  },
  {
   "cell_type": "code",
   "execution_count": 6,
   "id": "7292e6d5-3aa5-4858-a47d-c795617969b1",
   "metadata": {},
   "outputs": [],
   "source": [
    "def build_vocabulary(review_parser, label_parser, ds_train, min_freq):\n",
    "    review_parser.build_vocab(ds_train, min_freq = min_freq)\n",
    "    label_parser.build_vocab(ds_train, min_freq= min_freq)\n",
    "\n",
    "    print(f\"Number of tokens in training samples: {len(review_parser.vocab)}\")\n",
    "    print(f\"Number of tokens in training labels: {len(label_parser.vocab)}\")\n",
    "    return review_parser, label_parser"
   ]
  },
  {
   "cell_type": "code",
   "execution_count": 7,
   "id": "25c2524d-ed93-48a5-80e0-ce808b7429b8",
   "metadata": {},
   "outputs": [],
   "source": [
    "def print_dataset(ds, classes, type_ds):\n",
    "    print(f'Number of {type_ds} samples: {len(ds)}') \n",
    "    for class_type in classes:\n",
    "        number_of_class = len([example for example in ds if example.label == class_type])\n",
    "        print(f'Number of {class_type} examples {number_of_class}')\n",
    "    print('------------------------------------------------------')"
   ]
  },
  {
   "cell_type": "markdown",
   "id": "47261662-e4ba-4eb0-a95a-a9d27a55fbea",
   "metadata": {},
   "source": [
    "# Creating Binary Dataset"
   ]
  },
  {
   "cell_type": "code",
   "execution_count": 8,
   "id": "7f25d3b7-9b7f-4617-a906-3c5a316b0c44",
   "metadata": {},
   "outputs": [],
   "source": [
    "def filter_neutral(ds):\n",
    "    ds.examples = [example for example in ds.examples if example.label != 'neutral']"
   ]
  },
  {
   "cell_type": "code",
   "execution_count": 9,
   "id": "3ddeed4e-4d4d-44df-9a9b-858573a99612",
   "metadata": {},
   "outputs": [],
   "source": [
    "def create_binary_dataset():\n",
    "    review_parser, label_parser, ds_train, ds_valid, ds_test = load_dataset(fine_grained = False)\n",
    "    review_parser, label_parser = build_vocabulary(review_parser, label_parser, ds_train, min_freq=5)\n",
    "    filter_neutral(ds_train)\n",
    "    filter_neutral(ds_valid)\n",
    "    filter_neutral(ds_test)\n",
    "    print_dataset(ds_train, ['positive', 'negative'], 'training')\n",
    "    print_dataset(ds_valid, ['positive', 'negative'], 'validation')\n",
    "    print_dataset(ds_test, ['positive', 'negative'], 'test')\n",
    "    return review_parser, label_parser, ds_train, ds_valid, ds_test"
   ]
  },
  {
   "cell_type": "code",
   "execution_count": 10,
   "id": "3e900bc1-e4dd-46ff-8322-dafc83666b75",
   "metadata": {},
   "outputs": [
    {
     "name": "stdout",
     "output_type": "stream",
     "text": [
      "Number of tokens in training samples: 3548\n",
      "Number of tokens in training labels: 3\n",
      "Number of training samples: 6920\n",
      "Number of positive examples 3610\n",
      "Number of negative examples 3310\n",
      "------------------------------------------------------\n",
      "Number of validation samples: 872\n",
      "Number of positive examples 444\n",
      "Number of negative examples 428\n",
      "------------------------------------------------------\n",
      "Number of test samples: 1821\n",
      "Number of positive examples 909\n",
      "Number of negative examples 912\n",
      "------------------------------------------------------\n"
     ]
    }
   ],
   "source": [
    "review_parser = None\n",
    "label_parser = None\n",
    "ds_train = None\n",
    "ds_valid = None\n",
    "ds_test = None\n",
    "\n",
    "review_parser, label_parser, ds_train, ds_valid, ds_test = create_binary_dataset()"
   ]
  },
  {
   "cell_type": "markdown",
   "id": "5bfe5f92-979e-4ad7-8554-63d62cb4a735",
   "metadata": {},
   "source": [
    "## Forward Function For Getting Accuracy"
   ]
  },
  {
   "cell_type": "code",
   "execution_count": 30,
   "id": "d9a38f96-6bff-4843-aa81-fdc2f4fe8d15",
   "metadata": {},
   "outputs": [],
   "source": [
    "import tqdm\n",
    "def forward_dl(model, dl, device, type_dl):\n",
    "    model.train(False)\n",
    "    num_samples = len(dl) * dl.batch_size\n",
    "    num_batches = len(dl)  \n",
    "    pbar_name = type(model).__name__\n",
    "    list_y_real = []\n",
    "    list_y_pred = []\n",
    "    pbar_file = sys.stdout\n",
    "    num_correct = 0\n",
    "    dl_iter = iter(dl)\n",
    "    for batch_idx in range(num_batches):\n",
    "        data = next(dl_iter)\n",
    "        x, y = data.text, data.label\n",
    "        list_y_real.append(y)\n",
    "        x = x.to(device)  # (S, B, E)\n",
    "        y = y.to(device)  # (B,)\n",
    "        with torch.no_grad():\n",
    "            if isinstance(model, models.VanillaGRU):\n",
    "                y_pred_log_proba = model(x)\n",
    "            elif isinstance(model, models.MultiHeadAttentionNet):\n",
    "                y_pred_log_proba, _ = model(x)\n",
    "            y_pred = torch.argmax(y_pred_log_proba, dim=1)\n",
    "            num_correct += torch.sum(y_pred == y).float().item()\n",
    "            list_y_pred.append(y_pred)\n",
    "    accuracy = 100.0 * num_correct / num_samples\n",
    "    print(f'Accuracy for {type_dl} is {accuracy}')\n",
    "    \n",
    "    all_y_real = torch.cat(list_y_real)\n",
    "    all_y_pred = torch.cat(list_y_pred)\n",
    "    return all_y_real, all_y_pred, accuracy"
   ]
  },
  {
   "cell_type": "markdown",
   "id": "c65d9936-0842-4972-919a-34fef1817fb7",
   "metadata": {},
   "source": [
    "## Loading Hyper Parameters"
   ]
  },
  {
   "cell_type": "code",
   "execution_count": 11,
   "id": "c7d5b488-66f8-4069-b0b0-82382fe431cf",
   "metadata": {},
   "outputs": [],
   "source": [
    "import transformerUtils.hyperparams as hyperparams\n",
    "def load_hyperparams(model_type, type_dataset):\n",
    "    hp = None\n",
    "    if model_type == 'gru':\n",
    "        hp = hyperparams.hyperparams_for_gru_binary()\n",
    "    elif model_type == 'attention':\n",
    "        hp = hyperparams.hyperparams_for_attention_binary()\n",
    "    print(hp)\n",
    "    return hp"
   ]
  },
  {
   "cell_type": "markdown",
   "id": "8b98c466-feba-43ac-acbe-31411d7a2266",
   "metadata": {},
   "source": [
    "# Load Model"
   ]
  },
  {
   "cell_type": "code",
   "execution_count": 12,
   "id": "a3fedbeb-8050-4159-9e23-611ec26b72b1",
   "metadata": {},
   "outputs": [],
   "source": [
    "def load_model(model_name, path):\n",
    "    if model_name == 'gru':\n",
    "        hp = load_hyperparams(model_name, type_dataset)\n",
    "        model = models.VanillaGRU(review_parser.vocab, hp['embedding_dim'], hp['hidden_dim'], hp['num_layers'], hp['output_classes'], hp['dropout']).to(device)\n",
    "    elif model_name == 'attention':\n",
    "        hp = load_hyperparams(model_name, type_dataset)\n",
    "        model = models.MultiHeadAttentionNet(input_vocabulary=review_parser.vocab, embed_dim=hp['embedding_dim'], num_heads=hp['num_heads'], \n",
    "                                           dropout=hp['dropout'], two_attention_layers=hp['two_atten_layers'], output_classes=hp['output_classes']).to(device)\n",
    "    saved_state = torch.load(path, map_location=device)\n",
    "    model.load_state_dict(saved_state[\"model_state\"])\n",
    "    print(model)\n",
    "    \n",
    "    return model"
   ]
  },
  {
   "cell_type": "code",
   "execution_count": 13,
   "id": "153fa98e-e8bc-4543-8f98-e5fde929cc1d",
   "metadata": {},
   "outputs": [
    {
     "name": "stdout",
     "output_type": "stream",
     "text": [
      "{'embedding_dim': 100, 'batch_size': 32, 'hidden_dim': 256, 'num_layers': 2, 'dropout': 0.7, 'lr': 0.0005, 'early_stopping': 5, 'output_classes': 2}\n",
      "VanillaGRU(\n",
      "  (embedding_layer): Embedding(3548, 100)\n",
      "  (GRU_layer): GRU(100, 256, num_layers=2, dropout=0.7)\n",
      "  (dropout_layer): Dropout(p=0.7, inplace=False)\n",
      "  (fc): Linear(in_features=256, out_features=2, bias=True)\n",
      "  (log_softmax): LogSoftmax(dim=1)\n",
      ")\n"
     ]
    }
   ],
   "source": [
    "model = load_model('gru' , 'transformerUtils/gru.pt')"
   ]
  },
  {
   "cell_type": "code",
   "execution_count": 14,
   "id": "459d3230-e32a-435c-a0eb-b52ccf07133a",
   "metadata": {},
   "outputs": [],
   "source": [
    "# 1 = pad 2=sos 3 = eof \n",
    "def tokenize(text, max_len):\n",
    "    sentence = review_parser.tokenize(str(text))\n",
    "    input_tokens = [2] + [review_parser.vocab.stoi[word] for word in sentence] + [3] + [1]*(max_len-len(sentence))\n",
    "\n",
    "    return input_tokens"
   ]
  },
  {
   "cell_type": "code",
   "execution_count": 50,
   "id": "d5f77028-4510-4882-aa43-847c91ab3cc0",
   "metadata": {},
   "outputs": [],
   "source": [
    "def predict_sentences(sentences):\n",
    "    half_length = len(sentences)//2\n",
    "    if(half_length>800):\n",
    "        return np.concatenate([predict_sentences(sentences[:half_length]), predict_sentences(sentences[half_length:])])\n",
    "    max_len = max([len(sentence) for sentence in sentences])\n",
    "    sentences = torch.tensor([tokenize(sentence, max_len) for sentence in sentences]).to(device)\n",
    "    input_tokens = torch.transpose(sentences, 0, 1)\n",
    "    output = model(input_tokens)\n",
    "    return torch.argmax(output, dim=1).cpu().numpy().flatten()"
   ]
  },
  {
   "cell_type": "markdown",
   "id": "fc0ae844-8cfc-48c9-b46f-c41106d4dd8e",
   "metadata": {},
   "source": [
    "# Anchor Part"
   ]
  },
  {
   "cell_type": "code",
   "execution_count": 16,
   "id": "1da1181f-98b5-4f15-9896-d4a99cf231be",
   "metadata": {},
   "outputs": [],
   "source": [
    "nlp = spacy.load('en_core_web_sm')"
   ]
  },
  {
   "cell_type": "code",
   "execution_count": 17,
   "id": "c976b285-caee-439e-870d-a43850a4551c",
   "metadata": {},
   "outputs": [],
   "source": [
    "explainer = anchor_text.AnchorText(nlp, ['positive', 'negative'], use_unk_distribution=False)"
   ]
  },
  {
   "cell_type": "code",
   "execution_count": 25,
   "id": "1311a37d-a716-4bc8-9bd4-e2681f1851c4",
   "metadata": {},
   "outputs": [],
   "source": [
    "train, train_labels = [' '.join(example.text) for example in ds_train], [example.label for example in ds_train]\n",
    "test, test_labels = [' '.join(example.text) for example in ds_train], [example.label for example in ds_train]"
   ]
  },
  {
   "cell_type": "code",
   "execution_count": 20,
   "id": "6358237f-3408-43ff-b1c7-b0c880396138",
   "metadata": {},
   "outputs": [],
   "source": [
    "anchor_examples = [example for example in train if len(example) < 70 and len(example)>20]"
   ]
  },
  {
   "cell_type": "code",
   "execution_count": 21,
   "id": "42bf0d93-b907-426f-828a-ffc1c5df31b4",
   "metadata": {},
   "outputs": [],
   "source": [
    "pickle.dump( test, open( \"results/transformer_test.pickle\", \"wb\" ))\n",
    "pickle.dump( test_labels, open( \"results/transformer_test_labels.pickle\", \"wb\" ))"
   ]
  },
  {
   "cell_type": "code",
   "execution_count": null,
   "id": "48f4f322-c91e-47b0-b483-e1a335f346c7",
   "metadata": {},
   "outputs": [],
   "source": [
    "my_utils = TextUtils(anchor_examples, test, explainer, predict_sentences, \"results/transformer_exps.pickle\")\n",
    "explanations = my_utils.compute_explanations(list(range(len(anchor_examples))))"
   ]
  },
  {
   "cell_type": "code",
   "execution_count": null,
   "id": "167b36ee-6331-4696-bf56-5a3210db057c",
   "metadata": {},
   "outputs": [],
   "source": [
    "pickle.dump( explanations, open( \"results/transformer_exps_list.pickle\", \"wb\" ))"
   ]
  },
  {
   "cell_type": "markdown",
   "id": "5dafb290-ff2c-43a7-b5d9-ca096a1647d8",
   "metadata": {
    "jp-MarkdownHeadingCollapsed": true,
    "tags": []
   },
   "source": [
    "## Training Function\n",
    "\n",
    "### Saves all the the output in the output directory"
   ]
  },
  {
   "cell_type": "code",
   "execution_count": null,
   "id": "4d03c1c3-e77b-4bde-9b0d-d35aca342ab2",
   "metadata": {},
   "outputs": [],
   "source": [
    "import torch.optim as optim\n",
    "import training\n",
    "import plot\n",
    "import numpy as np\n",
    "import pandas as pd\n",
    "from pathlib import Path\n",
    "def train_model(model_name, device):\n",
    "    NUM_EPOCHS = 100\n",
    "    if model_name == 'gru':\n",
    "        hp = load_hyperparams(model_name, type_dataset)\n",
    "        model = models.VanillaGRU(review_parser.vocab, hp['embedding_dim'], hp['hidden_dim'], hp['num_layers'], hp['output_classes'], hp['dropout']).to(device)\n",
    "    elif model_name == 'attention':\n",
    "        hp = load_hyperparams(model_name, type_dataset)\n",
    "        model = models.MultiHeadAttentionNet(input_vocabulary=review_parser.vocab, embed_dim=hp['embedding_dim'], num_heads=hp['num_heads'], \n",
    "                                           dropout=hp['dropout'], two_attention_layers=hp['two_atten_layers'], output_classes=hp['output_classes']).to(device)\n",
    "    print(model)\n",
    "    dl_train, dl_valid, dl_test = torchtext.data.BucketIterator.splits((ds_train, ds_valid, ds_test), batch_size=hp['batch_size'], shuffle=True, device=device)\n",
    "\n",
    "    optimizer = optim.Adam(model.parameters(), lr=hp['lr'])\n",
    "    loss_fn = nn.NLLLoss()\n",
    "    \n",
    "    trainer = training.SentimentTrainer(model, loss_fn, optimizer, device)\n",
    "    checkpoint_filename = str(output_directory) +  '/' + model_name\n",
    "    print(f'Saving checkpoint with prefix: {checkpoint_filename}')\n",
    "    fit_res = trainer.fit(dl_train, dl_valid, NUM_EPOCHS, early_stopping = hp['early_stopping'], checkpoints = checkpoint_filename, params = hp)\n",
    "\n",
    "    fig, axes = plot.plot_fit(fit_res)\n",
    "    fig.savefig(output_directory / str(model_name + '.png'))\n",
    "    saved_state = torch.load(checkpoint_filename + '.pt', map_location=device)\n",
    "    model.load_state_dict(saved_state[\"model_state\"])\n",
    "    loaded_hp = saved_state[\"parameters\"]\n",
    "    print('----- Loaded params ------')\n",
    "    print(loaded_hp)\n",
    "    all_dataloaders = [dl_train, dl_valid, dl_test]\n",
    "    type_dls = ['train', 'valid', 'test']\n",
    "    accuracies = []\n",
    "    for dl, type_dl in zip(all_dataloaders, type_dls):\n",
    "        y_real, y_pred, accuracy = forward_dl(model, dl, device, type_dl)\n",
    "        df = compute_confusion_matrix(y_real, y_pred, model_name, type_dl)\n",
    "        accuracies.append(accuracy)\n",
    "        display(df)\n",
    "    numpy_accuracy = np.array(accuracies)\n",
    "    df = pd.DataFrame(numpy_accuracy, index = type_dls, dtype=float)\n",
    "    df.to_csv(output_directory / str('accuracies_' + model_name + '.csv')) "
   ]
  },
  {
   "cell_type": "markdown",
   "id": "e441f304-4ae5-4c1d-afd5-941b77585aa2",
   "metadata": {
    "tags": []
   },
   "source": [
    "# Training GRU"
   ]
  },
  {
   "cell_type": "code",
   "execution_count": null,
   "id": "a16d185d-2147-483d-9304-d32103c19b4f",
   "metadata": {},
   "outputs": [],
   "source": [
    "SEED = 84\n",
    "torch.manual_seed(SEED)\n",
    "#train_model(model_type, device)"
   ]
  },
  {
   "cell_type": "markdown",
   "id": "547e2ddf-b673-4748-82aa-8a016c7efbb6",
   "metadata": {},
   "source": [
    "# Training Attention"
   ]
  },
  {
   "cell_type": "code",
   "execution_count": null,
   "id": "b834790e-aad3-4c29-9a2b-5f2ce1abec09",
   "metadata": {},
   "outputs": [],
   "source": [
    "SEED = 84\n",
    "torch.manual_seed(SEED)\n",
    "#train_model('attention', device)"
   ]
  },
  {
   "cell_type": "markdown",
   "id": "fa74e7fe-f7b1-4544-b3f6-5485e00a9ecc",
   "metadata": {},
   "source": [
    "# Loading Results"
   ]
  },
  {
   "cell_type": "code",
   "execution_count": 37,
   "id": "ba2781ed-fb71-478e-9d30-e393c645b769",
   "metadata": {},
   "outputs": [],
   "source": [
    "test = pickle.load( open( \"results/transformer_test.pickle\", \"rb\" ))\n",
    "test_labels = pickle.load( open( \"results/transformer_test_labels.pickle\", \"rb\" ))\n",
    "test = np.array(test)\n",
    "test_labels = np.array(test_labels)\n",
    "exps_file  = open( \"results/transformer_exps.pickle\", \"rb\" )\n",
    "num_exps = 500\n",
    "explanations= []"
   ]
  },
  {
   "cell_type": "code",
   "execution_count": 38,
   "id": "28734dda-6d5a-4118-ab64-53d16888fbe9",
   "metadata": {},
   "outputs": [],
   "source": [
    "for _ in range(num_exps):\n",
    "    explanations.append(pickle.load(exps_file))\n",
    "exps_file.close()"
   ]
  },
  {
   "cell_type": "code",
   "execution_count": 39,
   "id": "d48b8c50-03e4-4634-9548-b176aeaaa3d2",
   "metadata": {},
   "outputs": [],
   "source": [
    "myUtils =  TextUtils(test, test, None, None, \"results/transformer_exps.pickle\")\n",
    "explanations = myUtils.remove_duplicates(explanations)\n",
    "explanations = [exp for exp in explanations if len(exp.fit_examples) > 10]\n",
    "explanations.sort(key=lambda exp: exp.precision)"
   ]
  },
  {
   "cell_type": "code",
   "execution_count": 56,
   "id": "e2581016-4483-46a2-95b2-3dde8f5d823f",
   "metadata": {},
   "outputs": [
    {
     "name": "stdout",
     "output_type": "stream",
     "text": [
      "------------------------\n",
      "Prediction: positive\n",
      "Anchor: else\n",
      "Precision: 1.00\n",
      "Coverage: 0.00\n",
      "Anchor test precision: 0.35\n",
      "Anchor test coverage: 0.01\n",
      "Anchor test REAL precision: 0.33\n",
      "------------------------\n",
      "Prediction: positive\n",
      "Anchor: just\n",
      "Precision: 1.00\n",
      "Coverage: 0.00\n",
      "Anchor test precision: 0.34\n",
      "Anchor test coverage: 0.04\n",
      "Anchor test REAL precision: 0.37\n",
      "------------------------\n",
      "Prediction: positive\n",
      "Anchor: loses\n",
      "Precision: 1.00\n",
      "Coverage: 0.00\n",
      "Anchor test precision: 0.35\n",
      "Anchor test coverage: 0.00\n",
      "Anchor test REAL precision: 0.21\n",
      "------------------------\n",
      "Prediction: negative\n",
      "Anchor: same\n",
      "Precision: 1.00\n",
      "Coverage: 0.00\n",
      "Anchor test precision: 0.63\n",
      "Anchor test coverage: 0.01\n",
      "Anchor test REAL precision: 0.62\n",
      "------------------------\n",
      "Prediction: negative\n",
      "Anchor: tries\n",
      "Precision: 1.00\n",
      "Coverage: 0.00\n",
      "Anchor test precision: 0.66\n",
      "Anchor test coverage: 0.00\n",
      "Anchor test REAL precision: 0.80\n",
      "------------------------\n",
      "Prediction: positive\n",
      "Anchor: possibly\n",
      "Precision: 1.00\n",
      "Coverage: 0.00\n",
      "Anchor test precision: 0.36\n",
      "Anchor test coverage: 0.00\n",
      "Anchor test REAL precision: 0.38\n",
      "------------------------\n",
      "Prediction: positive\n",
      "Anchor: by\n",
      "Precision: 1.00\n",
      "Coverage: 0.00\n",
      "Anchor test precision: 0.35\n",
      "Anchor test coverage: 0.07\n",
      "Anchor test REAL precision: 0.51\n",
      "------------------------\n",
      "Prediction: positive\n",
      "Anchor: no\n",
      "Precision: 1.00\n",
      "Coverage: 0.00\n",
      "Anchor test precision: 0.37\n",
      "Anchor test coverage: 0.21\n",
      "Anchor test REAL precision: 0.47\n",
      "------------------------\n",
      "Prediction: positive\n",
      "Anchor: already\n",
      "Precision: 1.00\n",
      "Coverage: 0.00\n",
      "Anchor test precision: 0.35\n",
      "Anchor test coverage: 0.00\n",
      "Anchor test REAL precision: 0.14\n",
      "------------------------\n",
      "Prediction: positive\n",
      "Anchor: more\n",
      "Precision: 1.00\n",
      "Coverage: 0.00\n",
      "Anchor test precision: 0.35\n",
      "Anchor test coverage: 0.06\n",
      "Anchor test REAL precision: 0.45\n"
     ]
    }
   ],
   "source": [
    "best = explanations[-10:]\n",
    "best.reverse()\n",
    "for exp in best:\n",
    "    print(\"------------------------\")\n",
    "    exp_label =  predict_sentences([str(test[exp.index])])[0]\n",
    "    print('Prediction:', explainer.class_names[exp_label])\n",
    "    print('Anchor: %s' % (' AND '.join(exp.names)))\n",
    "    print('Precision: %.2f' % exp.precision)\n",
    "    print('Coverage: %.2f' % exp.coverage)\n",
    "    print('Anchor test precision: %.2f' % (np.mean(predict_sentences(str(test[exp.fit_examples])) == exp_label)))\n",
    "    print('Anchor test coverage: %.2f' % (exp.test_cov))\n",
    "    covered_labels = test_labels[exp.fit_examples]\n",
    "    real_percentage = np.mean(covered_labels == explainer.class_names[exp_label])\n",
    "    print('Anchor test REAL precision: %.2f' % real_percentage)"
   ]
  },
  {
   "cell_type": "code",
   "execution_count": 61,
   "id": "c08f47d1-1faa-4a73-9d86-b1bbd7a9b3bd",
   "metadata": {},
   "outputs": [],
   "source": [
    "exps = explanations[-len(explanations)//2:]\n",
    "exps = [exp for exp in exps if len(exp.fit_examples)>0]\n",
    "real_precisions = [np.mean(test_labels[exp.fit_examples] == explainer.class_names[predict_sentences([str(test[exp.index])])[0]])\n",
    "                   for exp in exps]\n",
    "test_precisions = [np.mean(predict_sentences(test[exp.fit_examples]) == predict_sentences([str(test[exp.index])])[0]) \n",
    "                   for exp in exps]"
   ]
  },
  {
   "cell_type": "code",
   "execution_count": 62,
   "id": "f076539d-1a41-4388-b5bf-c6bc0db9e648",
   "metadata": {},
   "outputs": [
    {
     "data": {
      "image/png": "[encoded data removed]",
      "text/plain": [
       "<Figure size 432x288 with 1 Axes>"
      ]
     },
     "metadata": {
      "needs_background": "light"
     },
     "output_type": "display_data"
    }
   ],
   "source": [
    "plt.scatter(test_precisions, real_precisions, s = range(len(exps)), alpha = 0.5)\n",
    "plt.xlabel('test precision')\n",
    "plt.ylabel('real precision')\n",
    "plt.title('text anchor experiment')\n",
    "plt.savefig(\"results/transformer.png\")"
   ]
  },
  {
   "cell_type": "code",
   "execution_count": 63,
   "id": "5149119b-0d56-46b5-ae15-38d1b6b9fa2a",
   "metadata": {},
   "outputs": [
    {
     "data": {
      "image/png": "[encoded data removed]",
      "text/plain": [
       "<Figure size 720x720 with 1 Axes>"
      ]
     },
     "metadata": {
      "needs_background": "light"
     },
     "output_type": "display_data"
    }
   ],
   "source": [
    "img = plt.imread(\"results/transformer.png\")\n",
    "plt.figure(figsize = (10,10))\n",
    "plt.axis('off')\n",
    "_ = plt.imshow(img)"
   ]
  }
 ],
 "metadata": {
  "kernelspec": {
   "display_name": "Python 3",
   "language": "python",
   "name": "python3"
  },
  "language_info": {
   "codemirror_mode": {
    "name": "ipython",
    "version": 3
   },
   "file_extension": ".py",
   "mimetype": "text/x-python",
   "name": "python",
   "nbconvert_exporter": "python",
   "pygments_lexer": "ipython3",
   "version": "3.8.6"
  }
 },
 "nbformat": 4,
 "nbformat_minor": 5
}
